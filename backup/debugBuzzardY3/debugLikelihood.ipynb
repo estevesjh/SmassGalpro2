{
 "cells": [
  {
   "cell_type": "markdown",
   "id": "94eb31c7-38ca-4ea1-901e-c3a16cb9104b",
   "metadata": {},
   "source": [
    "# Debug Likelihood\n",
    "\n",
    "I hope to debug my current likelihood implementation. The challenge is to set the right data structure of the covariance data."
   ]
  },
  {
   "cell_type": "markdown",
   "id": "db9eb962-6e6b-4b8b-b946-49b10305c0b6",
   "metadata": {},
   "source": [
    "## Check Output Shape"
   ]
  },
  {
   "cell_type": "code",
   "execution_count": 5,
   "id": "c7a0e6ae-652f-4c08-afc2-bbeff855d0a4",
   "metadata": {},
   "outputs": [
    {
     "name": "stdout",
     "output_type": "stream",
     "text": [
      "/global/common/software/des/jesteves/y3_cluster_cpp/y3_buzzard/datablock_0/\n",
      "\n",
      "avgwp\t\t      correlationfunction      mass_function\t priors\n",
      "cdm_baryon_power_lin  cosmological_parameters  matter_power_lin  recfast\n",
      "cdm_baryon_power_nl   distances\t\t       matter_power_nl\t shear\n",
      "cluster_abundance     growth_parameters        mstar\t\t sigmacritinv\n",
      "cmb_cl\t\t      kappa\t\t       numbercounts\t wp\n"
     ]
    }
   ],
   "source": [
    "root = '/global/common/software/des/jesteves/y3_cluster_cpp/y3_buzzard/datablock_0/'\n",
    "print(root)\n",
    "print('')\n",
    "!ls /global/common/software/des/jesteves/y3_cluster_cpp/y3_buzzard/datablock_0/"
   ]
  },
  {
   "cell_type": "code",
   "execution_count": 8,
   "id": "db89ab1c-6d4f-4649-b333-5cf999a5d2f8",
   "metadata": {},
   "outputs": [],
   "source": [
    "import numpy as np\n",
    "def get_block(model,col,dtype=None):\n",
    "    return np.genfromtxt(root+'%s/%s.txt'%(model.lower(), col),dtype=dtype)"
   ]
  },
  {
   "cell_type": "code",
   "execution_count": 56,
   "id": "fcda6da7-09d1-4ec1-9b2c-5ba83ba5b5a1",
   "metadata": {},
   "outputs": [],
   "source": [
    "shear = get_block(\"shear\", \"shear_cen\")"
   ]
  },
  {
   "cell_type": "code",
   "execution_count": 73,
   "id": "331d5377-00e9-44c5-adb6-44ef05dfc8e5",
   "metadata": {},
   "outputs": [
    {
     "data": {
      "text/plain": [
       "(12, 100)"
      ]
     },
     "execution_count": 73,
     "metadata": {},
     "output_type": "execute_result"
    }
   ],
   "source": [
    "shear.shape"
   ]
  },
  {
   "cell_type": "code",
   "execution_count": null,
   "id": "9d4afa23-9195-43d2-9ee4-58c9ad45753f",
   "metadata": {},
   "outputs": [],
   "source": []
  },
  {
   "cell_type": "code",
   "execution_count": 61,
   "id": "86db668c-85ba-4faf-b99c-dea899bfd776",
   "metadata": {},
   "outputs": [],
   "source": [
    "sh1 = shear.reshape(3,4,100)"
   ]
  },
  {
   "cell_type": "code",
   "execution_count": 67,
   "id": "31e1090a-373d-4950-af52-79c8f35a0cf1",
   "metadata": {},
   "outputs": [
    {
     "data": {
      "text/plain": [
       "(2, 3)"
      ]
     },
     "execution_count": 67,
     "metadata": {},
     "output_type": "execute_result"
    }
   ],
   "source": [
    "a = np.array([[0,0,0],[1,1,1]])\n",
    "a.shape"
   ]
  },
  {
   "cell_type": "code",
   "execution_count": 68,
   "id": "200a100e-a562-4a83-a384-37a7c384d7af",
   "metadata": {},
   "outputs": [
    {
     "data": {
      "text/plain": [
       "array([0, 0, 0, 1, 1, 1])"
      ]
     },
     "execution_count": 68,
     "metadata": {},
     "output_type": "execute_result"
    }
   ],
   "source": [
    "a.flatten()"
   ]
  },
  {
   "cell_type": "code",
   "execution_count": 69,
   "id": "24c2f200-ea01-48a9-912e-872f526e1d5c",
   "metadata": {},
   "outputs": [
    {
     "data": {
      "text/plain": [
       "(2, 2, 3)"
      ]
     },
     "execution_count": 69,
     "metadata": {},
     "output_type": "execute_result"
    }
   ],
   "source": [
    "b = np.array([[[0,0,0],[1,1,1]],[[2,2,2],[3,3,3]]])\n",
    "b.shape"
   ]
  },
  {
   "cell_type": "code",
   "execution_count": 71,
   "id": "4f98878d-f0ec-482c-8bc5-13796235830d",
   "metadata": {},
   "outputs": [
    {
     "data": {
      "text/plain": [
       "array([0, 0, 0, 1, 1, 1, 2, 2, 2, 3, 3, 3])"
      ]
     },
     "execution_count": 71,
     "metadata": {},
     "output_type": "execute_result"
    }
   ],
   "source": [
    "b.flatten()"
   ]
  },
  {
   "cell_type": "code",
   "execution_count": 76,
   "id": "8be6d0f1-4952-4c49-b9d4-431997605d81",
   "metadata": {},
   "outputs": [
    {
     "data": {
      "text/plain": [
       "array([[0, 0, 0],\n",
       "       [1, 1, 1]])"
      ]
     },
     "execution_count": 76,
     "metadata": {},
     "output_type": "execute_result"
    }
   ],
   "source": [
    "b[0]"
   ]
  },
  {
   "cell_type": "code",
   "execution_count": 74,
   "id": "4102de82-7255-40ad-87a4-6aa1d26243af",
   "metadata": {},
   "outputs": [],
   "source": [
    "Rp = get_block(\"avgwp\", \"gridpoints\")[:30,2]\n",
    "avgWp = get_block(\"avgwp\", \"vals\")\n",
    "# avgWp = avgWp.reshape(4*3,Rp.size)"
   ]
  },
  {
   "cell_type": "code",
   "execution_count": 75,
   "id": "f0ce61b8-7a98-4f17-a313-fdf5ea5d124a",
   "metadata": {},
   "outputs": [
    {
     "data": {
      "text/plain": [
       "(4, 90)"
      ]
     },
     "execution_count": 75,
     "metadata": {},
     "output_type": "execute_result"
    }
   ],
   "source": [
    "avgWp.shape"
   ]
  },
  {
   "cell_type": "code",
   "execution_count": 17,
   "id": "db96239f-17c8-45cc-acb6-adae005e4ba1",
   "metadata": {},
   "outputs": [
    {
     "data": {
      "text/plain": [
       "array([-10304748.39311901, -10309828.03874237, -10313362.84529974,\n",
       "       -10315353.53879782, -10315807.73100757, -10314461.60738287,\n",
       "       -10311105.97043097, -10305708.21011803, -10298246.5211094 ,\n",
       "       -10288620.86360609, -10276660.28735881, -10261700.02764738,\n",
       "       -10244118.03970216, -10223116.94310054, -10198827.83464191,\n",
       "       -10170748.68299378, -10138504.87429577, -10275686.20482635,\n",
       "       -10812290.59801063, -10766741.1480565 , -10715607.42546337,\n",
       "       -10658107.88792727, -10593407.78616001, -10521384.09614461,\n",
       "       -10440999.34201537, -10351829.97392236, -10252502.64680875,\n",
       "       -10140831.50642867, -10016736.21647215,  -9878852.47482065])"
      ]
     },
     "execution_count": 17,
     "metadata": {},
     "output_type": "execute_result"
    }
   ],
   "source": [
    "avgWp[0][:30]"
   ]
  },
  {
   "cell_type": "code",
   "execution_count": 18,
   "id": "75306f0a-8e47-42cf-b8c8-41275592caaf",
   "metadata": {},
   "outputs": [
    {
     "data": {
      "text/plain": [
       "array([-10215770.1353181 , -10260064.78323385, -10301719.40280471,\n",
       "       -10340351.68004999, -10376610.33946764, -10410271.24277403,\n",
       "       -10440185.25779942, -10467486.14658764, -10491015.45994996,\n",
       "       -10511057.31547363, -10527298.69597513, -10539399.59113617,\n",
       "       -10546748.82453769, -10549511.1731586 , -10547153.26854534,\n",
       "       -10539318.0557429 , -10525278.48377422, -10758765.37928249,\n",
       "       -11578483.40986962, -11544323.49873465, -11501757.42650528,\n",
       "       -11449667.7526211 , -11386594.70427154, -11312531.71195111,\n",
       "       -11226154.99105121, -11126540.31037572, -11011965.4290253 ,\n",
       "       -10879425.19302916, -10728324.48442962, -10556572.07185464,\n",
       "        -1393727.10832033,  -1468157.69335366,  -1539994.15298917,\n",
       "        -1609325.94511245,  -1675910.63099887,  -1740940.73411262,\n",
       "        -1802187.9885343 ,  -1862097.32728204,  -1918084.38315958,\n",
       "        -1971083.90321223,  -2020819.79687149,  -2068081.05303381,\n",
       "        -2109763.11575584,  -2148640.83131452,  -2183333.9727584 ,\n",
       "        -2213918.27643767,  -2239310.01167853,  -2460071.30234484,\n",
       "        -3145517.41864229,  -3154488.35127534,  -3156618.39527637,\n",
       "        -3151223.43569237,  -3136576.24423346,  -3113038.34403035,\n",
       "        -3079648.56837565,  -3035732.26066418,  -2979625.86874998,\n",
       "        -2909274.56323583,  -2823794.62551352,  -2721902.52511502])"
      ]
     },
     "execution_count": 18,
     "metadata": {},
     "output_type": "execute_result"
    }
   ],
   "source": [
    "avgWp[0][30:]"
   ]
  },
  {
   "cell_type": "markdown",
   "id": "42285fe8-bf62-44ff-abca-237d0727e6f3",
   "metadata": {},
   "source": [
    "## Read Covariance"
   ]
  },
  {
   "cell_type": "code",
   "execution_count": null,
   "id": "a5edd2b8-5c17-495d-9d5f-77106aa0879c",
   "metadata": {},
   "outputs": [],
   "source": [
    "# variation\n",
    "# (l0,z0); (l0, z1); (l0, z2)\n",
    "# (l1, z0); (l1, z1); (l1, z2)\n",
    "# ..."
   ]
  },
  {
   "cell_type": "code",
   "execution_count": 23,
   "id": "b7df7321-79bf-4ac5-9a75-ac349ffaa413",
   "metadata": {},
   "outputs": [
    {
     "data": {
      "text/plain": [
       "array([[ 70890.79279959, 103981.57861766,  82375.77825787],\n",
       "       [  9446.65346982,  11905.36071806,   8286.10214458],\n",
       "       [  4206.363367  ,   4663.29941435,   2723.61047946],\n",
       "       [  3039.40580702,   2200.62476933,    834.16409416]])"
      ]
     },
     "execution_count": 23,
     "metadata": {},
     "output_type": "execute_result"
    }
   ],
   "source": [
    "nc = get_block(\"numbercounts\", \"vals\")\n",
    "nc"
   ]
  },
  {
   "cell_type": "code",
   "execution_count": 25,
   "id": "470ba023-f4ec-4453-b24d-e0c02039b7ed",
   "metadata": {},
   "outputs": [
    {
     "data": {
      "text/plain": [
       "array([ 70890.79279959, 103981.57861766,  82375.77825787,   9446.65346982,\n",
       "        11905.36071806,   8286.10214458,   4206.363367  ,   4663.29941435,\n",
       "         2723.61047946,   3039.40580702,   2200.62476933,    834.16409416])"
      ]
     },
     "execution_count": 25,
     "metadata": {},
     "output_type": "execute_result"
    }
   ],
   "source": [
    "ncf = nc.flatten()\n",
    "ncf"
   ]
  },
  {
   "cell_type": "code",
   "execution_count": 28,
   "id": "a9559890-f746-4e72-93fe-c79f4d2de0fb",
   "metadata": {},
   "outputs": [
    {
     "data": {
      "text/plain": [
       "array([ 70890.79279959,  70890.79279959,  70890.79279959, 103981.57861766,\n",
       "       103981.57861766, 103981.57861766,  82375.77825787,  82375.77825787,\n",
       "        82375.77825787,   9446.65346982,   9446.65346982,   9446.65346982,\n",
       "        11905.36071806,  11905.36071806,  11905.36071806,   8286.10214458,\n",
       "         8286.10214458,   8286.10214458,   4206.363367  ,   4206.363367  ,\n",
       "         4206.363367  ,   4663.29941435,   4663.29941435,   4663.29941435,\n",
       "         2723.61047946,   2723.61047946,   2723.61047946,   3039.40580702,\n",
       "         3039.40580702,   3039.40580702,   2200.62476933,   2200.62476933,\n",
       "         2200.62476933,    834.16409416,    834.16409416,    834.16409416])"
      ]
     },
     "execution_count": 28,
     "metadata": {},
     "output_type": "execute_result"
    }
   ],
   "source": [
    "np.repeat(ncf, 3) # with 3 radii"
   ]
  },
  {
   "cell_type": "code",
   "execution_count": 30,
   "id": "ba0af473-0901-4018-87ab-5d6ac89a0e67",
   "metadata": {},
   "outputs": [],
   "source": [
    "cov = np.sqrt(ncf)"
   ]
  },
  {
   "cell_type": "code",
   "execution_count": 54,
   "id": "38c86ddf-0473-4f3d-b857-f91d91054381",
   "metadata": {},
   "outputs": [],
   "source": [
    "## with radii\n",
    "blocks = []\n",
    "for i in range(3):\n",
    "    blocks.append(list(np.full((3,3), i+1)))"
   ]
  },
  {
   "cell_type": "code",
   "execution_count": 55,
   "id": "f9e622de-31c5-4e27-af50-f91ce36f01a3",
   "metadata": {},
   "outputs": [
    {
     "data": {
      "text/plain": [
       "array([[1, 1, 1, 0, 0, 0, 0, 0, 0],\n",
       "       [1, 1, 1, 0, 0, 0, 0, 0, 0],\n",
       "       [1, 1, 1, 0, 0, 0, 0, 0, 0],\n",
       "       [0, 0, 0, 2, 2, 2, 0, 0, 0],\n",
       "       [0, 0, 0, 2, 2, 2, 0, 0, 0],\n",
       "       [0, 0, 0, 2, 2, 2, 0, 0, 0],\n",
       "       [0, 0, 0, 0, 0, 0, 3, 3, 3],\n",
       "       [0, 0, 0, 0, 0, 0, 3, 3, 3],\n",
       "       [0, 0, 0, 0, 0, 0, 3, 3, 3]])"
      ]
     },
     "execution_count": 55,
     "metadata": {},
     "output_type": "execute_result"
    }
   ],
   "source": [
    "from scipy import linalg\n",
    "\n",
    "linalg.block_diag(*blocks)"
   ]
  },
  {
   "cell_type": "code",
   "execution_count": null,
   "id": "157f0681-765d-4e1b-b82a-ef316a1930ac",
   "metadata": {},
   "outputs": [],
   "source": []
  },
  {
   "cell_type": "code",
   "execution_count": null,
   "id": "5f5cb1e7-6e0e-451c-af03-02d2caec7911",
   "metadata": {},
   "outputs": [],
   "source": []
  }
 ],
 "metadata": {
  "kernelspec": {
   "display_name": "conda-clevarenv",
   "language": "python",
   "name": "conda-clevarenv"
  },
  "language_info": {
   "codemirror_mode": {
    "name": "ipython",
    "version": 3
   },
   "file_extension": ".py",
   "mimetype": "text/x-python",
   "name": "python",
   "nbconvert_exporter": "python",
   "pygments_lexer": "ipython3",
   "version": "3.9.7"
  }
 },
 "nbformat": 4,
 "nbformat_minor": 5
}
