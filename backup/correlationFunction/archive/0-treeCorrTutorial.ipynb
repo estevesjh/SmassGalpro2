{
 "cells": [
  {
   "cell_type": "markdown",
   "id": "a44824a2-cf62-40bd-9db6-da9e819bcc75",
   "metadata": {},
   "source": [
    "# TreeCorr Tutorial\n",
    "\n",
    "Following tutorial:\n",
    "https://rmjarvis.github.io/TreeCorr/_build/html/guide.html\n",
    "\n",
    "Here I follow Maria's notebook on how to run xpipe.\n",
    "https://cdcvs.fnal.gov/redmine/projects/des-clusters/wiki/XpipeTutorial"
   ]
  },
  {
   "cell_type": "code",
   "execution_count": 1,
   "id": "6881920b-379b-431f-abb5-e3ab2ec66cc8",
   "metadata": {},
   "outputs": [],
   "source": [
    "import numpy as np\n",
    "import h5py\n",
    "import matplotlib.pyplot as plt\n",
    "from astropy.table import Table\n",
    "import seaborn as sns\n",
    "sns.set_context('talk')"
   ]
  },
  {
   "cell_type": "markdown",
   "id": "8772214b-1db5-4ec4-9765-341643d1ee5c",
   "metadata": {},
   "source": [
    "## Read The Data"
   ]
  },
  {
   "cell_type": "code",
   "execution_count": 26,
   "id": "9a1ad6df-1613-4ebe-b2b1-01794cf730e8",
   "metadata": {},
   "outputs": [],
   "source": [
    "path = '/project/projectdirs/des/www/y3_cats/'\n",
    "rm_fname = path+'y3_gold_2.2.1_wide_sofcol_run_redmapper_v0.5.1_redmagic_12_3_19.h5'\n",
    "gd_fname = path+'Y3_GOLD_2_2.1_12_3_19.h5'"
   ]
  },
  {
   "cell_type": "code",
   "execution_count": 25,
   "id": "580dd2e0-8cb0-4f65-89f2-ff2be6dac6d5",
   "metadata": {},
   "outputs": [
    {
     "name": "stdout",
     "output_type": "stream",
     "text": [
      "Buzzard-3_v2.0_Y3a_mastercat.h5\n",
      "Buzzard_v2.0_Y3a_gold.h5\n",
      "KiDS_K1000_healpix.fits\n",
      "OLD_dec_lt_m5\n",
      "Y3_GOLD_2_2.1_12_3_19.h5\n",
      "Y3_GOLD_2_2.1_BPZ_12_3_19.h5\n",
      "Y3_GOLD_2_2.1_BPZ_subsampled.h5\n",
      "Y3_GOLD_2_2.1_DNF_12_3_19.h5\n",
      "Y3_GOLD_2_2.1_DNF_subsampled.h5\n",
      "Y3_GOLD_2_2.1_subsampled.h5\n",
      "Y3_GOLD_2_2_1_maps_12_3_19.h5\n",
      "Y3_GOLD_2_2_1_maps_subsampled.h5\n",
      "Y3_GOLD_2_2_1_regions.h5\n",
      "Y3_mastercat_02_05_21.h5\n",
      "Y3_mastercat_03_31_20.h5\n",
      "Y3_mastercat_12_3_19.h5\n",
      "Y3_mastercat_12_3_19_SOMv0.21.h5\n",
      "Y3_mastercat_5_24_19.h5\n",
      "Y3_mastercat_5_24_19_subsampled.h5\n",
      "Y3_mastercat_6_15_19_subsampled.h5\n",
      "Y3_mastercat_7_24_19.h5\n",
      "Y3_mastercat___UNBLIND___final_v1.0_DO_NOT_USE.h5\n",
      "Y3_mastercat___UNBLIND___final_v1.1_12_22_20.h5\n",
      "cats\n",
      "cats.yaml\n",
      "cats.yaml~\n",
      "deep_ugriz.mof02_sn.jhk.ff04_c.jhk.ff02_052020_realerrors.pkl\n",
      "dist_src_physical_dnfY3_mastercat___UNBLIND___final_v1.1_12_22_20.npz\n",
      "example.py\n",
      "example.py~\n",
      "jk_ind_src_dnfY3_mastercat___UNBLIND___final_v1.1_12_22_20.npz\n",
      "maglim_v2.2.h5\n",
      "run-JHK-mof02_ff04_ff02_extcorr_24Apr20.fits\n",
      "run-ugriz-mof02_extcorr_24Apr20.fits\n",
      "sompz_v0.132_12_3_2019.h5\n",
      "sompz_v0.21_03_03_2020.h5\n",
      "sompz_v0.40_08_04_2020.h5\n",
      "y3_eboss_overlap\n",
      "y3_gold_2.2.1_wide_sofcol_run_redmapper_v0.5.1_redmagic_02_05_21.h5\n",
      "y3_gold_2.2.1_wide_sofcol_run_redmapper_v0.5.1_redmagic_12_22_20.h5\n",
      "y3_gold_2.2.1_wide_sofcol_run_redmapper_v0.5.1_redmagic_12_3_19.h5\n",
      "y3_gold_2.2.1_wide_sofcol_run_redmapper_v0.5.1_redmagic_12_3_19b.h5\n",
      "y3_gold_2.2.1_wide_sofcol_run_redmapper_v6.4.22_subsampled.h5\n",
      "y3_gold_2.2.1_wide_sofcol_run_redmapper_v6.4.22_wv1.2_subsampled.h5\n",
      "y3_nokids1000\n",
      "y3v02-mcal-003-v1_subsampled.h5\n",
      "y3v02-mcal-004-v2_12_3_19.h5\n",
      "y3v02-mcal-004-v3_03_16_20.h5\n",
      "y3v02-mcal-004-v3_08_25_20.h5\n"
     ]
    }
   ],
   "source": [
    "!ls /project/projectdirs/des/www/y3_cats/"
   ]
  },
  {
   "cell_type": "code",
   "execution_count": 45,
   "id": "e1bef52e-59fb-4e8b-a524-df44e76c4637",
   "metadata": {},
   "outputs": [
    {
     "name": "stdout",
     "output_type": "stream",
     "text": [
      "Taking a look at data structure\n",
      "all: ['catalog', 'masks']\n"
     ]
    }
   ],
   "source": [
    "print('Taking a look at data structure')\n",
    "gd = h5py.File(gd_fname,'r')  \n",
    "print('all:',list(gd.keys()))\n",
    "gd.close()"
   ]
  },
  {
   "cell_type": "code",
   "execution_count": 46,
   "id": "5a2e04f5-afc9-4146-a70a-744afacaef53",
   "metadata": {},
   "outputs": [],
   "source": [
    "# gd['catalog/gold'].keys()"
   ]
  },
  {
   "cell_type": "code",
   "execution_count": 40,
   "id": "13061b30-f9c5-4920-827d-01b815f948b0",
   "metadata": {},
   "outputs": [],
   "source": [
    "# hpmap = gd['masks/gold/hpix'][:]"
   ]
  },
  {
   "cell_type": "code",
   "execution_count": 39,
   "id": "15a5305a-5a3c-47d9-b5b4-f808a0596d36",
   "metadata": {},
   "outputs": [],
   "source": [
    "# import healpy as hp\n",
    "\n",
    "# hp.mollview(np.unique(hpmap))"
   ]
  },
  {
   "cell_type": "code",
   "execution_count": 3,
   "id": "d5e75e4b-e107-43a9-baea-47f3d6f00e0f",
   "metadata": {},
   "outputs": [
    {
     "name": "stdout",
     "output_type": "stream",
     "text": [
      "Taking a look at data structure\n",
      "all: ['catalog', 'index', 'masks', 'randoms', 'regions']\n",
      "redMaPPer columns: ['bcg_ilum', 'bcg_spec_z', 'c_lambda', 'c_lambda_err', 'chisq', 'dec', 'dec_cent', 'dec_orig', 'dlambda_dz', 'dlambda_dz2', 'dlambdavar_dz', 'dlambdavar_dz2', 'ebv_mean', 'geomaskfrac', 'id_cent', 'ilum', 'lambda_chisq', 'lambda_chisq_c', 'lambda_chisq_ce', 'lambda_chisq_cent', 'lambda_chisq_e', 'lambda_zred', 'lambda_zred_e', 'lim_exptime', 'lim_limmag', 'lim_limmag_dered', 'lim_limmag_hard', 'lnbcglike', 'lnlamlike', 'lnlike', 'mag_lambda_err', 'maskfrac', 'maskgal_index', 'mem_match_id', 'members', 'model_mag', 'model_magerr', 'ncent', 'ncent_good', 'ncross', 'p_bcg', 'p_c', 'p_cen', 'p_fg', 'p_sat', 'pz', 'pzbins', 'q_cen', 'q_miss', 'r_lambda', 'ra', 'ra_cent', 'ra_orig', 'refmag', 'refmag_err', 'rmask', 'scaleval', 'w', 'z', 'z_init', 'z_lambda', 'z_lambda_e', 'z_lambda_e_raw', 'z_lambda_niter', 'z_lambda_raw', 'z_spec_init', 'zlambda_cent', 'zred', 'zred_chisq', 'zred_e']\n",
      "\n",
      "random columns:  ['avg_lambdaout', 'dec', 'lambda_in', 'ra', 'sigma_lambdaout', 'weight', 'ztrue']\n"
     ]
    }
   ],
   "source": [
    "print('Taking a look at data structure')\n",
    "rm = h5py.File(rm_fname,'r+')  \n",
    "print('all:',list(rm.keys()))\n",
    "cat = rm['catalog/redmapper/lgt5']\n",
    "ran = rm['randoms/redmapper/lgt5']\n",
    "print('redMaPPer columns:',list(cat.keys()))\n",
    "print()\n",
    "print('random columns: ',list(ran.keys()))\n",
    "rm.close()"
   ]
  },
  {
   "cell_type": "code",
   "execution_count": 22,
   "id": "3f35b572-0311-4c30-b563-516728f5af90",
   "metadata": {},
   "outputs": [
    {
     "data": {
      "text/plain": [
       "<KeysViewHDF5 ['bcg_ilum', 'bcg_spec_z', 'c_lambda', 'c_lambda_err', 'chisq', 'dec', 'dec_cent', 'dec_orig', 'dlambda_dz', 'dlambda_dz2', 'dlambdavar_dz', 'dlambdavar_dz2', 'ebv_mean', 'geomaskfrac', 'id_cent', 'ilum', 'lambda_chisq', 'lambda_chisq_c', 'lambda_chisq_ce', 'lambda_chisq_cent', 'lambda_chisq_e', 'lambda_zred', 'lambda_zred_e', 'lim_exptime', 'lim_limmag', 'lim_limmag_dered', 'lim_limmag_hard', 'lnbcglike', 'lnlamlike', 'lnlike', 'mag_lambda_err', 'maskfrac', 'maskgal_index', 'mem_match_id', 'members', 'model_mag', 'model_magerr', 'ncent', 'ncent_good', 'ncross', 'p_bcg', 'p_c', 'p_cen', 'p_fg', 'p_sat', 'pz', 'pzbins', 'q_cen', 'q_miss', 'r_lambda', 'ra', 'ra_cent', 'ra_orig', 'refmag', 'refmag_err', 'rmask', 'scaleval', 'w', 'z', 'z_init', 'z_lambda', 'z_lambda_e', 'z_lambda_e_raw', 'z_lambda_niter', 'z_lambda_raw', 'z_spec_init', 'zlambda_cent', 'zred', 'zred_chisq', 'zred_e']>"
      ]
     },
     "execution_count": 22,
     "metadata": {},
     "output_type": "execute_result"
    }
   ],
   "source": [
    "# rm = h5py.File(rm_fname,'r+')\n",
    "rm['catalog/redmapper/lgt5/'].keys()"
   ]
  },
  {
   "cell_type": "code",
   "execution_count": 4,
   "id": "e6b85f43-fc7a-43c7-ae3a-f5af86a956b2",
   "metadata": {},
   "outputs": [],
   "source": [
    "def read_hdf5(fname, path, columns=None):\n",
    "    \"\"\"Read the hdf5 files for a given path\n",
    "    if columns is None read all columns\n",
    "    \"\"\"\n",
    "    h5  = h5py.File(fname,'r+')\n",
    "    h5group = h5[path]\n",
    "    if columns is None: columns = list(h5group.keys())\n",
    "    \n",
    "    out = dict()\n",
    "    for col in columns:\n",
    "        out[col] = h5group[col][:]\n",
    "    \n",
    "    return out"
   ]
  },
  {
   "cell_type": "code",
   "execution_count": 5,
   "id": "4d84d7b1-6541-40b9-a397-157ad8d50247",
   "metadata": {},
   "outputs": [],
   "source": [
    "columns = ['mem_match_id','ra','dec','z_lambda','lambda_chisq']\n",
    "rm = Table(read_hdf5(rm_fname, 'catalog/redmapper/lgt5', columns=columns))"
   ]
  },
  {
   "cell_type": "code",
   "execution_count": 6,
   "id": "598250a7-a01d-452d-bccd-224c862b1018",
   "metadata": {},
   "outputs": [],
   "source": [
    "# data.write('values.ecsv', overwrite=True)  \n",
    "# rm.write('data/infile.fit',format='fits')"
   ]
  },
  {
   "cell_type": "code",
   "execution_count": 7,
   "id": "f96f04fd-9c68-4e62-a5ce-4ebc73e9bada",
   "metadata": {},
   "outputs": [
    {
     "data": {
      "text/html": [
       "<div><i>Table length=256481</i>\n",
       "<table id=\"table23456184245120\" class=\"table-striped table-bordered table-condensed\">\n",
       "<thead><tr><th>mem_match_id</th><th>ra</th><th>dec</th><th>z_lambda</th><th>lambda_chisq</th></tr></thead>\n",
       "<thead><tr><th>int32</th><th>float64</th><th>float64</th><th>float32</th><th>float32</th></tr></thead>\n",
       "<tr><td>432566</td><td>45.213325784218</td><td>0.413609510595717</td><td>0.26417944</td><td>6.9909916</td></tr>\n",
       "<tr><td>3562</td><td>44.8820710860101</td><td>0.289343366239</td><td>0.19364022</td><td>42.48932</td></tr>\n",
       "<tr><td>5233</td><td>44.8811817440392</td><td>0.328352252722895</td><td>0.37183228</td><td>37.272118</td></tr>\n",
       "<tr><td>407842</td><td>44.9093000971721</td><td>0.521576665208534</td><td>0.20710598</td><td>5.511259</td></tr>\n",
       "<tr><td>547270</td><td>44.8699544543159</td><td>0.663876621631463</td><td>0.42131603</td><td>6.4570675</td></tr>\n",
       "<tr><td>159197</td><td>44.5028833930552</td><td>0.568088348356786</td><td>0.49044833</td><td>8.760569</td></tr>\n",
       "<tr><td>289819</td><td>44.578130865961</td><td>0.678715300744765</td><td>0.16148742</td><td>5.694319</td></tr>\n",
       "<tr><td>217579</td><td>44.7511202766408</td><td>0.79857086337459</td><td>0.12700407</td><td>8.2418995</td></tr>\n",
       "<tr><td>822113</td><td>44.4976936090464</td><td>0.72541556122261</td><td>0.5852238</td><td>5.8011036</td></tr>\n",
       "<tr><td>86261</td><td>44.5627101437473</td><td>0.788889255041787</td><td>0.4019028</td><td>11.445444</td></tr>\n",
       "<tr><td>...</td><td>...</td><td>...</td><td>...</td><td>...</td></tr>\n",
       "<tr><td>412740</td><td>314.243424720129</td><td>-39.7559580850459</td><td>0.4301647</td><td>9.477552</td></tr>\n",
       "<tr><td>30458</td><td>313.520384277795</td><td>-40.0800091013144</td><td>0.36988264</td><td>21.986631</td></tr>\n",
       "<tr><td>160764</td><td>317.58980585987</td><td>-2.36797739412134</td><td>0.597496</td><td>7.90629</td></tr>\n",
       "<tr><td>164766</td><td>317.540564496651</td><td>-2.38608636794076</td><td>0.5901891</td><td>13.398081</td></tr>\n",
       "<tr><td>178119</td><td>317.284763877247</td><td>-2.37454783220211</td><td>0.50763935</td><td>9.706377</td></tr>\n",
       "<tr><td>155554</td><td>317.608089637927</td><td>-2.21503576658953</td><td>0.1796937</td><td>9.172453</td></tr>\n",
       "<tr><td>40297</td><td>317.546918170394</td><td>-2.21243504428219</td><td>0.6202988</td><td>22.947695</td></tr>\n",
       "<tr><td>193996</td><td>317.071538868352</td><td>-2.13051223931812</td><td>0.12749836</td><td>7.5706806</td></tr>\n",
       "<tr><td>673570</td><td>317.255644257049</td><td>-2.08427443040052</td><td>0.61033654</td><td>5.587534</td></tr>\n",
       "<tr><td>73144</td><td>317.149470587426</td><td>-1.85485889467939</td><td>0.6073254</td><td>17.13555</td></tr>\n",
       "</table></div>"
      ],
      "text/plain": [
       "<Table length=256481>\n",
       "mem_match_id        ra               dec         z_lambda  lambda_chisq\n",
       "   int32         float64           float64       float32     float32   \n",
       "------------ ---------------- ----------------- ---------- ------------\n",
       "      432566  45.213325784218 0.413609510595717 0.26417944    6.9909916\n",
       "        3562 44.8820710860101    0.289343366239 0.19364022     42.48932\n",
       "        5233 44.8811817440392 0.328352252722895 0.37183228    37.272118\n",
       "      407842 44.9093000971721 0.521576665208534 0.20710598     5.511259\n",
       "      547270 44.8699544543159 0.663876621631463 0.42131603    6.4570675\n",
       "      159197 44.5028833930552 0.568088348356786 0.49044833     8.760569\n",
       "      289819  44.578130865961 0.678715300744765 0.16148742     5.694319\n",
       "      217579 44.7511202766408  0.79857086337459 0.12700407    8.2418995\n",
       "      822113 44.4976936090464  0.72541556122261  0.5852238    5.8011036\n",
       "       86261 44.5627101437473 0.788889255041787  0.4019028    11.445444\n",
       "         ...              ...               ...        ...          ...\n",
       "      412740 314.243424720129 -39.7559580850459  0.4301647     9.477552\n",
       "       30458 313.520384277795 -40.0800091013144 0.36988264    21.986631\n",
       "      160764  317.58980585987 -2.36797739412134   0.597496      7.90629\n",
       "      164766 317.540564496651 -2.38608636794076  0.5901891    13.398081\n",
       "      178119 317.284763877247 -2.37454783220211 0.50763935     9.706377\n",
       "      155554 317.608089637927 -2.21503576658953  0.1796937     9.172453\n",
       "       40297 317.546918170394 -2.21243504428219  0.6202988    22.947695\n",
       "      193996 317.071538868352 -2.13051223931812 0.12749836    7.5706806\n",
       "      673570 317.255644257049 -2.08427443040052 0.61033654     5.587534\n",
       "       73144 317.149470587426 -1.85485889467939  0.6073254     17.13555"
      ]
     },
     "execution_count": 7,
     "metadata": {},
     "output_type": "execute_result"
    }
   ],
   "source": [
    "rm"
   ]
  },
  {
   "cell_type": "code",
   "execution_count": 8,
   "id": "da11ba78-38e3-45d1-b1b0-709ffab4e4d9",
   "metadata": {},
   "outputs": [],
   "source": [
    "ran = Table(read_hdf5(rm_fname, 'randoms/redmapper/lgt5', columns=None))"
   ]
  },
  {
   "cell_type": "code",
   "execution_count": 9,
   "id": "b2f829be-007a-4c16-bd0a-adc90cb6f99b",
   "metadata": {},
   "outputs": [],
   "source": [
    "# ran.write('data/ran.fits', format='fits')"
   ]
  },
  {
   "cell_type": "code",
   "execution_count": 10,
   "id": "41ae2a07-3017-4145-97be-aa48db515138",
   "metadata": {},
   "outputs": [
    {
     "data": {
      "text/html": [
       "<div><i>Table length=47019313</i>\n",
       "<table id=\"table23455330822704\" class=\"table-striped table-bordered table-condensed\">\n",
       "<thead><tr><th>avg_lambdaout</th><th>dec</th><th>lambda_in</th><th>ra</th><th>sigma_lambdaout</th><th>weight</th><th>ztrue</th></tr></thead>\n",
       "<thead><tr><th>float32</th><th>float64</th><th>float32</th><th>float64</th><th>float32</th><th>float32</th><th>float32</th></tr></thead>\n",
       "<tr><td>5.8926334</td><td>0.01808103391485975</td><td>5.8926334</td><td>45.00474935913553</td><td>0.0</td><td>1.0466322</td><td>0.25540224</td></tr>\n",
       "<tr><td>6.121458</td><td>0.026466427934295732</td><td>6.121458</td><td>45.00934135476311</td><td>0.0</td><td>1.0310881</td><td>0.5425595</td></tr>\n",
       "<tr><td>11.750544</td><td>0.01104605175119104</td><td>11.750544</td><td>44.98828300240325</td><td>0.0</td><td>1.0691824</td><td>0.5270077</td></tr>\n",
       "<tr><td>8.882608</td><td>0.023924565242321356</td><td>8.882608</td><td>44.98764100852861</td><td>0.0</td><td>1.0247525</td><td>0.49744353</td></tr>\n",
       "<tr><td>6.685892</td><td>0.02587199689577812</td><td>6.685892</td><td>44.98768476140401</td><td>0.0</td><td>1.0196079</td><td>0.50112206</td></tr>\n",
       "<tr><td>17.745749</td><td>0.02482557554456873</td><td>17.745749</td><td>45.020089984188985</td><td>0.0</td><td>1.0348259</td><td>0.30505475</td></tr>\n",
       "<tr><td>5.7095737</td><td>0.033845261931746085</td><td>5.7095737</td><td>45.01264008979655</td><td>0.0</td><td>1.1419355</td><td>0.2671586</td></tr>\n",
       "<tr><td>5.1451397</td><td>0.03460348114334625</td><td>5.1451397</td><td>45.013778086371445</td><td>0.0</td><td>1.367647</td><td>0.33845782</td></tr>\n",
       "<tr><td>7.204561</td><td>0.04463111833557033</td><td>7.204561</td><td>45.01337078611678</td><td>0.0</td><td>1.0163934</td><td>0.43058595</td></tr>\n",
       "<tr><td>5.2824345</td><td>0.04915473738419212</td><td>5.2824345</td><td>45.01586170935224</td><td>0.0</td><td>1.1213872</td><td>0.5119218</td></tr>\n",
       "<tr><td>...</td><td>...</td><td>...</td><td>...</td><td>...</td><td>...</td><td>...</td></tr>\n",
       "<tr><td>6.9299717</td><td>-1.2078257604740656</td><td>6.9299717</td><td>316.4189930583867</td><td>0.0</td><td>1.0283018</td><td>0.4821683</td></tr>\n",
       "<tr><td>7.84527</td><td>-1.2032658676736032</td><td>7.84527</td><td>316.4152614328515</td><td>0.0</td><td>1.0362694</td><td>0.4265753</td></tr>\n",
       "<tr><td>10.225046</td><td>-1.200370943263441</td><td>10.225046</td><td>316.4013975207981</td><td>0.0</td><td>1.0372341</td><td>0.46514338</td></tr>\n",
       "<tr><td>8.653784</td><td>-1.3088559114408949</td><td>8.653784</td><td>316.26204847514936</td><td>0.0</td><td>1.049505</td><td>0.44508356</td></tr>\n",
       "<tr><td>15.320208</td><td>-1.304030927225497</td><td>15.320208</td><td>316.27105669953</td><td>0.0</td><td>1.0178572</td><td>0.39924303</td></tr>\n",
       "<tr><td>5.679064</td><td>-1.3047768926972247</td><td>5.679064</td><td>316.25671080590246</td><td>0.0</td><td>1.0591133</td><td>0.500595</td></tr>\n",
       "<tr><td>5.480749</td><td>-1.3002519374708155</td><td>5.480749</td><td>316.2749554725941</td><td>0.0</td><td>1.0773481</td><td>0.47394446</td></tr>\n",
       "<tr><td>7.296091</td><td>-1.2924002535961794</td><td>7.296091</td><td>316.27962246540665</td><td>0.0</td><td>1.0295858</td><td>0.5337749</td></tr>\n",
       "<tr><td>8.485979</td><td>-1.2897104805257364</td><td>8.485979</td><td>316.2773314972079</td><td>0.0</td><td>1.0404624</td><td>0.47458288</td></tr>\n",
       "<tr><td>8.05884</td><td>-1.2860048991380617</td><td>8.05884</td><td>316.285357499174</td><td>0.0</td><td>1.0360825</td><td>0.32631138</td></tr>\n",
       "</table></div>"
      ],
      "text/plain": [
       "<Table length=47019313>\n",
       "avg_lambdaout         dec          lambda_in ...   weight    ztrue   \n",
       "   float32          float64         float32  ...  float32   float32  \n",
       "------------- -------------------- --------- ... --------- ----------\n",
       "    5.8926334  0.01808103391485975 5.8926334 ... 1.0466322 0.25540224\n",
       "     6.121458 0.026466427934295732  6.121458 ... 1.0310881  0.5425595\n",
       "    11.750544  0.01104605175119104 11.750544 ... 1.0691824  0.5270077\n",
       "     8.882608 0.023924565242321356  8.882608 ... 1.0247525 0.49744353\n",
       "     6.685892  0.02587199689577812  6.685892 ... 1.0196079 0.50112206\n",
       "    17.745749  0.02482557554456873 17.745749 ... 1.0348259 0.30505475\n",
       "    5.7095737 0.033845261931746085 5.7095737 ... 1.1419355  0.2671586\n",
       "    5.1451397  0.03460348114334625 5.1451397 ...  1.367647 0.33845782\n",
       "     7.204561  0.04463111833557033  7.204561 ... 1.0163934 0.43058595\n",
       "    5.2824345  0.04915473738419212 5.2824345 ... 1.1213872  0.5119218\n",
       "          ...                  ...       ... ...       ...        ...\n",
       "    6.9299717  -1.2078257604740656 6.9299717 ... 1.0283018  0.4821683\n",
       "      7.84527  -1.2032658676736032   7.84527 ... 1.0362694  0.4265753\n",
       "    10.225046   -1.200370943263441 10.225046 ... 1.0372341 0.46514338\n",
       "     8.653784  -1.3088559114408949  8.653784 ...  1.049505 0.44508356\n",
       "    15.320208   -1.304030927225497 15.320208 ... 1.0178572 0.39924303\n",
       "     5.679064  -1.3047768926972247  5.679064 ... 1.0591133   0.500595\n",
       "     5.480749  -1.3002519374708155  5.480749 ... 1.0773481 0.47394446\n",
       "     7.296091  -1.2924002535961794  7.296091 ... 1.0295858  0.5337749\n",
       "     8.485979  -1.2897104805257364  8.485979 ... 1.0404624 0.47458288\n",
       "      8.05884  -1.2860048991380617   8.05884 ... 1.0360825 0.32631138"
      ]
     },
     "execution_count": 10,
     "metadata": {},
     "output_type": "execute_result"
    }
   ],
   "source": [
    "ran"
   ]
  },
  {
   "cell_type": "code",
   "execution_count": null,
   "id": "ecb4729e-3bca-4e17-93ea-79051a1780d2",
   "metadata": {},
   "outputs": [],
   "source": []
  },
  {
   "cell_type": "markdown",
   "id": "bd7328f7-095e-434a-bc21-44821ba65dd3",
   "metadata": {},
   "source": [
    "# Count-Count Correlation"
   ]
  },
  {
   "cell_type": "code",
   "execution_count": null,
   "id": "f320a7d1-ed91-40ca-9f26-c70e3f6306c0",
   "metadata": {},
   "outputs": [],
   "source": [
    "import treecorr"
   ]
  },
  {
   "cell_type": "markdown",
   "id": "cc2f7128-240d-48ac-8f62-edbf1dcb67b4",
   "metadata": {},
   "source": [
    "### Run to clusters"
   ]
  },
  {
   "cell_type": "code",
   "execution_count": null,
   "id": "9fea2740-2736-40b6-8024-8b48b53799df",
   "metadata": {},
   "outputs": [],
   "source": [
    "from __future__ import print_function\n",
    "import pprint\n",
    "\n",
    "config = treecorr.read_config('config_file.yaml')\n",
    "print(pprint.pformat(config))"
   ]
  },
  {
   "cell_type": "code",
   "execution_count": null,
   "id": "f89a9f7b-3ef0-4dcb-a068-5a6accf01221",
   "metadata": {},
   "outputs": [],
   "source": [
    "dd = treecorr.NNCorrelation(config)\n",
    "# dd.process()"
   ]
  },
  {
   "cell_type": "code",
   "execution_count": null,
   "id": "e42e4073-ccd6-44ba-913c-fc77395af496",
   "metadata": {},
   "outputs": [],
   "source": [
    "cat = treecorr.Catalog(ra=rm['ra'], dec=rm['dec'], ra_units='degrees', dec_units='degrees')\n",
    "rcat = treecorr.Catalog(ra=ran['ra'], dec=ran['dec'], ra_units='degrees', dec_units='degrees')"
   ]
  },
  {
   "cell_type": "code",
   "execution_count": null,
   "id": "a3feedc5-f620-454c-a2a1-ecc5bebf9abe",
   "metadata": {},
   "outputs": [],
   "source": [
    "dd = treecorr.NNCorrelation(config)\n",
    "dd.process(cat)"
   ]
  },
  {
   "cell_type": "code",
   "execution_count": null,
   "id": "3ed1dff2-347c-42cb-8932-4f12c8a7f786",
   "metadata": {},
   "outputs": [],
   "source": [
    "rr = treecorr.NNCorrelation(config)\n",
    "rr.process(rcat)"
   ]
  },
  {
   "cell_type": "markdown",
   "id": "a4db5ffb-51fb-4c87-9782-060c91ef698d",
   "metadata": {},
   "source": [
    "## Plot Results"
   ]
  },
  {
   "cell_type": "code",
   "execution_count": null,
   "id": "6beeff7b-3553-4d97-9a52-02a14f03e8ce",
   "metadata": {},
   "outputs": [],
   "source": [
    "xi, varxi = dd.calculateXi(rr)\n",
    "r = np.exp(dd.meanlogr)\n",
    "sig = np.sqrt(varxi)\n",
    "\n",
    "plt.scatter(r, xi, color='blue')\n",
    "plt.plot(r, xi, color='blue')\n",
    "plt.plot(r, -xi, color='blue', ls=':')\n",
    "plt.errorbar(r[xi>0], xi[xi>0], yerr=sig[xi>0], color='r', lw=3, ls='')\n",
    "plt.errorbar(r[xi<0], -xi[xi<0], yerr=sig[xi<0], color='r', lw=3, ls='')\n",
    "leg = plt.errorbar(-r, xi, yerr=sig, color='blue')\n",
    "\n",
    "plt.xscale('log')\n",
    "plt.yscale('log', nonpositive='clip')\n",
    "plt.xlabel(r'$\\theta$ (degrees)')\n",
    "\n",
    "plt.legend([leg], [r'$w(\\theta)$'], loc='lower left')\n",
    "plt.xlim([0.05,10])\n",
    "plt.show()"
   ]
  },
  {
   "cell_type": "markdown",
   "id": "8398cec1-57db-4196-9334-69c4b39d3e7a",
   "metadata": {},
   "source": [
    "We might want to from 6 arcmin up to 360 arcmin"
   ]
  },
  {
   "cell_type": "code",
   "execution_count": null,
   "id": "cab47ceb-b687-4ea9-9cc0-3aad9207dcc9",
   "metadata": {},
   "outputs": [],
   "source": []
  },
  {
   "cell_type": "code",
   "execution_count": null,
   "id": "696ed25f-c6f0-4f34-b9e0-41231c799b78",
   "metadata": {},
   "outputs": [],
   "source": [
    "# plt.hist(np.abs(sig/xi),bins=np.linspace(0.,0.5,21))"
   ]
  },
  {
   "cell_type": "code",
   "execution_count": null,
   "id": "9758ec30-3b30-48cc-ba4a-204cb660a495",
   "metadata": {},
   "outputs": [],
   "source": []
  }
 ],
 "metadata": {
  "kernelspec": {
   "display_name": "desc-python",
   "language": "python",
   "name": "desc-python"
  },
  "language_info": {
   "codemirror_mode": {
    "name": "ipython",
    "version": 3
   },
   "file_extension": ".py",
   "mimetype": "text/x-python",
   "name": "python",
   "nbconvert_exporter": "python",
   "pygments_lexer": "ipython3",
   "version": "3.8.12"
  }
 },
 "nbformat": 4,
 "nbformat_minor": 5
}
