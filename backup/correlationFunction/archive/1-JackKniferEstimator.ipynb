{
 "cells": [
  {
   "cell_type": "markdown",
   "id": "a44824a2-cf62-40bd-9db6-da9e819bcc75",
   "metadata": {},
   "source": [
    "# TreeCorr Tutorial\n",
    "\n",
    "Using jackknife regions from healpixels we build an estimator of the convariance matrix of the angula correlation function. "
   ]
  },
  {
   "cell_type": "code",
   "execution_count": 34,
   "id": "6881920b-379b-431f-abb5-e3ab2ec66cc8",
   "metadata": {},
   "outputs": [],
   "source": [
    "import numpy as np\n",
    "import h5py\n",
    "import healpy as hp\n",
    "import matplotlib.pyplot as plt\n",
    "from astropy.table import Table\n",
    "import seaborn as sns\n",
    "sns.set_context('talk')"
   ]
  },
  {
   "cell_type": "code",
   "execution_count": null,
   "id": "c2fc8f87-fb71-45e5-a114-95db7d6bdae4",
   "metadata": {},
   "outputs": [],
   "source": []
  },
  {
   "cell_type": "markdown",
   "id": "54007a0d-5d81-49da-9056-b6843bac6ebc",
   "metadata": {},
   "source": [
    "## Read The Data"
   ]
  },
  {
   "cell_type": "code",
   "execution_count": 35,
   "id": "9a1ad6df-1613-4ebe-b2b1-01794cf730e8",
   "metadata": {},
   "outputs": [],
   "source": [
    "path = '/project/projectdirs/des/www/y3_cats/'\n",
    "rm_fname = path+'y3_gold_2.2.1_wide_sofcol_run_redmapper_v0.5.1_redmagic_12_3_19.h5'"
   ]
  },
  {
   "cell_type": "code",
   "execution_count": 36,
   "id": "d5e75e4b-e107-43a9-baea-47f3d6f00e0f",
   "metadata": {},
   "outputs": [
    {
     "name": "stdout",
     "output_type": "stream",
     "text": [
      "Taking a look at data structure\n",
      "all: ['catalog', 'index', 'masks', 'randoms', 'regions']\n",
      "\n",
      "redMaPPer columns: ['bcg_ilum', 'bcg_spec_z', 'c_lambda', 'c_lambda_err', 'chisq', 'dec', 'dec_cent', 'dec_orig', 'dlambda_dz', 'dlambda_dz2', 'dlambdavar_dz', 'dlambdavar_dz2', 'ebv_mean', 'geomaskfrac', 'id_cent', 'ilum', 'lambda_chisq', 'lambda_chisq_c', 'lambda_chisq_ce', 'lambda_chisq_cent', 'lambda_chisq_e', 'lambda_zred', 'lambda_zred_e', 'lim_exptime', 'lim_limmag', 'lim_limmag_dered', 'lim_limmag_hard', 'lnbcglike', 'lnlamlike', 'lnlike', 'mag_lambda_err', 'maskfrac', 'maskgal_index', 'mem_match_id', 'members', 'model_mag', 'model_magerr', 'ncent', 'ncent_good', 'ncross', 'p_bcg', 'p_c', 'p_cen', 'p_fg', 'p_sat', 'pz', 'pzbins', 'q_cen', 'q_miss', 'r_lambda', 'ra', 'ra_cent', 'ra_orig', 'refmag', 'refmag_err', 'rmask', 'scaleval', 'w', 'z', 'z_init', 'z_lambda', 'z_lambda_e', 'z_lambda_e_raw', 'z_lambda_niter', 'z_lambda_raw', 'z_spec_init', 'zlambda_cent', 'zred', 'zred_chisq', 'zred_e']\n",
      "\n",
      "random columns:  ['avg_lambdaout', 'dec', 'lambda_in', 'ra', 'sigma_lambdaout', 'weight', 'ztrue']\n"
     ]
    }
   ],
   "source": [
    "print('Taking a look at data structure')\n",
    "rm = h5py.File(rm_fname,'r+')\n",
    "print('all:',list(rm.keys()))\n",
    "print()\n",
    "cat = rm['catalog/redmapper/lgt5']\n",
    "ran = rm['randoms/redmapper/lgt5']\n",
    "print('redMaPPer columns:',list(cat.keys()))\n",
    "print()\n",
    "print('random columns: ',list(ran.keys()))\n",
    "rm.close()"
   ]
  },
  {
   "cell_type": "code",
   "execution_count": 37,
   "id": "e6b85f43-fc7a-43c7-ae3a-f5af86a956b2",
   "metadata": {},
   "outputs": [],
   "source": [
    "def read_hdf5(fname, path, columns=None):\n",
    "    \"\"\"Read the hdf5 files for a given path\n",
    "    if columns is None read all columns\n",
    "    \"\"\"\n",
    "    h5  = h5py.File(fname,'r+')\n",
    "    h5group = h5[path]\n",
    "    if columns is None: columns = list(h5group.keys())\n",
    "    \n",
    "    out = dict()\n",
    "    for col in columns:\n",
    "        out[col] = h5group[col][:]\n",
    "    \n",
    "    return out"
   ]
  },
  {
   "cell_type": "code",
   "execution_count": 38,
   "id": "4d84d7b1-6541-40b9-a397-157ad8d50247",
   "metadata": {},
   "outputs": [],
   "source": [
    "columns = ['mem_match_id','ra','dec','z_lambda','lambda_chisq']\n",
    "rm = Table(read_hdf5(rm_fname, 'catalog/redmapper/lgt5', columns=columns))"
   ]
  },
  {
   "cell_type": "code",
   "execution_count": 39,
   "id": "da11ba78-38e3-45d1-b1b0-709ffab4e4d9",
   "metadata": {},
   "outputs": [],
   "source": [
    "ran = Table(read_hdf5(rm_fname, 'randoms/redmapper/lgt5', columns=None))\n",
    "# ix = np.random.randint(len(ran), size=1000000)\n",
    "# ran = ran[ix]"
   ]
  },
  {
   "cell_type": "code",
   "execution_count": 40,
   "id": "509d2bb3-1fad-443b-bb7c-5a639161e62c",
   "metadata": {},
   "outputs": [
    {
     "data": {
      "text/plain": [
       "256481"
      ]
     },
     "execution_count": 40,
     "metadata": {},
     "output_type": "execute_result"
    }
   ],
   "source": [
    "len(rm)"
   ]
  },
  {
   "cell_type": "code",
   "execution_count": 41,
   "id": "c5ecd9c3-622e-494b-9c13-fb1351895c74",
   "metadata": {},
   "outputs": [
    {
     "data": {
      "text/plain": [
       "183.32474140384667"
      ]
     },
     "execution_count": 41,
     "metadata": {},
     "output_type": "execute_result"
    }
   ],
   "source": [
    "len(ran)/len(rm)"
   ]
  },
  {
   "cell_type": "code",
   "execution_count": 42,
   "id": "4ef3ec1b-1dae-4725-8bc4-c74a61e4173c",
   "metadata": {},
   "outputs": [
    {
     "data": {
      "text/plain": [
       "(array([ 78733., 353317., 644819., 616712., 404572., 193679.,  69746.,\n",
       "         19046.,   4029.,   1200.]),\n",
       " array([1.       , 1.0122905, 1.024581 , 1.0368716, 1.049162 , 1.0614525,\n",
       "        1.073743 , 1.0860335, 1.0983241, 1.1106145, 1.122905 ],\n",
       "       dtype=float32),\n",
       " <BarContainer object of 10 artists>)"
      ]
     },
     "execution_count": 42,
     "metadata": {},
     "output_type": "execute_result"
    },
    {
     "data": {
      "image/png": "[encoded data removed]",
      "text/plain": [
       "<Figure size 432x288 with 1 Axes>"
      ]
     },
     "metadata": {
      "needs_background": "light"
     },
     "output_type": "display_data"
    }
   ],
   "source": [
    "plt.hist(ran['weight'][ran['lambda_in']>25.])"
   ]
  },
  {
   "cell_type": "code",
   "execution_count": null,
   "id": "3fa6c6f6-f76f-4685-ba55-b8ed3fa06741",
   "metadata": {},
   "outputs": [],
   "source": []
  },
  {
   "cell_type": "code",
   "execution_count": null,
   "id": "adb6ed2a-2833-4f77-89c7-8126aa3d942d",
   "metadata": {},
   "outputs": [],
   "source": []
  },
  {
   "cell_type": "markdown",
   "id": "8ee562ef-067c-40c1-93e2-9d83c997a64d",
   "metadata": {},
   "source": [
    "## Build Footprint"
   ]
  },
  {
   "cell_type": "code",
   "execution_count": 45,
   "id": "a6049fd2-4527-4214-bff1-c0effac30234",
   "metadata": {},
   "outputs": [],
   "source": [
    "def radec_to_pix(ra,dec,nside=4):\n",
    "    thetas,phis = np.radians(90-dec),np.radians(ra)\n",
    "    return hp.ang2pix(nside, thetas, phis,nest=False)"
   ]
  },
  {
   "cell_type": "code",
   "execution_count": 46,
   "id": "2cfdbd17-1c4d-4876-8344-a719a6c3138b",
   "metadata": {},
   "outputs": [
    {
     "name": "stderr",
     "output_type": "stream",
     "text": [
      "/tmp/ipykernel_13202/2758194061.py:6: DeprecationWarning: `np.int` is a deprecated alias for the builtin `int`. To silence this warning, use `int` by itself. Doing this will not modify any behavior and is safe. When replacing `np.int`, you may wish to use e.g. `np.int64` or `np.int32` to specify the precision. If you wish to review your current use, check the release note link for additional information.\n",
      "Deprecated in NumPy 1.20; for more details and guidance: https://numpy.org/devdocs/release/1.20.0-notes.html#deprecations\n",
      "  hpxmap = np.zeros(npix, dtype=np.int)\n"
     ]
    }
   ],
   "source": [
    "Nside = 64\n",
    "npix = hp.nside2npix(Nside)\n",
    "hpx_rm = np.array(radec_to_pix(rm['ra'],rm['dec'],nside=Nside))\n",
    "hpx_ran = np.array(radec_to_pix(ran['ra'],ran['dec'],nside=Nside))\n",
    "\n",
    "hpxmap = np.zeros(npix, dtype=np.int)\n",
    "w, values = np.unique(hpx_ran,return_counts=True)\n",
    "hpxmap[w] = values"
   ]
  },
  {
   "cell_type": "code",
   "execution_count": 47,
   "id": "8eeca477-b0c0-4b69-b671-773b99bd1c5e",
   "metadata": {},
   "outputs": [
    {
     "data": {
      "text/plain": [
       "Text(0.5, 1.0, 'DES Y3: Random RedMaPPer Footprint')"
      ]
     },
     "execution_count": 47,
     "metadata": {},
     "output_type": "execute_result"
    },
    {
     "data": {
      "image/png": "[encoded data removed]",
      "text/plain": [
       "<Figure size 612x388.8 with 2 Axes>"
      ]
     },
     "metadata": {
      "needs_background": "light"
     },
     "output_type": "display_data"
    }
   ],
   "source": [
    "hp.mollview(hpxmap)\n",
    "plt.title('DES Y3: Random RedMaPPer Footprint')"
   ]
  },
  {
   "cell_type": "code",
   "execution_count": 56,
   "id": "93c1953e-d614-4e78-ad4f-381a11b5f9a9",
   "metadata": {},
   "outputs": [
    {
     "data": {
      "image/png": "[encoded data removed]",
      "text/plain": [
       "<Figure size 432x288 with 1 Axes>"
      ]
     },
     "metadata": {
      "needs_background": "light"
     },
     "output_type": "display_data"
    }
   ],
   "source": [
    "plt.hist(rm['lambda_chisq'][rm['lambda_chisq']>20.],bins=np.logspace(1.17, 2.5, 11))\n",
    "plt.xscale('log')"
   ]
  },
  {
   "cell_type": "code",
   "execution_count": 66,
   "id": "eabbafc5-51e0-46df-8d75-3596f08d4379",
   "metadata": {},
   "outputs": [
    {
     "data": {
      "text/plain": [
       "0.001171888888888889"
      ]
     },
     "execution_count": 66,
     "metadata": {},
     "output_type": "execute_result"
    }
   ],
   "source": [
    "np.count_nonzero(rm['lambda_chisq']>20.)/(5000*60**2)"
   ]
  },
  {
   "cell_type": "code",
   "execution_count": null,
   "id": "85a24290-330e-40d7-aee2-3b6fbf7b9092",
   "metadata": {},
   "outputs": [],
   "source": []
  },
  {
   "cell_type": "code",
   "execution_count": null,
   "id": "6dffbe78-b935-498b-85db-716dfec5abf4",
   "metadata": {},
   "outputs": [],
   "source": []
  },
  {
   "cell_type": "markdown",
   "id": "341a54b1-956b-4ef7-af55-8fd18bd9b516",
   "metadata": {},
   "source": [
    "## JackKnife"
   ]
  },
  {
   "cell_type": "code",
   "execution_count": 17,
   "id": "c5789af0-b5cd-4cf4-8e03-9fe2c0c31c84",
   "metadata": {},
   "outputs": [],
   "source": [
    "from jackEstimator import JackKnifer"
   ]
  },
  {
   "cell_type": "code",
   "execution_count": 32,
   "id": "a3044f06-c18a-4da5-8244-b58ba3f9a482",
   "metadata": {},
   "outputs": [
    {
     "name": "stdout",
     "output_type": "stream",
     "text": [
      "total Jk patches are 83\n"
     ]
    }
   ],
   "source": [
    "nside_jk = 8 #this is the low-resolution nside to define the JK masks. QUanto menor o valor, maior sera sua mascara/menor o numero \n",
    "#total de patches a serem removidos\n",
    "jk =  JackKnifer(nside_jk, hpxmap, frac_thr= 0.8)\n",
    "npatches = jk.npatches\n",
    "print('total Jk patches are', npatches)\n"
   ]
  },
  {
   "cell_type": "code",
   "execution_count": null,
   "id": "8494d521-f3b3-4136-9020-3945c946f248",
   "metadata": {},
   "outputs": [],
   "source": []
  },
  {
   "cell_type": "markdown",
   "id": "bd7328f7-095e-434a-bc21-44821ba65dd3",
   "metadata": {},
   "source": [
    "# Count-Count Correlation"
   ]
  },
  {
   "cell_type": "code",
   "execution_count": 33,
   "id": "aac0364c-1261-4eba-aaeb-2a573d4984dc",
   "metadata": {},
   "outputs": [],
   "source": [
    "import treecorr\n",
    "config ={\n",
    "         'dec_col': 'dec',\n",
    "         'dec_units': 'degrees',\n",
    "         'ra_col': 'ra',\n",
    "         'ra_units': 'degrees',\n",
    "         'sep_units': 'arcmin',\n",
    "         'max_sep': 100,\n",
    "         'min_sep': 1,\n",
    "         'nbins': 20,\n",
    "         'verbose': 0\n",
    "        }\n",
    "\n",
    "def get_angular_correlation(data, randoms, config=config):\n",
    "    # load data and random catalogs\n",
    "    cat = treecorr.Catalog(ra=data['ra'], dec=data['dec'], ra_units='degrees', dec_units='degrees')\n",
    "    rcat = treecorr.Catalog(ra=randoms['ra'], dec=randoms['dec'], ra_units='degrees', dec_units='degrees')\n",
    "    \n",
    "    # process data catalog\n",
    "    dd = treecorr.NNCorrelation(config)\n",
    "    dd.process(cat)\n",
    "    \n",
    "    # process random catalog (it takes longer)\n",
    "    rr = treecorr.NNCorrelation(config)\n",
    "    rr.process(rcat)\n",
    "    \n",
    "    # return Landy & Szalay estimator\n",
    "    xi, varxi = dd.calculateXi(rr)\n",
    "    r = np.exp(dd.meanlogr)\n",
    "    sig = np.sqrt(varxi)\n",
    "    \n",
    "    # clean memory\n",
    "    rcat = cat = 0\n",
    "    rr = dd = 0\n",
    "    return r, xi"
   ]
  },
  {
   "cell_type": "code",
   "execution_count": 34,
   "id": "9f3662e7-9687-4483-a6ed-8e7de045bb0f",
   "metadata": {},
   "outputs": [
    {
     "name": "stdout",
     "output_type": "stream",
     "text": [
      "Patch 0\n",
      "Saved results: ./data/xi_jk_patches_00000\n",
      "Patch 1\n",
      "Saved results: ./data/xi_jk_patches_00001\n",
      "Patch 2\n",
      "Saved results: ./data/xi_jk_patches_00002\n",
      "Patch 3\n",
      "Saved results: ./data/xi_jk_patches_00003\n",
      "Patch 4\n",
      "Saved results: ./data/xi_jk_patches_00004\n",
      "Patch 5\n",
      "Saved results: ./data/xi_jk_patches_00005\n",
      "Patch 6\n",
      "Saved results: ./data/xi_jk_patches_00006\n",
      "Patch 7\n",
      "Saved results: ./data/xi_jk_patches_00007\n",
      "Patch 8\n",
      "Saved results: ./data/xi_jk_patches_00008\n",
      "Patch 9\n",
      "Saved results: ./data/xi_jk_patches_00009\n",
      "Patch 10\n",
      "Saved results: ./data/xi_jk_patches_00010\n",
      "Patch 11\n",
      "Saved results: ./data/xi_jk_patches_00011\n",
      "Patch 12\n",
      "Saved results: ./data/xi_jk_patches_00012\n",
      "Patch 13\n",
      "Saved results: ./data/xi_jk_patches_00013\n",
      "Patch 14\n",
      "Saved results: ./data/xi_jk_patches_00014\n",
      "Patch 15\n",
      "Saved results: ./data/xi_jk_patches_00015\n",
      "Patch 16\n",
      "Saved results: ./data/xi_jk_patches_00016\n",
      "Patch 17\n",
      "Saved results: ./data/xi_jk_patches_00017\n",
      "Patch 18\n",
      "Saved results: ./data/xi_jk_patches_00018\n",
      "Patch 19\n",
      "Saved results: ./data/xi_jk_patches_00019\n",
      "Patch 20\n",
      "Saved results: ./data/xi_jk_patches_00020\n",
      "Patch 21\n",
      "Saved results: ./data/xi_jk_patches_00021\n",
      "Patch 22\n",
      "Saved results: ./data/xi_jk_patches_00022\n",
      "Patch 23\n",
      "Saved results: ./data/xi_jk_patches_00023\n",
      "Patch 24\n",
      "Saved results: ./data/xi_jk_patches_00024\n",
      "Patch 25\n",
      "Saved results: ./data/xi_jk_patches_00025\n",
      "Patch 26\n",
      "Saved results: ./data/xi_jk_patches_00026\n",
      "Patch 27\n",
      "Saved results: ./data/xi_jk_patches_00027\n",
      "Patch 28\n",
      "Saved results: ./data/xi_jk_patches_00028\n",
      "Patch 29\n",
      "Saved results: ./data/xi_jk_patches_00029\n",
      "Patch 30\n",
      "Saved results: ./data/xi_jk_patches_00030\n",
      "Patch 31\n",
      "Saved results: ./data/xi_jk_patches_00031\n",
      "Patch 32\n",
      "Saved results: ./data/xi_jk_patches_00032\n",
      "Patch 33\n",
      "Saved results: ./data/xi_jk_patches_00033\n",
      "Patch 34\n",
      "Saved results: ./data/xi_jk_patches_00034\n",
      "Patch 35\n",
      "Saved results: ./data/xi_jk_patches_00035\n",
      "Patch 36\n",
      "Saved results: ./data/xi_jk_patches_00036\n",
      "Patch 37\n",
      "Saved results: ./data/xi_jk_patches_00037\n",
      "Patch 38\n",
      "Saved results: ./data/xi_jk_patches_00038\n",
      "Patch 39\n",
      "Saved results: ./data/xi_jk_patches_00039\n",
      "Patch 40\n",
      "Saved results: ./data/xi_jk_patches_00040\n",
      "Patch 41\n",
      "Saved results: ./data/xi_jk_patches_00041\n",
      "Patch 42\n",
      "Saved results: ./data/xi_jk_patches_00042\n",
      "Patch 43\n",
      "Saved results: ./data/xi_jk_patches_00043\n",
      "Patch 44\n",
      "Saved results: ./data/xi_jk_patches_00044\n",
      "Patch 45\n",
      "Saved results: ./data/xi_jk_patches_00045\n",
      "Patch 46\n",
      "Saved results: ./data/xi_jk_patches_00046\n",
      "Patch 47\n",
      "Saved results: ./data/xi_jk_patches_00047\n",
      "Patch 48\n",
      "Saved results: ./data/xi_jk_patches_00048\n",
      "Patch 49\n",
      "Saved results: ./data/xi_jk_patches_00049\n",
      "Patch 50\n",
      "Saved results: ./data/xi_jk_patches_00050\n",
      "Patch 51\n",
      "Saved results: ./data/xi_jk_patches_00051\n",
      "Patch 52\n",
      "Saved results: ./data/xi_jk_patches_00052\n",
      "Patch 53\n",
      "Saved results: ./data/xi_jk_patches_00053\n",
      "Patch 54\n",
      "Saved results: ./data/xi_jk_patches_00054\n",
      "Patch 55\n",
      "Saved results: ./data/xi_jk_patches_00055\n",
      "Patch 56\n",
      "Saved results: ./data/xi_jk_patches_00056\n",
      "Patch 57\n",
      "Saved results: ./data/xi_jk_patches_00057\n",
      "Patch 58\n",
      "Saved results: ./data/xi_jk_patches_00058\n",
      "Patch 59\n",
      "Saved results: ./data/xi_jk_patches_00059\n",
      "Patch 60\n",
      "Saved results: ./data/xi_jk_patches_00060\n",
      "Patch 61\n",
      "Saved results: ./data/xi_jk_patches_00061\n",
      "Patch 62\n",
      "Saved results: ./data/xi_jk_patches_00062\n",
      "Patch 63\n",
      "Saved results: ./data/xi_jk_patches_00063\n",
      "Patch 64\n",
      "Saved results: ./data/xi_jk_patches_00064\n",
      "Patch 65\n",
      "Saved results: ./data/xi_jk_patches_00065\n",
      "Patch 66\n",
      "Saved results: ./data/xi_jk_patches_00066\n",
      "Patch 67\n",
      "Saved results: ./data/xi_jk_patches_00067\n",
      "Patch 68\n",
      "Saved results: ./data/xi_jk_patches_00068\n",
      "Patch 69\n",
      "Saved results: ./data/xi_jk_patches_00069\n",
      "Patch 70\n",
      "Saved results: ./data/xi_jk_patches_00070\n",
      "Patch 71\n",
      "Saved results: ./data/xi_jk_patches_00071\n",
      "Patch 72\n",
      "Saved results: ./data/xi_jk_patches_00072\n",
      "Patch 73\n",
      "Saved results: ./data/xi_jk_patches_00073\n",
      "Patch 74\n",
      "Saved results: ./data/xi_jk_patches_00074\n",
      "Patch 75\n",
      "Saved results: ./data/xi_jk_patches_00075\n",
      "Patch 76\n",
      "Saved results: ./data/xi_jk_patches_00076\n",
      "Patch 77\n",
      "Saved results: ./data/xi_jk_patches_00077\n",
      "Patch 78\n",
      "Saved results: ./data/xi_jk_patches_00078\n",
      "Patch 79\n",
      "Saved results: ./data/xi_jk_patches_00079\n",
      "Patch 80\n",
      "Saved results: ./data/xi_jk_patches_00080\n",
      "Patch 81\n",
      "Saved results: ./data/xi_jk_patches_00081\n",
      "Patch 82\n",
      "Saved results: ./data/xi_jk_patches_00082\n"
     ]
    }
   ],
   "source": [
    "for kk in range(npatches):\n",
    "    print('Patch %i'%kk)\n",
    "    fname = './data/xi_jk_patches_{:05d}'.format(kk)\n",
    "    \n",
    "    # find indices\n",
    "    idx = jk.get_cat_indices(hpx_rm, kk)\n",
    "    idx1= jk.get_cat_indices(hpx_ran, kk)\n",
    "    \n",
    "    # run correlation functions\n",
    "    _r, _xi = get_angular_correlation(rm[idx], ran[idx1])\n",
    "    \n",
    "    # append results\n",
    "    np.save(fname, _xi)\n",
    "    print('Saved results: %s'%fname)"
   ]
  },
  {
   "cell_type": "code",
   "execution_count": 35,
   "id": "f320a7d1-ed91-40ca-9f26-c70e3f6306c0",
   "metadata": {},
   "outputs": [],
   "source": [
    "fname_base = './data/xi_jk_patches_{:05d}.npy'\n",
    "vec = [np.load(fname_base.format(kk)) for kk in range(npatches)]"
   ]
  },
  {
   "cell_type": "code",
   "execution_count": 36,
   "id": "2f9bd7d3-db29-4f85-945a-65cf01e4c892",
   "metadata": {},
   "outputs": [],
   "source": [
    "vec = np.vstack(vec)"
   ]
  },
  {
   "cell_type": "code",
   "execution_count": null,
   "id": "39901325-cdce-4a14-827f-da2e1e538455",
   "metadata": {},
   "outputs": [],
   "source": []
  },
  {
   "cell_type": "markdown",
   "id": "098be2ab-9b39-4ad7-8a06-120183f84009",
   "metadata": {},
   "source": [
    "### Compute Covariance"
   ]
  },
  {
   "cell_type": "code",
   "execution_count": 37,
   "id": "e137c523-464d-48d6-bc75-f1b219c7d268",
   "metadata": {},
   "outputs": [],
   "source": [
    "def get_jk_cov(jk_stats,npatches):\n",
    "    \"\"\"\n",
    "    Get JackKnife covariance and error bar. \n",
    " \n",
    "    Args:\n",
    "        jk_stats (array): array with the statistics computed for each JK patch\n",
    "        npatches (float): number of JK patches \n",
    "    \"\"\"\n",
    "    mgg  = np.mean(jk_stats, axis =0)\n",
    "    cov_jk  = np.sum((jk_stats - mgg[None, :])[:, :, None] *\n",
    "                 (jk_stats - mgg[None, :])[:, None, :], axis=0)\n",
    "    cov_jk *= ((npatches - 1.)/npatches)  \n",
    "    sig_jk  = np.sqrt(np.diag(cov_jk))\n",
    "    return cov_jk, sig_jk"
   ]
  },
  {
   "cell_type": "code",
   "execution_count": 38,
   "id": "e4a64d0b-7a95-415a-994b-54d9ebb3ce87",
   "metadata": {},
   "outputs": [],
   "source": [
    "cov, sig = get_jk_cov(vec, jk.npatches)"
   ]
  },
  {
   "cell_type": "code",
   "execution_count": 45,
   "id": "8e161441-310a-4ea7-ba41-368b640ec4d2",
   "metadata": {},
   "outputs": [
    {
     "data": {
      "text/plain": [
       "<matplotlib.colorbar.Colorbar at 0x1554f6f98df0>"
      ]
     },
     "execution_count": 45,
     "metadata": {},
     "output_type": "execute_result"
    },
    {
     "data": {
      "image/png": "[encoded data removed]",
      "text/plain": [
       "<Figure size 432x288 with 2 Axes>"
      ]
     },
     "metadata": {
      "needs_background": "light"
     },
     "output_type": "display_data"
    }
   ],
   "source": [
    "plt.imshow(np.corrcoef(cov),origin='lower',cmap='Spectral')\n",
    "plt.colorbar()"
   ]
  },
  {
   "cell_type": "code",
   "execution_count": 40,
   "id": "c509f0d9-2fb5-41ca-95e1-821327040ca8",
   "metadata": {},
   "outputs": [
    {
     "data": {
      "image/png": "[encoded data removed]",
      "text/plain": [
       "<Figure size 432x288 with 1 Axes>"
      ]
     },
     "metadata": {
      "needs_background": "light"
     },
     "output_type": "display_data"
    }
   ],
   "source": [
    "xi = np.mean(vec,axis=0)\n",
    "r = _r\n",
    "\n",
    "plt.scatter(r, xi, color='blue')\n",
    "plt.plot(r, xi, color='blue')\n",
    "plt.plot(r, -xi, color='blue', ls=':')\n",
    "plt.errorbar(r[xi>0], xi[xi>0], yerr=sig[xi>0], color='r', lw=3, ls='')\n",
    "plt.errorbar(r[xi<0], -xi[xi<0], yerr=sig[xi<0], color='r', lw=3, ls='')\n",
    "leg = plt.errorbar(-r, xi, yerr=sig, color='blue')\n",
    "\n",
    "plt.xscale('log')\n",
    "plt.yscale('log', nonpositive='clip')\n",
    "plt.xlabel(r'$\\theta$ (arcmin)')\n",
    "\n",
    "plt.legend([leg], [r'$w(\\theta)$'], loc='lower left')\n",
    "plt.xlim([3,120])\n",
    "plt.show()"
   ]
  },
  {
   "cell_type": "code",
   "execution_count": null,
   "id": "8ed7112a-7a00-450f-bf04-dfd7a98ac158",
   "metadata": {},
   "outputs": [],
   "source": []
  },
  {
   "cell_type": "code",
   "execution_count": null,
   "id": "1fe95a32-70f9-49ab-865e-7edc364bb7fb",
   "metadata": {},
   "outputs": [],
   "source": []
  },
  {
   "cell_type": "markdown",
   "id": "cc2f7128-240d-48ac-8f62-edbf1dcb67b4",
   "metadata": {},
   "source": [
    "### Run to clusters"
   ]
  },
  {
   "cell_type": "code",
   "execution_count": null,
   "id": "9fea2740-2736-40b6-8024-8b48b53799df",
   "metadata": {},
   "outputs": [],
   "source": [
    "from __future__ import print_function\n",
    "import pprint\n",
    "\n",
    "config = treecorr.read_config('config_file.yaml')\n",
    "print(pprint.pformat(config))"
   ]
  },
  {
   "cell_type": "code",
   "execution_count": null,
   "id": "f89a9f7b-3ef0-4dcb-a068-5a6accf01221",
   "metadata": {},
   "outputs": [],
   "source": [
    "dd = treecorr.NNCorrelation(config)\n",
    "# dd.process()"
   ]
  },
  {
   "cell_type": "code",
   "execution_count": null,
   "id": "e42e4073-ccd6-44ba-913c-fc77395af496",
   "metadata": {},
   "outputs": [],
   "source": [
    "cat = treecorr.Catalog(ra=rm['ra'], dec=rm['dec'], ra_units='degrees', dec_units='degrees')\n",
    "rcat = treecorr.Catalog(ra=ran['ra'], dec=ran['dec'], ra_units='degrees', dec_units='degrees')"
   ]
  },
  {
   "cell_type": "code",
   "execution_count": null,
   "id": "a3feedc5-f620-454c-a2a1-ecc5bebf9abe",
   "metadata": {},
   "outputs": [],
   "source": [
    "dd = treecorr.NNCorrelation(config)\n",
    "dd.process(cat)"
   ]
  },
  {
   "cell_type": "code",
   "execution_count": null,
   "id": "3ed1dff2-347c-42cb-8932-4f12c8a7f786",
   "metadata": {},
   "outputs": [],
   "source": [
    "rr = treecorr.NNCorrelation(config)\n",
    "rr.process(rcat)"
   ]
  },
  {
   "cell_type": "code",
   "execution_count": null,
   "id": "dc06e117-7624-49f2-81f6-7461e03cfbed",
   "metadata": {},
   "outputs": [],
   "source": [
    "# plt.hist(rm['z_lambda'])"
   ]
  },
  {
   "cell_type": "code",
   "execution_count": null,
   "id": "81eef949-e879-4c49-8213-e5a846473916",
   "metadata": {},
   "outputs": [],
   "source": []
  },
  {
   "cell_type": "markdown",
   "id": "a4db5ffb-51fb-4c87-9782-060c91ef698d",
   "metadata": {},
   "source": [
    "## Plot Results"
   ]
  },
  {
   "cell_type": "code",
   "execution_count": null,
   "id": "6beeff7b-3553-4d97-9a52-02a14f03e8ce",
   "metadata": {},
   "outputs": [],
   "source": [
    "xi, varxi = dd.calculateXi(rr)\n",
    "r = np.exp(dd.meanlogr)\n",
    "sig = np.sqrt(varxi)\n",
    "\n",
    "plt.scatter(r, xi, color='blue')\n",
    "plt.plot(r, xi, color='blue')\n",
    "plt.plot(r, -xi, color='blue', ls=':')\n",
    "plt.errorbar(r[xi>0], xi[xi>0], yerr=sig[xi>0], color='r', lw=3, ls='')\n",
    "plt.errorbar(r[xi<0], -xi[xi<0], yerr=sig[xi<0], color='r', lw=3, ls='')\n",
    "leg = plt.errorbar(-r, xi, yerr=sig, color='blue')\n",
    "\n",
    "plt.xscale('log')\n",
    "plt.yscale('log', nonpositive='clip')\n",
    "plt.xlabel(r'$\\theta$ (arcmin)')\n",
    "\n",
    "plt.legend([leg], [r'$w(\\theta)$'], loc='lower left')\n",
    "plt.xlim([3,320])\n",
    "plt.show()"
   ]
  },
  {
   "cell_type": "markdown",
   "id": "8398cec1-57db-4196-9334-69c4b39d3e7a",
   "metadata": {},
   "source": [
    "We might want to from 6 arcmin up to 360 arcmin"
   ]
  },
  {
   "cell_type": "code",
   "execution_count": null,
   "id": "cab47ceb-b687-4ea9-9cc0-3aad9207dcc9",
   "metadata": {},
   "outputs": [],
   "source": []
  },
  {
   "cell_type": "code",
   "execution_count": null,
   "id": "696ed25f-c6f0-4f34-b9e0-41231c799b78",
   "metadata": {},
   "outputs": [],
   "source": [
    "# plt.hist(np.abs(sig/xi),bins=np.linspace(0.,0.5,21))"
   ]
  },
  {
   "cell_type": "code",
   "execution_count": null,
   "id": "9758ec30-3b30-48cc-ba4a-204cb660a495",
   "metadata": {},
   "outputs": [],
   "source": []
  },
  {
   "cell_type": "code",
   "execution_count": null,
   "id": "4ccc5823-1ae2-406c-bcbf-505af217a547",
   "metadata": {},
   "outputs": [],
   "source": [
    "from astropy.io.fits import getdata"
   ]
  },
  {
   "cell_type": "code",
   "execution_count": null,
   "id": "cb30008d-510c-4fa8-ac6a-14188155d007",
   "metadata": {},
   "outputs": [],
   "source": [
    "# hpmap = hp.read_map('y3a2_footprint_griz_1exp_v2.0.fits.gz')\n",
    "mask = hp.ud_grade(hpmap, nside_out=512)#.astype(int)"
   ]
  },
  {
   "cell_type": "code",
   "execution_count": null,
   "id": "1c7c4fed-1aae-4e17-b613-c329f85d1ce8",
   "metadata": {},
   "outputs": [],
   "source": [
    "mask[mask==hp.UNSEEN] = 0"
   ]
  },
  {
   "cell_type": "code",
   "execution_count": null,
   "id": "b6cb101f-1e1b-45cc-8be8-1f4616db44a0",
   "metadata": {},
   "outputs": [],
   "source": [
    "hp.mollview(mask)"
   ]
  }
 ],
 "metadata": {
  "kernelspec": {
   "display_name": "conda-clevarenv",
   "language": "python",
   "name": "conda-clevarenv"
  },
  "language_info": {
   "codemirror_mode": {
    "name": "ipython",
    "version": 3
   },
   "file_extension": ".py",
   "mimetype": "text/x-python",
   "name": "python",
   "nbconvert_exporter": "python",
   "pygments_lexer": "ipython3",
   "version": "3.9.7"
  }
 },
 "nbformat": 4,
 "nbformat_minor": 5
}
