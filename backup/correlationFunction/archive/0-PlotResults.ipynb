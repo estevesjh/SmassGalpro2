{
 "cells": [
  {
   "cell_type": "markdown",
   "id": "a44824a2-cf62-40bd-9db6-da9e819bcc75",
   "metadata": {},
   "source": [
    "# Compare: TreeCorr JK Covariances\n",
    "- Load outputs from `run.py` and `run-kmeans.py`\n",
    "- Plot data\n",
    "- Compare covariances results"
   ]
  },
  {
   "cell_type": "code",
   "execution_count": 2,
   "id": "6881920b-379b-431f-abb5-e3ab2ec66cc8",
   "metadata": {},
   "outputs": [],
   "source": [
    "import numpy as np\n",
    "import matplotlib.pyplot as plt\n",
    "import seaborn as sns\n",
    "sns.set_context('talk')"
   ]
  },
  {
   "cell_type": "code",
   "execution_count": null,
   "id": "c2fc8f87-fb71-45e5-a114-95db7d6bdae4",
   "metadata": {},
   "outputs": [],
   "source": []
  },
  {
   "cell_type": "markdown",
   "id": "55e239e7-424b-4141-a15d-23912aed4069",
   "metadata": {},
   "source": [
    "## Load Covariances"
   ]
  },
  {
   "cell_type": "markdown",
   "id": "0dc41e78-ac1c-49a2-9614-ff36e695eaff",
   "metadata": {},
   "source": [
    "### Healpix Method"
   ]
  },
  {
   "cell_type": "code",
   "execution_count": 3,
   "id": "b5df3b86-83ae-4c49-a8fc-ff3615fd5c21",
   "metadata": {},
   "outputs": [
    {
     "ename": "FileNotFoundError",
     "evalue": "[Errno 2] No such file or directory: './data/xi_Nside8_jk_patches_00000.npy'",
     "output_type": "error",
     "traceback": [
      "\u001b[0;31m---------------------------------------------------------------------------\u001b[0m",
      "\u001b[0;31mFileNotFoundError\u001b[0m                         Traceback (most recent call last)",
      "\u001b[0;32m/tmp/ipykernel_2261/1990621596.py\u001b[0m in \u001b[0;36m<module>\u001b[0;34m\u001b[0m\n\u001b[1;32m      1\u001b[0m \u001b[0mhealpix\u001b[0m \u001b[0;34m=\u001b[0m \u001b[0mdict\u001b[0m\u001b[0;34m(\u001b[0m\u001b[0;34m)\u001b[0m\u001b[0;34m\u001b[0m\u001b[0;34m\u001b[0m\u001b[0m\n\u001b[1;32m      2\u001b[0m \u001b[0mfname_base\u001b[0m \u001b[0;34m=\u001b[0m \u001b[0;34m'./data/xi_Nside8_jk_patches_{:05d}.npy'\u001b[0m\u001b[0;34m\u001b[0m\u001b[0;34m\u001b[0m\u001b[0m\n\u001b[0;32m----> 3\u001b[0;31m \u001b[0mvec\u001b[0m \u001b[0;34m=\u001b[0m \u001b[0;34m[\u001b[0m\u001b[0mnp\u001b[0m\u001b[0;34m.\u001b[0m\u001b[0mload\u001b[0m\u001b[0;34m(\u001b[0m\u001b[0mfname_base\u001b[0m\u001b[0;34m.\u001b[0m\u001b[0mformat\u001b[0m\u001b[0;34m(\u001b[0m\u001b[0mkk\u001b[0m\u001b[0;34m)\u001b[0m\u001b[0;34m)\u001b[0m \u001b[0;32mfor\u001b[0m \u001b[0mkk\u001b[0m \u001b[0;32min\u001b[0m \u001b[0mrange\u001b[0m\u001b[0;34m(\u001b[0m\u001b[0;36m88\u001b[0m\u001b[0;34m)\u001b[0m\u001b[0;34m]\u001b[0m\u001b[0;34m\u001b[0m\u001b[0;34m\u001b[0m\u001b[0m\n\u001b[0m\u001b[1;32m      4\u001b[0m \u001b[0mhealpix\u001b[0m\u001b[0;34m[\u001b[0m\u001b[0;34m'Nside8'\u001b[0m\u001b[0;34m]\u001b[0m \u001b[0;34m=\u001b[0m \u001b[0mnp\u001b[0m\u001b[0;34m.\u001b[0m\u001b[0marray\u001b[0m\u001b[0;34m(\u001b[0m\u001b[0mvec\u001b[0m\u001b[0;34m)\u001b[0m\u001b[0;34m\u001b[0m\u001b[0;34m\u001b[0m\u001b[0m\n\u001b[1;32m      5\u001b[0m \u001b[0;34m\u001b[0m\u001b[0m\n",
      "\u001b[0;32m/tmp/ipykernel_2261/1990621596.py\u001b[0m in \u001b[0;36m<listcomp>\u001b[0;34m(.0)\u001b[0m\n\u001b[1;32m      1\u001b[0m \u001b[0mhealpix\u001b[0m \u001b[0;34m=\u001b[0m \u001b[0mdict\u001b[0m\u001b[0;34m(\u001b[0m\u001b[0;34m)\u001b[0m\u001b[0;34m\u001b[0m\u001b[0;34m\u001b[0m\u001b[0m\n\u001b[1;32m      2\u001b[0m \u001b[0mfname_base\u001b[0m \u001b[0;34m=\u001b[0m \u001b[0;34m'./data/xi_Nside8_jk_patches_{:05d}.npy'\u001b[0m\u001b[0;34m\u001b[0m\u001b[0;34m\u001b[0m\u001b[0m\n\u001b[0;32m----> 3\u001b[0;31m \u001b[0mvec\u001b[0m \u001b[0;34m=\u001b[0m \u001b[0;34m[\u001b[0m\u001b[0mnp\u001b[0m\u001b[0;34m.\u001b[0m\u001b[0mload\u001b[0m\u001b[0;34m(\u001b[0m\u001b[0mfname_base\u001b[0m\u001b[0;34m.\u001b[0m\u001b[0mformat\u001b[0m\u001b[0;34m(\u001b[0m\u001b[0mkk\u001b[0m\u001b[0;34m)\u001b[0m\u001b[0;34m)\u001b[0m \u001b[0;32mfor\u001b[0m \u001b[0mkk\u001b[0m \u001b[0;32min\u001b[0m \u001b[0mrange\u001b[0m\u001b[0;34m(\u001b[0m\u001b[0;36m88\u001b[0m\u001b[0;34m)\u001b[0m\u001b[0;34m]\u001b[0m\u001b[0;34m\u001b[0m\u001b[0;34m\u001b[0m\u001b[0m\n\u001b[0m\u001b[1;32m      4\u001b[0m \u001b[0mhealpix\u001b[0m\u001b[0;34m[\u001b[0m\u001b[0;34m'Nside8'\u001b[0m\u001b[0;34m]\u001b[0m \u001b[0;34m=\u001b[0m \u001b[0mnp\u001b[0m\u001b[0;34m.\u001b[0m\u001b[0marray\u001b[0m\u001b[0;34m(\u001b[0m\u001b[0mvec\u001b[0m\u001b[0;34m)\u001b[0m\u001b[0;34m\u001b[0m\u001b[0;34m\u001b[0m\u001b[0m\n\u001b[1;32m      5\u001b[0m \u001b[0;34m\u001b[0m\u001b[0m\n",
      "\u001b[0;32m~/.conda/envs/clevarenv/lib/python3.9/site-packages/numpy/lib/npyio.py\u001b[0m in \u001b[0;36mload\u001b[0;34m(file, mmap_mode, allow_pickle, fix_imports, encoding)\u001b[0m\n\u001b[1;32m    405\u001b[0m             \u001b[0mown_fid\u001b[0m \u001b[0;34m=\u001b[0m \u001b[0;32mFalse\u001b[0m\u001b[0;34m\u001b[0m\u001b[0;34m\u001b[0m\u001b[0m\n\u001b[1;32m    406\u001b[0m         \u001b[0;32melse\u001b[0m\u001b[0;34m:\u001b[0m\u001b[0;34m\u001b[0m\u001b[0;34m\u001b[0m\u001b[0m\n\u001b[0;32m--> 407\u001b[0;31m             \u001b[0mfid\u001b[0m \u001b[0;34m=\u001b[0m \u001b[0mstack\u001b[0m\u001b[0;34m.\u001b[0m\u001b[0menter_context\u001b[0m\u001b[0;34m(\u001b[0m\u001b[0mopen\u001b[0m\u001b[0;34m(\u001b[0m\u001b[0mos_fspath\u001b[0m\u001b[0;34m(\u001b[0m\u001b[0mfile\u001b[0m\u001b[0;34m)\u001b[0m\u001b[0;34m,\u001b[0m \u001b[0;34m\"rb\"\u001b[0m\u001b[0;34m)\u001b[0m\u001b[0;34m)\u001b[0m\u001b[0;34m\u001b[0m\u001b[0;34m\u001b[0m\u001b[0m\n\u001b[0m\u001b[1;32m    408\u001b[0m             \u001b[0mown_fid\u001b[0m \u001b[0;34m=\u001b[0m \u001b[0;32mTrue\u001b[0m\u001b[0;34m\u001b[0m\u001b[0;34m\u001b[0m\u001b[0m\n\u001b[1;32m    409\u001b[0m \u001b[0;34m\u001b[0m\u001b[0m\n",
      "\u001b[0;31mFileNotFoundError\u001b[0m: [Errno 2] No such file or directory: './data/xi_Nside8_jk_patches_00000.npy'"
     ]
    }
   ],
   "source": [
    "healpix = dict()\n",
    "\n",
    "# fname_base = './data/xi_Nside8_jk_patches_{:05d}.npy'\n",
    "# vec = [np.load(fname_base.format(kk)) for kk in range(88)]\n",
    "# healpix['Nside8'] = np.array(vec)\n",
    "\n",
    "# fname_base = './data/xi_Nside16_jk_patches_{:05d}.npy'\n",
    "# vec = [np.load(fname_base.format(kk)) for kk in range(376)]\n",
    "# healpix['Nside16'] = np.array(vec)"
   ]
  },
  {
   "cell_type": "code",
   "execution_count": 8,
   "id": "6fddc2b5-e9ac-40e0-a57a-9ca8bda439a2",
   "metadata": {},
   "outputs": [
    {
     "ename": "FileNotFoundError",
     "evalue": "[Errno 2] No such file or directory: './data/xi_kmeans10_jk_patches_00000.npy'",
     "output_type": "error",
     "traceback": [
      "\u001b[0;31m---------------------------------------------------------------------------\u001b[0m",
      "\u001b[0;31mFileNotFoundError\u001b[0m                         Traceback (most recent call last)",
      "\u001b[0;32m/tmp/ipykernel_2261/779190051.py\u001b[0m in \u001b[0;36m<module>\u001b[0;34m\u001b[0m\n\u001b[1;32m      1\u001b[0m \u001b[0mkmeans\u001b[0m \u001b[0;34m=\u001b[0m \u001b[0mdict\u001b[0m\u001b[0;34m(\u001b[0m\u001b[0;34m)\u001b[0m\u001b[0;34m\u001b[0m\u001b[0;34m\u001b[0m\u001b[0m\n\u001b[1;32m      2\u001b[0m \u001b[0mfname_base\u001b[0m \u001b[0;34m=\u001b[0m \u001b[0;34m'./data/xi_kmeans10_jk_patches_{:05d}.npy'\u001b[0m\u001b[0;34m\u001b[0m\u001b[0;34m\u001b[0m\u001b[0m\n\u001b[0;32m----> 3\u001b[0;31m \u001b[0mvec\u001b[0m \u001b[0;34m=\u001b[0m \u001b[0;34m[\u001b[0m\u001b[0mnp\u001b[0m\u001b[0;34m.\u001b[0m\u001b[0mload\u001b[0m\u001b[0;34m(\u001b[0m\u001b[0mfname_base\u001b[0m\u001b[0;34m.\u001b[0m\u001b[0mformat\u001b[0m\u001b[0;34m(\u001b[0m\u001b[0mkk\u001b[0m\u001b[0;34m)\u001b[0m\u001b[0;34m)\u001b[0m \u001b[0;32mfor\u001b[0m \u001b[0mkk\u001b[0m \u001b[0;32min\u001b[0m \u001b[0mrange\u001b[0m\u001b[0;34m(\u001b[0m\u001b[0;36m10\u001b[0m\u001b[0;34m)\u001b[0m\u001b[0;34m]\u001b[0m\u001b[0;34m\u001b[0m\u001b[0;34m\u001b[0m\u001b[0m\n\u001b[0m\u001b[1;32m      4\u001b[0m \u001b[0mkmeans\u001b[0m\u001b[0;34m[\u001b[0m\u001b[0;34m'10'\u001b[0m\u001b[0;34m]\u001b[0m \u001b[0;34m=\u001b[0m \u001b[0mnp\u001b[0m\u001b[0;34m.\u001b[0m\u001b[0marray\u001b[0m\u001b[0;34m(\u001b[0m\u001b[0mvec\u001b[0m\u001b[0;34m)\u001b[0m\u001b[0;34m\u001b[0m\u001b[0;34m\u001b[0m\u001b[0m\n\u001b[1;32m      5\u001b[0m \u001b[0;34m\u001b[0m\u001b[0m\n",
      "\u001b[0;32m/tmp/ipykernel_2261/779190051.py\u001b[0m in \u001b[0;36m<listcomp>\u001b[0;34m(.0)\u001b[0m\n\u001b[1;32m      1\u001b[0m \u001b[0mkmeans\u001b[0m \u001b[0;34m=\u001b[0m \u001b[0mdict\u001b[0m\u001b[0;34m(\u001b[0m\u001b[0;34m)\u001b[0m\u001b[0;34m\u001b[0m\u001b[0;34m\u001b[0m\u001b[0m\n\u001b[1;32m      2\u001b[0m \u001b[0mfname_base\u001b[0m \u001b[0;34m=\u001b[0m \u001b[0;34m'./data/xi_kmeans10_jk_patches_{:05d}.npy'\u001b[0m\u001b[0;34m\u001b[0m\u001b[0;34m\u001b[0m\u001b[0m\n\u001b[0;32m----> 3\u001b[0;31m \u001b[0mvec\u001b[0m \u001b[0;34m=\u001b[0m \u001b[0;34m[\u001b[0m\u001b[0mnp\u001b[0m\u001b[0;34m.\u001b[0m\u001b[0mload\u001b[0m\u001b[0;34m(\u001b[0m\u001b[0mfname_base\u001b[0m\u001b[0;34m.\u001b[0m\u001b[0mformat\u001b[0m\u001b[0;34m(\u001b[0m\u001b[0mkk\u001b[0m\u001b[0;34m)\u001b[0m\u001b[0;34m)\u001b[0m \u001b[0;32mfor\u001b[0m \u001b[0mkk\u001b[0m \u001b[0;32min\u001b[0m \u001b[0mrange\u001b[0m\u001b[0;34m(\u001b[0m\u001b[0;36m10\u001b[0m\u001b[0;34m)\u001b[0m\u001b[0;34m]\u001b[0m\u001b[0;34m\u001b[0m\u001b[0;34m\u001b[0m\u001b[0m\n\u001b[0m\u001b[1;32m      4\u001b[0m \u001b[0mkmeans\u001b[0m\u001b[0;34m[\u001b[0m\u001b[0;34m'10'\u001b[0m\u001b[0;34m]\u001b[0m \u001b[0;34m=\u001b[0m \u001b[0mnp\u001b[0m\u001b[0;34m.\u001b[0m\u001b[0marray\u001b[0m\u001b[0;34m(\u001b[0m\u001b[0mvec\u001b[0m\u001b[0;34m)\u001b[0m\u001b[0;34m\u001b[0m\u001b[0;34m\u001b[0m\u001b[0m\n\u001b[1;32m      5\u001b[0m \u001b[0;34m\u001b[0m\u001b[0m\n",
      "\u001b[0;32m~/.conda/envs/clevarenv/lib/python3.9/site-packages/numpy/lib/npyio.py\u001b[0m in \u001b[0;36mload\u001b[0;34m(file, mmap_mode, allow_pickle, fix_imports, encoding)\u001b[0m\n\u001b[1;32m    405\u001b[0m             \u001b[0mown_fid\u001b[0m \u001b[0;34m=\u001b[0m \u001b[0;32mFalse\u001b[0m\u001b[0;34m\u001b[0m\u001b[0;34m\u001b[0m\u001b[0m\n\u001b[1;32m    406\u001b[0m         \u001b[0;32melse\u001b[0m\u001b[0;34m:\u001b[0m\u001b[0;34m\u001b[0m\u001b[0;34m\u001b[0m\u001b[0m\n\u001b[0;32m--> 407\u001b[0;31m             \u001b[0mfid\u001b[0m \u001b[0;34m=\u001b[0m \u001b[0mstack\u001b[0m\u001b[0;34m.\u001b[0m\u001b[0menter_context\u001b[0m\u001b[0;34m(\u001b[0m\u001b[0mopen\u001b[0m\u001b[0;34m(\u001b[0m\u001b[0mos_fspath\u001b[0m\u001b[0;34m(\u001b[0m\u001b[0mfile\u001b[0m\u001b[0;34m)\u001b[0m\u001b[0;34m,\u001b[0m \u001b[0;34m\"rb\"\u001b[0m\u001b[0;34m)\u001b[0m\u001b[0;34m)\u001b[0m\u001b[0;34m\u001b[0m\u001b[0;34m\u001b[0m\u001b[0m\n\u001b[0m\u001b[1;32m    408\u001b[0m             \u001b[0mown_fid\u001b[0m \u001b[0;34m=\u001b[0m \u001b[0;32mTrue\u001b[0m\u001b[0;34m\u001b[0m\u001b[0;34m\u001b[0m\u001b[0m\n\u001b[1;32m    409\u001b[0m \u001b[0;34m\u001b[0m\u001b[0m\n",
      "\u001b[0;31mFileNotFoundError\u001b[0m: [Errno 2] No such file or directory: './data/xi_kmeans10_jk_patches_00000.npy'"
     ]
    }
   ],
   "source": [
    "kmeans = dict()\n",
    "# fname_base = './data/xi_kmeans10_jk_patches_{:05d}.npy'\n",
    "# vec = [np.load(fname_base.format(kk)) for kk in range(10)]\n",
    "# kmeans['10'] = np.array(vec)\n",
    "\n",
    "# fname_base = './data/xi_kmeans50_jk_patches_{:05d}.npy'\n",
    "# vec = [np.load(fname_base.format(kk)) for kk in range(50)]\n",
    "# kmeans['50'] = np.array(vec)\n",
    "\n",
    "# fname_base = './data/xi_kmeans100_jk_patches_{:05d}.npy'\n",
    "# vec = [np.load(fname_base.format(kk)) for kk in range(100)]\n",
    "# kmeans['100'] = np.array(vec)\n",
    "\n",
    "# fname_base = './data/xi_kmeans300_jk_patches_{:05d}.npy'\n",
    "# vec = [np.load(fname_base.format(kk)) for kk in range(100)]\n",
    "# kmeans['300'] = np.array(vec)"
   ]
  },
  {
   "cell_type": "code",
   "execution_count": null,
   "id": "e9a09ec7-42bb-481b-8feb-6f643a2a6672",
   "metadata": {},
   "outputs": [],
   "source": []
  },
  {
   "cell_type": "markdown",
   "id": "098be2ab-9b39-4ad7-8a06-120183f84009",
   "metadata": {},
   "source": [
    "### Compute Covariance"
   ]
  },
  {
   "cell_type": "code",
   "execution_count": null,
   "id": "e137c523-464d-48d6-bc75-f1b219c7d268",
   "metadata": {},
   "outputs": [],
   "source": [
    "def get_jk_cov(jk_stats,npatches):\n",
    "    \"\"\"\n",
    "    Get JackKnife covariance and error bar. \n",
    " \n",
    "    Args:\n",
    "        jk_stats (array): array with the statistics computed for each JK patch\n",
    "        npatches (float): number of JK patches \n",
    "    \"\"\"\n",
    "    mgg  = np.mean(jk_stats, axis =0)\n",
    "    cov_jk  = np.sum((jk_stats - mgg[None, :])[:, :, None] *\n",
    "                 (jk_stats - mgg[None, :])[:, None, :], axis=0)\n",
    "    cov_jk *= ((npatches - 1.)/npatches)  \n",
    "    sig_jk  = np.sqrt(np.diag(cov_jk))\n",
    "    return cov_jk, sig_jk"
   ]
  },
  {
   "cell_type": "code",
   "execution_count": null,
   "id": "e4a64d0b-7a95-415a-994b-54d9ebb3ce87",
   "metadata": {},
   "outputs": [],
   "source": [
    "cov, sig = get_jk_cov(healpix['Nside8'], healpix['Nside8'].shape[0])\n",
    "healpix['Nside8_cov'] = cov\n",
    "healpix['Nside8_sig'] = sig\n",
    "\n",
    "cov, sig = get_jk_cov(healpix['Nside16'], healpix['Nside16'].shape[0])\n",
    "healpix['Nside16_cov'] = cov\n",
    "healpix['Nside16_sig'] = sig"
   ]
  },
  {
   "cell_type": "code",
   "execution_count": null,
   "id": "5ae164f4-4a7c-458c-a90c-4e22c9cab027",
   "metadata": {},
   "outputs": [],
   "source": [
    "plt.imshow(np.corrcoef(cov),origin='lower')\n",
    "plt.colorbar()"
   ]
  },
  {
   "cell_type": "code",
   "execution_count": null,
   "id": "3d5a7917-c3e6-4128-95c6-07ac46f94fad",
   "metadata": {},
   "outputs": [],
   "source": [
    "cov, sig = get_jk_cov(kmeans['10'], kmeans['10'].shape[0])\n",
    "kmeans['10_cov'] = cov\n",
    "kmeans['10_sig'] = sig\n",
    "\n",
    "cov, sig = get_jk_cov(kmeans['50'], kmeans['50'].shape[0])\n",
    "kmeans['50_cov'] = cov\n",
    "kmeans['50_sig'] = sig\n",
    "\n",
    "cov, sig = get_jk_cov(kmeans['100'], kmeans['100'].shape[0])\n",
    "kmeans['100_cov'] = cov\n",
    "kmeans['100_sig'] = sig\n",
    "\n",
    "cov, sig = get_jk_cov(kmeans['300'], kmeans['300'].shape[0])\n",
    "kmeans['300_cov'] = cov\n",
    "kmeans['300_sig'] = sig"
   ]
  },
  {
   "cell_type": "code",
   "execution_count": 4,
   "id": "8e161441-310a-4ea7-ba41-368b640ec4d2",
   "metadata": {},
   "outputs": [
    {
     "ename": "NameError",
     "evalue": "name 'kmeans' is not defined",
     "output_type": "error",
     "traceback": [
      "\u001b[0;31m---------------------------------------------------------------------------\u001b[0m",
      "\u001b[0;31mNameError\u001b[0m                                 Traceback (most recent call last)",
      "\u001b[0;32m/tmp/ipykernel_2261/2704970631.py\u001b[0m in \u001b[0;36m<module>\u001b[0;34m\u001b[0m\n\u001b[0;32m----> 1\u001b[0;31m \u001b[0mcov\u001b[0m \u001b[0;34m=\u001b[0m \u001b[0mkmeans\u001b[0m\u001b[0;34m[\u001b[0m\u001b[0;34m'300_cov'\u001b[0m\u001b[0;34m]\u001b[0m\u001b[0;34m\u001b[0m\u001b[0;34m\u001b[0m\u001b[0m\n\u001b[0m\u001b[1;32m      2\u001b[0m \u001b[0mplt\u001b[0m\u001b[0;34m.\u001b[0m\u001b[0mimshow\u001b[0m\u001b[0;34m(\u001b[0m\u001b[0mnp\u001b[0m\u001b[0;34m.\u001b[0m\u001b[0mcorrcoef\u001b[0m\u001b[0;34m(\u001b[0m\u001b[0mcov\u001b[0m\u001b[0;34m)\u001b[0m\u001b[0;34m,\u001b[0m\u001b[0morigin\u001b[0m\u001b[0;34m=\u001b[0m\u001b[0;34m'lower'\u001b[0m\u001b[0;34m)\u001b[0m\u001b[0;34m\u001b[0m\u001b[0;34m\u001b[0m\u001b[0m\n\u001b[1;32m      3\u001b[0m \u001b[0mplt\u001b[0m\u001b[0;34m.\u001b[0m\u001b[0mcolorbar\u001b[0m\u001b[0;34m(\u001b[0m\u001b[0;34m)\u001b[0m\u001b[0;34m\u001b[0m\u001b[0;34m\u001b[0m\u001b[0m\n",
      "\u001b[0;31mNameError\u001b[0m: name 'kmeans' is not defined"
     ]
    }
   ],
   "source": [
    "cov = kmeans['300_cov']\n",
    "plt.imshow(np.corrcoef(cov),origin='lower')\n",
    "plt.colorbar()"
   ]
  },
  {
   "cell_type": "code",
   "execution_count": 5,
   "id": "f338f133-175e-4073-a274-ff6dfafdd0e5",
   "metadata": {},
   "outputs": [],
   "source": [
    "config ={\n",
    "         'dec_col': 'dec',\n",
    "         'dec_units': 'degrees',\n",
    "         'ra_col': 'ra',\n",
    "         'ra_units': 'degrees',\n",
    "         'sep_units': 'arcmin',\n",
    "         'max_sep': 100,\n",
    "         'min_sep': 1,\n",
    "         'nbins': 20,\n",
    "         'verbose': 0\n",
    "        }"
   ]
  },
  {
   "cell_type": "code",
   "execution_count": 6,
   "id": "40694ebf-23a0-4fde-b72a-303a9285d2a6",
   "metadata": {},
   "outputs": [
    {
     "data": {
      "text/plain": [
       "array([  1.        ,   1.27427499,   1.62377674,   2.06913808,\n",
       "         2.6366509 ,   3.35981829,   4.2813324 ,   5.45559478,\n",
       "         6.95192796,   8.8586679 ,  11.28837892,  14.38449888,\n",
       "        18.32980711,  23.35721469,  29.76351442,  37.92690191,\n",
       "        48.32930239,  61.58482111,  78.47599704, 100.        ])"
      ]
     },
     "execution_count": 6,
     "metadata": {},
     "output_type": "execute_result"
    }
   ],
   "source": [
    "r = np.logspace(np.log10(config['min_sep']),np.log10(config['max_sep']), config['nbins'])\n",
    "r"
   ]
  },
  {
   "cell_type": "code",
   "execution_count": 29,
   "id": "e0f96736-e3e5-4312-b4dd-8719947a7665",
   "metadata": {},
   "outputs": [],
   "source": [
    "fname ='./output/all_%s%i.npz'\n",
    "\n",
    "kmeans = dict()\n",
    "for ni in [50, 100, 300]:\n",
    "    kmeans[str(ni)] = np.load(fname%('kmeans',ni))"
   ]
  },
  {
   "cell_type": "code",
   "execution_count": 30,
   "id": "c7463b48-19a2-450e-9e66-7611a97daeaf",
   "metadata": {},
   "outputs": [],
   "source": [
    "for ni in [8, 16]:\n",
    "    kmeans[str(ni)] = np.load(fname%('healpix_Nside',ni))"
   ]
  },
  {
   "cell_type": "code",
   "execution_count": 31,
   "id": "995ef3e4-4d0c-45a3-9904-e8681245fb98",
   "metadata": {},
   "outputs": [
    {
     "data": {
      "text/plain": [
       "['r', 'mean', 'cov', 'sig']"
      ]
     },
     "execution_count": 31,
     "metadata": {},
     "output_type": "execute_result"
    }
   ],
   "source": [
    "list(kmeans['50'].keys())"
   ]
  },
  {
   "cell_type": "code",
   "execution_count": 38,
   "id": "681aa26a-ef31-4298-be15-209cb2f170c7",
   "metadata": {},
   "outputs": [
    {
     "data": {
      "text/plain": [
       "Text(0.5, 0, '$\\\\theta$ (arcmin)')"
      ]
     },
     "execution_count": 38,
     "metadata": {},
     "output_type": "execute_result"
    },
    {
     "data": {
      "image/png": "[encoded data removed]",
      "text/plain": [
       "<Figure size 864x360 with 1 Axes>"
      ]
     },
     "metadata": {
      "needs_background": "light"
     },
     "output_type": "display_data"
    }
   ],
   "source": [
    "plt.figure(figsize=(12,5))\n",
    "plt.loglog()\n",
    "for ni in [8, 16, 50, 100, 300]:\n",
    "    nl = 'Kmeans %i'%ni\n",
    "    if ni==8:\n",
    "        nl = 'Healpix %i'%88\n",
    "    if ni==16:\n",
    "        nl = 'Healpix %i'%316\n",
    "    plt.plot(r, kmeans['%i'%ni]['sig'], label=nl)\n",
    "\n",
    "plt.legend(fontsize=14)\n",
    "plt.title('Sigma')\n",
    "plt.xlabel(r'$\\theta$ (arcmin)')\n"
   ]
  },
  {
   "cell_type": "code",
   "execution_count": 17,
   "id": "1e607fc3-9714-4241-a4a6-c42a455ec9ab",
   "metadata": {},
   "outputs": [],
   "source": [
    "def save_jk_covariance(fname, output):\n",
    "    r, cov, sig, mean = output\n",
    "    np.savez(fname, r=r, mean=mean, cov=cov, sig=sig)\n"
   ]
  },
  {
   "cell_type": "code",
   "execution_count": 19,
   "id": "23b7174a-6280-487b-a596-4d2a96ebc285",
   "metadata": {},
   "outputs": [],
   "source": [
    "for ni in [10, 50, 100, 300]:\n",
    "    outfile = './output/all_kmeans%i'%ni\n",
    "    save_jk_covariance(outfile, \n",
    "                       [r, kmeans['%i_cov'%ni], kmeans['%i_sig'%ni], np.mean(kmeans['%i'%ni],0)])"
   ]
  },
  {
   "cell_type": "code",
   "execution_count": 31,
   "id": "3790ab69-7940-4d47-a52e-67d765ae2a9e",
   "metadata": {},
   "outputs": [],
   "source": [
    "for ni in [8, 16]:\n",
    "    outfile = './output/all_healpix_Nside%i'%ni\n",
    "    save_jk_covariance(outfile, \n",
    "                       [r, healpix['Nside%i_cov'%ni], healpix['Nside%i_sig'%ni], \n",
    "                        np.mean(healpix['Nside%i'%ni],0)])"
   ]
  },
  {
   "cell_type": "code",
   "execution_count": 44,
   "id": "0f53829c-2beb-4060-84dd-7a8a4cd5d1f8",
   "metadata": {},
   "outputs": [],
   "source": [
    "def read_out(l, z, Npatches=10):\n",
    "    outfile = './output/rmy3_l%i-z%i_kmeans%i.npz'%(l, z, Npatches)\n",
    "    vec = np.load(outfile)\n",
    "    return vec"
   ]
  },
  {
   "cell_type": "code",
   "execution_count": 45,
   "id": "188cc818-0daf-4ce5-ac54-433ccb36f714",
   "metadata": {},
   "outputs": [],
   "source": [
    "vec = read_out(0, 0)"
   ]
  },
  {
   "cell_type": "code",
   "execution_count": 52,
   "id": "93362242-e175-45cb-bc6d-841589d4a857",
   "metadata": {},
   "outputs": [],
   "source": [
    "def plot_profile(l, z, ax=None):\n",
    "    if ax is None: ax = plt.gca()\n",
    "    vec = read_out(l, z)\n",
    "    r, xi = vec['r'], vec['mean']\n",
    "    sig = vec['sig']\n",
    "    ax.loglog()\n",
    "    ax.scatter(r, xi)\n",
    "    ax.errorbar(r, xi, yerr=sig, lw=3, ls='')\n",
    "    "
   ]
  },
  {
   "cell_type": "code",
   "execution_count": 58,
   "id": "cb21f0ce-efbf-41f4-a61d-ab0a7a28786d",
   "metadata": {},
   "outputs": [
    {
     "data": {
      "text/plain": [
       "Text(0.5, 0, '$\\\\theta$ (arcmin)')"
      ]
     },
     "execution_count": 58,
     "metadata": {},
     "output_type": "execute_result"
    },
    {
     "data": {
      "image/png": "[encoded data removed]",
      "text/plain": [
       "<Figure size 432x288 with 1 Axes>"
      ]
     },
     "metadata": {
      "needs_background": "light"
     },
     "output_type": "display_data"
    }
   ],
   "source": [
    "# zbins = [0.2, 0.35, 0.5, 0.65]\n",
    "zmeans = [0.275, 0.4, 0.6]\n",
    "plot_profile(0, 0)\n",
    "plot_profile(0, 1)\n",
    "plot_profile(0, 2)\n",
    "plt.xlabel(r'$\\theta$ (arcmin)')\n"
   ]
  },
  {
   "cell_type": "code",
   "execution_count": null,
   "id": "69990ae6-a425-4804-9bae-159d4df6129d",
   "metadata": {},
   "outputs": [],
   "source": []
  },
  {
   "cell_type": "code",
   "execution_count": null,
   "id": "24f6fc20-6c86-4496-9102-d6e490ed6bce",
   "metadata": {},
   "outputs": [],
   "source": []
  },
  {
   "cell_type": "code",
   "execution_count": 46,
   "id": "c509f0d9-2fb5-41ca-95e1-821327040ca8",
   "metadata": {},
   "outputs": [
    {
     "ename": "UFuncTypeError",
     "evalue": "ufunc 'add' did not contain a loop with signature matching types (dtype('<U4'), dtype('<U4')) -> None",
     "output_type": "error",
     "traceback": [
      "\u001b[0;31m---------------------------------------------------------------------------\u001b[0m",
      "\u001b[0;31mUFuncTypeError\u001b[0m                            Traceback (most recent call last)",
      "\u001b[0;32m/tmp/ipykernel_2261/1687330846.py\u001b[0m in \u001b[0;36m<module>\u001b[0;34m\u001b[0m\n\u001b[1;32m      1\u001b[0m \u001b[0mvec\u001b[0m \u001b[0;34m=\u001b[0m \u001b[0mkmeans\u001b[0m\u001b[0;34m[\u001b[0m\u001b[0;34m'300'\u001b[0m\u001b[0;34m]\u001b[0m\u001b[0;34m\u001b[0m\u001b[0;34m\u001b[0m\u001b[0m\n\u001b[1;32m      2\u001b[0m \u001b[0;31m# vec = healpix['Nside16']\u001b[0m\u001b[0;34m\u001b[0m\u001b[0;34m\u001b[0m\u001b[0m\n\u001b[0;32m----> 3\u001b[0;31m \u001b[0mxi\u001b[0m \u001b[0;34m=\u001b[0m \u001b[0mnp\u001b[0m\u001b[0;34m.\u001b[0m\u001b[0mmean\u001b[0m\u001b[0;34m(\u001b[0m\u001b[0mvec\u001b[0m\u001b[0;34m,\u001b[0m\u001b[0maxis\u001b[0m\u001b[0;34m=\u001b[0m\u001b[0;36m0\u001b[0m\u001b[0;34m)\u001b[0m\u001b[0;34m\u001b[0m\u001b[0;34m\u001b[0m\u001b[0m\n\u001b[0m\u001b[1;32m      4\u001b[0m \u001b[0;34m\u001b[0m\u001b[0m\n\u001b[1;32m      5\u001b[0m \u001b[0mplt\u001b[0m\u001b[0;34m.\u001b[0m\u001b[0mscatter\u001b[0m\u001b[0;34m(\u001b[0m\u001b[0mr\u001b[0m\u001b[0;34m,\u001b[0m \u001b[0mxi\u001b[0m\u001b[0;34m,\u001b[0m \u001b[0mcolor\u001b[0m\u001b[0;34m=\u001b[0m\u001b[0;34m'tab:blue'\u001b[0m\u001b[0;34m)\u001b[0m\u001b[0;34m\u001b[0m\u001b[0;34m\u001b[0m\u001b[0m\n",
      "\u001b[0;32m~/.conda/envs/clevarenv/lib/python3.9/site-packages/numpy/core/overrides.py\u001b[0m in \u001b[0;36mmean\u001b[0;34m(*args, **kwargs)\u001b[0m\n",
      "\u001b[0;32m~/.conda/envs/clevarenv/lib/python3.9/site-packages/numpy/core/fromnumeric.py\u001b[0m in \u001b[0;36mmean\u001b[0;34m(a, axis, dtype, out, keepdims, where)\u001b[0m\n\u001b[1;32m   3472\u001b[0m             \u001b[0;32mreturn\u001b[0m \u001b[0mmean\u001b[0m\u001b[0;34m(\u001b[0m\u001b[0maxis\u001b[0m\u001b[0;34m=\u001b[0m\u001b[0maxis\u001b[0m\u001b[0;34m,\u001b[0m \u001b[0mdtype\u001b[0m\u001b[0;34m=\u001b[0m\u001b[0mdtype\u001b[0m\u001b[0;34m,\u001b[0m \u001b[0mout\u001b[0m\u001b[0;34m=\u001b[0m\u001b[0mout\u001b[0m\u001b[0;34m,\u001b[0m \u001b[0;34m**\u001b[0m\u001b[0mkwargs\u001b[0m\u001b[0;34m)\u001b[0m\u001b[0;34m\u001b[0m\u001b[0;34m\u001b[0m\u001b[0m\n\u001b[1;32m   3473\u001b[0m \u001b[0;34m\u001b[0m\u001b[0m\n\u001b[0;32m-> 3474\u001b[0;31m     return _methods._mean(a, axis=axis, dtype=dtype,\n\u001b[0m\u001b[1;32m   3475\u001b[0m                           out=out, **kwargs)\n\u001b[1;32m   3476\u001b[0m \u001b[0;34m\u001b[0m\u001b[0m\n",
      "\u001b[0;32m~/.conda/envs/clevarenv/lib/python3.9/site-packages/numpy/core/_methods.py\u001b[0m in \u001b[0;36m_mean\u001b[0;34m(a, axis, dtype, out, keepdims, where)\u001b[0m\n\u001b[1;32m    177\u001b[0m             \u001b[0mis_float16_result\u001b[0m \u001b[0;34m=\u001b[0m \u001b[0;32mTrue\u001b[0m\u001b[0;34m\u001b[0m\u001b[0;34m\u001b[0m\u001b[0m\n\u001b[1;32m    178\u001b[0m \u001b[0;34m\u001b[0m\u001b[0m\n\u001b[0;32m--> 179\u001b[0;31m     \u001b[0mret\u001b[0m \u001b[0;34m=\u001b[0m \u001b[0mumr_sum\u001b[0m\u001b[0;34m(\u001b[0m\u001b[0marr\u001b[0m\u001b[0;34m,\u001b[0m \u001b[0maxis\u001b[0m\u001b[0;34m,\u001b[0m \u001b[0mdtype\u001b[0m\u001b[0;34m,\u001b[0m \u001b[0mout\u001b[0m\u001b[0;34m,\u001b[0m \u001b[0mkeepdims\u001b[0m\u001b[0;34m,\u001b[0m \u001b[0mwhere\u001b[0m\u001b[0;34m=\u001b[0m\u001b[0mwhere\u001b[0m\u001b[0;34m)\u001b[0m\u001b[0;34m\u001b[0m\u001b[0;34m\u001b[0m\u001b[0m\n\u001b[0m\u001b[1;32m    180\u001b[0m     \u001b[0;32mif\u001b[0m \u001b[0misinstance\u001b[0m\u001b[0;34m(\u001b[0m\u001b[0mret\u001b[0m\u001b[0;34m,\u001b[0m \u001b[0mmu\u001b[0m\u001b[0;34m.\u001b[0m\u001b[0mndarray\u001b[0m\u001b[0;34m)\u001b[0m\u001b[0;34m:\u001b[0m\u001b[0;34m\u001b[0m\u001b[0;34m\u001b[0m\u001b[0m\n\u001b[1;32m    181\u001b[0m         ret = um.true_divide(\n",
      "\u001b[0;31mUFuncTypeError\u001b[0m: ufunc 'add' did not contain a loop with signature matching types (dtype('<U4'), dtype('<U4')) -> None"
     ]
    }
   ],
   "source": [
    "vec = kmeans['300']\n",
    "# vec = healpix['Nside16']\n",
    "xi = np.mean(vec,axis=0)\n",
    "\n",
    "plt.scatter(r, xi, color='tab:blue')\n",
    "plt.plot(r, xi, color='tab:blue')\n",
    "plt.plot(r, -xi, color='tab:blue', ls=':')\n",
    "plt.errorbar(r[xi>0], xi[xi>0], yerr=sig[xi>0], color='r', lw=3, ls='')\n",
    "plt.errorbar(r[xi<0], -xi[xi<0], yerr=sig[xi<0], color='r', lw=3, ls='')\n",
    "leg = plt.errorbar(-r, xi, yerr=sig, color='tab:orange')\n",
    "\n",
    "# vec = kmeans['50']\n",
    "vec = healpix['Nside16']\n",
    "xi = np.mean(vec,axis=0)\n",
    "\n",
    "plt.scatter(r, xi, color='tab:orange')\n",
    "plt.plot(r, xi, color='tab:orange')\n",
    "plt.plot(r, -xi, color='tab:orange', ls=':')\n",
    "plt.errorbar(r[xi>0], xi[xi>0], yerr=sig[xi>0], color='k', lw=3, ls='')\n",
    "plt.errorbar(r[xi<0], -xi[xi<0], yerr=sig[xi<0], color='k', lw=3, ls='')\n",
    "leg = plt.errorbar(-r, xi, yerr=sig, color='tab:orange')\n",
    "\n",
    "plt.xscale('log')\n",
    "plt.yscale('log', nonpositive='clip')\n",
    "plt.xlabel(r'$\\theta$ (arcmin)')\n",
    "\n",
    "plt.ylabel(r'$w(\\theta)$')\n",
    "# plt.legend([leg], [r'$w(\\theta)$'], loc='lower left')\n",
    "plt.xlim([1,120])\n",
    "plt.show()"
   ]
  },
  {
   "cell_type": "code",
   "execution_count": 115,
   "id": "0227fea1-537e-4dfa-90f3-1a7a2af5a15c",
   "metadata": {},
   "outputs": [],
   "source": []
  },
  {
   "cell_type": "code",
   "execution_count": null,
   "id": "52d49866-cb76-4877-85ce-ca85b01ca0ce",
   "metadata": {},
   "outputs": [],
   "source": []
  },
  {
   "cell_type": "code",
   "execution_count": 32,
   "id": "82cd8c81-4254-4077-9829-0eeb123a64e0",
   "metadata": {},
   "outputs": [],
   "source": [
    "out = np.load(outfile+'.npz')"
   ]
  },
  {
   "cell_type": "code",
   "execution_count": 33,
   "id": "3ba55647-9ce7-4af8-a522-68f613b944ce",
   "metadata": {},
   "outputs": [
    {
     "data": {
      "text/plain": [
       "['r', 'mean', 'cov', 'sig']"
      ]
     },
     "execution_count": 33,
     "metadata": {},
     "output_type": "execute_result"
    }
   ],
   "source": [
    "list(out.keys())"
   ]
  },
  {
   "cell_type": "code",
   "execution_count": 34,
   "id": "8f790fdc-8dcc-4598-b1be-61f3410d064d",
   "metadata": {},
   "outputs": [
    {
     "data": {
      "text/plain": [
       "array([  1.        ,   1.27427499,   1.62377674,   2.06913808,\n",
       "         2.6366509 ,   3.35981829,   4.2813324 ,   5.45559478,\n",
       "         6.95192796,   8.8586679 ,  11.28837892,  14.38449888,\n",
       "        18.32980711,  23.35721469,  29.76351442,  37.92690191,\n",
       "        48.32930239,  61.58482111,  78.47599704, 100.        ])"
      ]
     },
     "execution_count": 34,
     "metadata": {},
     "output_type": "execute_result"
    }
   ],
   "source": [
    "out['r']"
   ]
  },
  {
   "cell_type": "code",
   "execution_count": 35,
   "id": "f9b19d6f-8eea-4758-861e-713e27c4fb78",
   "metadata": {},
   "outputs": [
    {
     "data": {
      "text/plain": [
       "array([-0.38269296, -0.38146554, -0.29961157, -0.22349591, -0.04352211,\n",
       "        0.06277627,  0.11140445,  0.10920775,  0.09228241,  0.07649983,\n",
       "        0.06682465,  0.05232149,  0.04438893,  0.03230554,  0.02500382,\n",
       "        0.01633203,  0.01170911,  0.00679201,  0.00357134, -0.00188579])"
      ]
     },
     "execution_count": 35,
     "metadata": {},
     "output_type": "execute_result"
    }
   ],
   "source": [
    "out['mean']"
   ]
  },
  {
   "cell_type": "code",
   "execution_count": 36,
   "id": "41334a34-1c13-44d8-ba48-7ad747b5d4f1",
   "metadata": {},
   "outputs": [
    {
     "data": {
      "text/plain": [
       "(20, 20)"
      ]
     },
     "execution_count": 36,
     "metadata": {},
     "output_type": "execute_result"
    }
   ],
   "source": [
    "out['cov'].shape"
   ]
  },
  {
   "cell_type": "code",
   "execution_count": 38,
   "id": "062e1f61-f3b2-4af7-836c-140afd5cadf4",
   "metadata": {},
   "outputs": [
    {
     "data": {
      "text/plain": [
       "<matplotlib.colorbar.Colorbar at 0x15550884f250>"
      ]
     },
     "execution_count": 38,
     "metadata": {},
     "output_type": "execute_result"
    },
    {
     "data": {
      "image/png": "[encoded data removed]",
      "text/plain": [
       "<Figure size 432x288 with 2 Axes>"
      ]
     },
     "metadata": {
      "needs_background": "light"
     },
     "output_type": "display_data"
    }
   ],
   "source": [
    "plt.imshow(np.corrcoef(out['cov']),origin='lower')\n",
    "plt.colorbar()"
   ]
  },
  {
   "cell_type": "code",
   "execution_count": 37,
   "id": "5490e96e-0bcc-4a8f-9c51-abd26d76e41a",
   "metadata": {},
   "outputs": [
    {
     "data": {
      "text/plain": [
       "<ErrorbarContainer object of 3 artists>"
      ]
     },
     "execution_count": 37,
     "metadata": {},
     "output_type": "execute_result"
    },
    {
     "data": {
      "image/png": "[encoded data removed]",
      "text/plain": [
       "<Figure size 432x288 with 1 Axes>"
      ]
     },
     "metadata": {
      "needs_background": "light"
     },
     "output_type": "display_data"
    }
   ],
   "source": [
    "plt.loglog()\n",
    "plt.errorbar(out['r'],out['mean'],yerr=out['sig'])"
   ]
  },
  {
   "cell_type": "code",
   "execution_count": null,
   "id": "c4ebcf84-be86-4571-b602-a0b14caca091",
   "metadata": {},
   "outputs": [],
   "source": []
  },
  {
   "cell_type": "code",
   "execution_count": null,
   "id": "8585abd7-bf18-4e63-81f0-d735e1896bc0",
   "metadata": {},
   "outputs": [],
   "source": []
  }
 ],
 "metadata": {
  "kernelspec": {
   "display_name": "conda-clevarenv",
   "language": "python",
   "name": "conda-clevarenv"
  },
  "language_info": {
   "codemirror_mode": {
    "name": "ipython",
    "version": 3
   },
   "file_extension": ".py",
   "mimetype": "text/x-python",
   "name": "python",
   "nbconvert_exporter": "python",
   "pygments_lexer": "ipython3",
   "version": "3.9.7"
  }
 },
 "nbformat": 4,
 "nbformat_minor": 5
}
