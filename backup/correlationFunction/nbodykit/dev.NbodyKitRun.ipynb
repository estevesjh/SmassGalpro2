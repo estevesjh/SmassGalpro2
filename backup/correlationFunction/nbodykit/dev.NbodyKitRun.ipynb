{
 "cells": [
  {
   "cell_type": "markdown",
   "id": "14bc3a09-1cb0-4473-b347-6be9aeeb4fc3",
   "metadata": {},
   "source": [
    "# Development: Nbody Kit\n",
    "\n",
    "It only works on perlmutter. \n",
    "\n",
    "```\n",
    "module swap PrgEnv-${PE_ENV,,} PrgEnv-gnu\n",
    "MPICC=\"cc -shared\" pip install --force-reinstall --no-cache-dir --no-binary=mpi4py mpi4py\n",
    "```"
   ]
  },
  {
   "cell_type": "code",
   "execution_count": 2,
   "id": "db55a9fc-b8e8-478f-9c6a-ff29b6291141",
   "metadata": {},
   "outputs": [],
   "source": [
    "import numpy as np\n",
    "from astropy.io.fits import getdata\n",
    "from astropy.table import Table\n",
    "from scipy.interpolate import InterpolatedUnivariateSpline\n",
    "\n",
    "# Setup file loc\n",
    "from fileLoc import FileLocs\n",
    "from set_bins_files import SetupFiles\n",
    "floc = FileLocs(machine='nersc')\n",
    "path = floc.halo_run_loc\n"
   ]
  },
  {
   "cell_type": "code",
   "execution_count": 6,
   "id": "de923fbd-db27-406c-8cfc-8fb0f1099c62",
   "metadata": {},
   "outputs": [
    {
     "data": {
      "text/html": [
       "<div><i>Table length=583043</i>\n",
       "<table id=\"table23455228206032\" class=\"table-striped table-bordered table-condensed\">\n",
       "<thead><tr><th>haloid</th><th>Mvir</th><th>redshift</th><th>cosi</th><th>pid</th><th>rs</th><th>M200m</th><th>R200m</th><th>Sigma [15]</th><th>DeltaSigma [15]</th><th>rho [10]</th><th>M200</th><th>R200</th><th>MEM_MATCH_ID</th><th>RA</th><th>DEC</th><th>Z</th><th>Z_COS</th><th>P_BCG</th><th>Z_LAMBDA</th><th>LAMBDA_CHISQ</th><th>LAMBDA_CHISQ_E</th><th>LAMBDA_CHISQ_ZORIG</th><th>SCALEVAL</th><th>LAMBDA_ZRED</th><th>LAMBDA_ZRED_E</th><th>MASKFRAC</th><th>GEOMASKFRAC</th><th>R_LAMBDA</th><th>R_MASK</th><th>Z_LAMBDA_E</th><th>NCROSS</th><th>Z_LAMBDA_NITER</th><th>DLAMBDA_DZ</th><th>DLAMBDA_DZ2</th><th>DLAMBDAVAR_DZ</th><th>DLAMBDAVAR_DZ2</th><th>C_LAMBDA [3]</th><th>C_LAMBDA_ERR [3]</th><th>MAG_LAMBDA_ERR [4]</th><th>PZBINS [21]</th><th>PZ [21]</th><th>Z_LAMBDA_RAW</th><th>Z_LAMBDA_E_RAW</th><th>BCG_SPEC_Z</th><th>LIM_EXPTIME</th><th>LIM_LIMMAG_DERED</th><th>LIM_LIMMAG</th><th>LIM_LIMMAG_HARD</th><th>MU_STAR</th><th>MU_STAR_ERR</th><th>lambda_mor</th><th>mustar_mor</th></tr></thead>\n",
       "<thead><tr><th>int32</th><th>float32</th><th>float64</th><th>float64</th><th>int32</th><th>float64</th><th>float32</th><th>float64</th><th>float64</th><th>float64</th><th>float64</th><th>float32</th><th>float32</th><th>int32</th><th>float64</th><th>float64</th><th>float32</th><th>float32</th><th>float32</th><th>float32</th><th>float32</th><th>float32</th><th>float32</th><th>float32</th><th>float32</th><th>float32</th><th>float32</th><th>float32</th><th>float32</th><th>float32</th><th>float32</th><th>int16</th><th>float32</th><th>float32</th><th>float32</th><th>float32</th><th>float32</th><th>float32</th><th>float32</th><th>float32</th><th>float32</th><th>float32</th><th>float32</th><th>float32</th><th>float32</th><th>float32</th><th>float32</th><th>float32</th><th>float32</th><th>float64</th><th>float64</th><th>float64</th><th>float64</th></tr></thead>\n",
       "<tr><td>927011</td><td>67180000000000.0</td><td>0.32129502296447754</td><td>0.0493361</td><td>-1</td><td>0.153435</td><td>71999500000000.0</td><td>1.02684</td><td>687.6303158625412 .. 17.94479240757588</td><td>-21.009727248105214 .. 2.303207391199313</td><td>2178226498771693.5 .. 503991597033.93005</td><td>67180000000000.0</td><td>0.920502</td><td>83659</td><td>-42.68707121753749</td><td>-2.2699395003325264</td><td>0.32129502</td><td>0.32240096</td><td>1.0</td><td>0.29508114</td><td>11.308149</td><td>4.421</td><td>11.308149</td><td>1.5201979</td><td>5.496004</td><td>1.8859599</td><td>0.34834605</td><td>0.0</td><td>0.6466634</td><td>0.96999514</td><td>0.021968598</td><td>0</td><td>4.0</td><td>-0.13628136</td><td>-813.556</td><td>-25.539</td><td>-7945.5103</td><td>1.5532275 .. 0.30276462</td><td>0.004215956 .. 0.001953539</td><td>0.003551543 .. 0.0</td><td>0.1319275 .. 0.4582348</td><td>4.6803337e-19 .. 1.6777544e-06</td><td>0.30003133</td><td>0.019447086</td><td>-1.0</td><td>0.060046393</td><td>21.323307</td><td>21.323307</td><td>23.33665</td><td>55.13490186726909</td><td>15.129583717781587</td><td>8.681998243438684</td><td>1308149508495.1855</td></tr>\n",
       "<tr><td>927998</td><td>19660000000000.0</td><td>0.3205868899822235</td><td>0.178295</td><td>-1</td><td>0.183352</td><td>22303100000000.0</td><td>0.694974</td><td>311.34160504036714 .. 18.374717459592997</td><td>37.19347864947478 .. 1.2994938365065096</td><td>1373541979616634.8 .. 305181131216.41174</td><td>19660000000000.0</td><td>0.61103</td><td>583836</td><td>-42.24797103113116</td><td>-1.949667563663084</td><td>0.3205869</td><td>0.32168326</td><td>1.0</td><td>0.0</td><td>-1.0</td><td>-1.0</td><td>0.0</td><td>-1.0</td><td>-1.0</td><td>-1.0</td><td>0.042421903</td><td>0.0</td><td>0.0</td><td>0.0</td><td>0.0</td><td>0</td><td>0.0</td><td>0.0</td><td>0.0</td><td>0.0</td><td>0.0</td><td>-1.0 .. -1.0</td><td>-1.0 .. -1.0</td><td>0.0 .. 0.0</td><td>0.0 .. 0.0</td><td>0.0 .. 0.0</td><td>0.0</td><td>0.0</td><td>-1.0</td><td>0.19611365</td><td>22.218992</td><td>22.231089</td><td>23.33665</td><td>41.92753971791975</td><td>14.28440131000884</td><td>4.0395414647380345</td><td>626435894455.5984</td></tr>\n",
       "<tr><td>2545389</td><td>68890000000000.0</td><td>0.27058446407318115</td><td>0.37468</td><td>-1</td><td>0.223423</td><td>91154710000000.0</td><td>1.11086</td><td>469.1737007476693 .. 15.90097191373355</td><td>115.09039698599864 .. 2.753597969323336</td><td>2219173286702298.8 .. 1519260804499.2036</td><td>68890000000000.0</td><td>0.917785</td><td>79738</td><td>-52.84926974610653</td><td>-42.0517754044981</td><td>0.27058446</td><td>0.27059728</td><td>1.0</td><td>0.0</td><td>-1.0</td><td>-1.0</td><td>0.0</td><td>-1.0</td><td>-1.0</td><td>-1.0</td><td>0.027480915</td><td>0.0</td><td>0.0</td><td>0.0</td><td>0.0</td><td>0</td><td>0.0</td><td>0.0</td><td>0.0</td><td>0.0</td><td>0.0</td><td>-1.0 .. -1.0</td><td>-1.0 .. -1.0</td><td>0.0 .. 0.0</td><td>0.0 .. 0.0</td><td>0.0 .. 0.0</td><td>0.0</td><td>0.0</td><td>-1.0</td><td>0.17292078</td><td>22.134556</td><td>22.134556</td><td>23.33665</td><td>75.17978438169001</td><td>28.065401761466184</td><td>10.062862533601052</td><td>1618487932632.6829</td></tr>\n",
       "<tr><td>2545393</td><td>88940000000000.0</td><td>0.27038249373435974</td><td>0.557151</td><td>-1</td><td>0.55728</td><td>105052300000000.0</td><td>1.16474</td><td>542.0784591288408 .. 16.14773575478276</td><td>-57.00905916180685 .. 2.5884544516698047</td><td>1642214180825270.8 .. 920412980488.0205</td><td>88940000000000.0</td><td>0.999439</td><td>49132</td><td>-52.72529328242206</td><td>-42.05313550692125</td><td>0.2703825</td><td>0.27077192</td><td>1.0</td><td>0.2726077</td><td>12.909922</td><td>2.2422812</td><td>12.909922</td><td>1.0107747</td><td>8.592764</td><td>1.683498</td><td>0.011844758</td><td>0.0</td><td>0.6640254</td><td>0.99603814</td><td>0.012795136</td><td>1</td><td>7.0</td><td>16.436996</td><td>-4891.07</td><td>54.50159</td><td>-19902.953</td><td>1.4195611 .. 0.29340506</td><td>0.0006993837 .. 0.00028456797</td><td>0.0005785313 .. 0.0</td><td>0.19574621 .. 0.3494692</td><td>6.227082e-10 .. 2.574587e-06</td><td>0.27617714</td><td>0.009283012</td><td>-1.0</td><td>0.17907387</td><td>22.145226</td><td>22.161373</td><td>23.33665</td><td>81.77789884880814</td><td>21.3046707925232</td><td>19.507735487705173</td><td>1894700385442.0505</td></tr>\n",
       "<tr><td>2545753</td><td>76890000000000.0</td><td>0.263835608959198</td><td>0.125772</td><td>-1</td><td>0.162836</td><td>81108270000000.0</td><td>1.06845</td><td>531.6249357975245 .. 17.51952583340207</td><td>124.49326826468936 .. 1.566832787886304</td><td>2128660225006729.0 .. 356406746880.90045</td><td>76890000000000.0</td><td>0.950669</td><td>64954</td><td>-51.53433281206111</td><td>-39.82394748123761</td><td>0.2638356</td><td>0.2644128</td><td>1.0</td><td>0.24406444</td><td>12.757372</td><td>2.730836</td><td>12.757372</td><td>1.1628395</td><td>7.357111</td><td>1.6438206</td><td>0.14655606</td><td>0.0</td><td>0.6624487</td><td>0.9936731</td><td>0.010842432</td><td>1</td><td>5.0</td><td>-3.626756</td><td>-878.77856</td><td>8.034127</td><td>-3581.3113</td><td>1.3601099 .. 0.27888802</td><td>0.0005536285 .. 0.00039728833</td><td>0.0004455281 .. 0.0</td><td>0.17095098 .. 0.3171779</td><td>1.34302005e-11 .. 2.8216637e-06</td><td>0.24525408</td><td>0.0085574025</td><td>-1.0</td><td>0.108911194</td><td>21.77998</td><td>21.77998</td><td>23.33665</td><td>98.91629560382347</td><td>32.79266042805001</td><td>11.91423018521523</td><td>2271858773953.313</td></tr>\n",
       "<tr><td>2546147</td><td>52410000000000.0</td><td>0.2691691219806671</td><td>0.414977</td><td>-1</td><td>0.199663</td><td>56695420000000.0</td><td>0.948232</td><td>561.1551960556136 .. 20.32753925830061</td><td>-12.498450954350034 .. -0.9149048098667338</td><td>1624285805491000.8 .. 317631813489.1384</td><td>52410000000000.0</td><td>0.837626</td><td>130300</td><td>-52.51454226670478</td><td>-41.11823254776729</td><td>0.26916912</td><td>0.2694297</td><td>1.0</td><td>0.25955823</td><td>7.0672665</td><td>1.4947375</td><td>7.0672665</td><td>1.0189164</td><td>8.730059</td><td>1.5704904</td><td>0.017616294</td><td>0.0</td><td>0.5886407</td><td>0.88296103</td><td>0.014248098</td><td>0</td><td>2.0</td><td>5.266856</td><td>1933.8727</td><td>27.058628</td><td>7096.8613</td><td>1.4051621 .. 0.29708278</td><td>0.00048132462 .. 0.00023186665</td><td>0.0003677117 .. 0.0</td><td>0.16838354 .. 0.35073292</td><td>1.7060481e-13 .. 3.309393e-06</td><td>0.26207274</td><td>0.011905668</td><td>-1.0</td><td>0.16329725</td><td>22.090637</td><td>22.090637</td><td>23.33665</td><td>48.66766137985844</td><td>8.572396590888363</td><td>8.228792588562362</td><td>1580451884118.9536</td></tr>\n",
       "<tr><td>2546211</td><td>51070000000000.0</td><td>0.2690989375114441</td><td>0.688463</td><td>-1</td><td>0.149279</td><td>55824730000000.0</td><td>0.943375</td><td>389.337627723389 .. 19.18243348154953</td><td>108.63136076575296 .. 0.592855334849617</td><td>1190083051888088.5 .. 287136559716.6852</td><td>51070000000000.0</td><td>0.830148</td><td>136003</td><td>-52.80531628253766</td><td>-40.33704591404569</td><td>0.26909894</td><td>0.26797158</td><td>1.0</td><td>0.30920514</td><td>9.813162</td><td>5.3911333</td><td>9.813162</td><td>1.5959117</td><td>18.905127</td><td>3.306881</td><td>0.37453482</td><td>0.0</td><td>0.62858176</td><td>0.94287264</td><td>0.01629047</td><td>3</td><td>10.0</td><td>37.70076</td><td>-4713.617</td><td>777.22363</td><td>-139667.14</td><td>1.5320644 .. 0.311231</td><td>0.00078823423 .. 0.00054988824</td><td>0.0006038342 .. 0.0</td><td>0.18733178 .. 0.4310785</td><td>1.4743107e-14 .. 1.5163415e-06</td><td>0.31459564</td><td>0.012187788</td><td>-1.0</td><td>0.06297232</td><td>21.359798</td><td>21.359798</td><td>23.33665</td><td>23.745263028443176</td><td>4.76973554062477</td><td>11.819979785014675</td><td>1241023484173.4714</td></tr>\n",
       "<tr><td>2546227</td><td>48160000000000.0</td><td>0.27181583642959595</td><td>0.682215</td><td>-1</td><td>0.104649</td><td>53781950000000.0</td><td>0.931703</td><td>606.5413463774861 .. 17.075025368870573</td><td>139.72924468974435 .. 1.3674408080391527</td><td>1945857464651576.5 .. 312591706597.90906</td><td>48160000000000.0</td><td>0.815055</td><td>150259</td><td>-52.669278536294314</td><td>-41.77310834257179</td><td>0.27181584</td><td>0.27331197</td><td>1.0</td><td>0.26766944</td><td>6.5943623</td><td>1.6544626</td><td>6.5943623</td><td>1.0293521</td><td>4.96208</td><td>1.249571</td><td>0.02919911</td><td>0.0</td><td>0.5805432</td><td>0.8708148</td><td>0.015621918</td><td>0</td><td>3.0</td><td>6.6879673</td><td>232.39922</td><td>14.8229065</td><td>868.0072</td><td>1.4428098 .. 0.30998436</td><td>0.0009444062 .. 0.00036492603</td><td>0.00081590813 .. 0.0</td><td>0.16970614 .. 0.36563274</td><td>8.544473e-13 .. 1.466191e-06</td><td>0.27085343</td><td>0.013144175</td><td>-1.0</td><td>0.1529474</td><td>22.040417</td><td>22.040417</td><td>23.33665</td><td>50.3481600581861</td><td>14.183952242099256</td><td>6.943331940272871</td><td>1440107118020.772</td></tr>\n",
       "<tr><td>2546766</td><td>36670000000000.0</td><td>0.27050986886024475</td><td>0.521115</td><td>-1</td><td>0.168668</td><td>38946710000000.0</td><td>0.836672</td><td>328.5062604973687 .. 16.74889354918661</td><td>14.321928504770074 .. 2.5898487688328466</td><td>1186763072622132.2 .. 340806393333.2222</td><td>36670000000000.0</td><td>0.743781</td><td>234183</td><td>-52.29986982727712</td><td>-42.204481198765336</td><td>0.27050987</td><td>0.27037394</td><td>1.0</td><td>0.27171287</td><td>3.4365826</td><td>2.911</td><td>3.4365826</td><td>1.6581206</td><td>4.351881</td><td>1.8982811</td><td>0.40432766</td><td>0.0</td><td>0.5095952</td><td>0.76439285</td><td>0.01916485</td><td>0</td><td>3.0</td><td>4.8515487</td><td>507.37866</td><td>63.002106</td><td>10632.016</td><td>1.4087328 .. 0.29976505</td><td>0.0005612151 .. 0.00041950433</td><td>0.0004743936 .. 0.0</td><td>0.13212493 .. 0.41130084</td><td>1.2253418e-20 .. 1.1770903e-06</td><td>0.27521387</td><td>0.017055474</td><td>-1.0</td><td>0.13049145</td><td>21.799387</td><td>21.91863</td><td>23.33665</td><td>23.77897794070014</td><td>0.0</td><td>7.03158254099195</td><td>990632958661.5779</td></tr>\n",
       "<tr><td>2547210</td><td>21230000000000.0</td><td>0.26920366287231445</td><td>0.181985</td><td>-1</td><td>0.048761</td><td>22637980000000.0</td><td>0.69825</td><td>334.23799790798097 .. 20.04572920198602</td><td>142.41933165348576 .. -0.33720126995235084</td><td>1539571526146608.5 .. 175486009469.743</td><td>21230000000000.0</td><td>0.619814</td><td>528171</td><td>-52.269607429863925</td><td>-40.738977435159654</td><td>0.26920366</td><td>0.26962385</td><td>1.0</td><td>0.28292695</td><td>4.99259</td><td>2.137079</td><td>4.99259</td><td>1.2494222</td><td>2.9179134</td><td>1.1597631</td><td>0.20294206</td><td>0.0</td><td>0.5491174</td><td>0.8236761</td><td>0.01890973</td><td>0</td><td>4.0</td><td>12.850854</td><td>-165.03093</td><td>55.51606</td><td>5333.039</td><td>1.4998211 .. 0.29995957</td><td>0.0017129687 .. 0.0004984288</td><td>0.0014046585 .. 0.0</td><td>0.1530943 .. 0.4127596</td><td>1.0514214e-15 .. 1.5964577e-06</td><td>0.28721932</td><td>0.01634194</td><td>-1.0</td><td>0.11566168</td><td>21.796026</td><td>21.826103</td><td>23.33665</td><td>29.682605589381605</td><td>2.737205326631206</td><td>4.302374666478077</td><td>754119646027.2401</td></tr>\n",
       "<tr><td>...</td><td>...</td><td>...</td><td>...</td><td>...</td><td>...</td><td>...</td><td>...</td><td>...</td><td>...</td><td>...</td><td>...</td><td>...</td><td>...</td><td>...</td><td>...</td><td>...</td><td>...</td><td>...</td><td>...</td><td>...</td><td>...</td><td>...</td><td>...</td><td>...</td><td>...</td><td>...</td><td>...</td><td>...</td><td>...</td><td>...</td><td>...</td><td>...</td><td>...</td><td>...</td><td>...</td><td>...</td><td>...</td><td>...</td><td>...</td><td>...</td><td>...</td><td>...</td><td>...</td><td>...</td><td>...</td><td>...</td><td>...</td><td>...</td><td>...</td><td>...</td><td>...</td><td>...</td></tr>\n",
       "<tr><td>35916242</td><td>11690000000000.0</td><td>0.6440416574478149</td><td>0.92306</td><td>-1</td><td>0.093821</td><td>12019020000000.0</td><td>0.565399</td><td>442.38729249783324 .. 29.599046169102056</td><td>-34.121518798375774 .. 3.7623000775895217</td><td>727621234376111.2 .. 223117525780.37128</td><td>11690000000000.0</td><td>0.539974</td><td>1161737</td><td>81.38331651896925</td><td>-21.227433958667916</td><td>0.64404166</td><td>0.6454144</td><td>1.0</td><td>0.63891256</td><td>11.704779</td><td>3.0720313</td><td>11.704779</td><td>1.1334255</td><td>8.958883</td><td>1.8939562</td><td>0.12794003</td><td>0.0</td><td>0.6511374</td><td>0.97670615</td><td>0.024218982</td><td>0</td><td>4.0</td><td>4.571322</td><td>-177.44565</td><td>72.05903</td><td>-4508.788</td><td>1.5770462 .. 0.4411668</td><td>0.029979378 .. 0.0024588963</td><td>0.027709499 .. 0.0</td><td>0.4709262 .. 0.80689895</td><td>2.2149175e-22 .. 0.0029043222</td><td>0.63911855</td><td>0.021436239</td><td>-1.0</td><td>0.18727697</td><td>22.183453</td><td>22.195726</td><td>23.33665</td><td>43.30303754682831</td><td>0.9745949580402353</td><td>3.5344390489740727</td><td>441218719460.67004</td></tr>\n",
       "<tr><td>35916750</td><td>11530000000000.0</td><td>0.6489753723144531</td><td>0.531838</td><td>-1</td><td>0.080657</td><td>11694180000000.0</td><td>0.560259</td><td>237.85995007887576 .. 28.94667312191121</td><td>38.897429916876405 .. 3.3829604147147476</td><td>396378510355193.4 .. 278786438743.70447</td><td>11530000000000.0</td><td>0.537699</td><td>1182406</td><td>77.9002653123494</td><td>-21.15970095696707</td><td>0.6489754</td><td>0.6494004</td><td>1.0</td><td>0.0</td><td>-1.0</td><td>-1.0</td><td>0.0</td><td>-1.0</td><td>-1.0</td><td>-1.0</td><td>0.097707845</td><td>0.0</td><td>0.0</td><td>0.0</td><td>0.0</td><td>0</td><td>0.0</td><td>0.0</td><td>0.0</td><td>0.0</td><td>0.0</td><td>-1.0 .. -1.0</td><td>-1.0 .. -1.0</td><td>0.0 .. 0.0</td><td>0.0 .. 0.0</td><td>0.0 .. 0.0</td><td>0.0</td><td>0.0</td><td>-1.0</td><td>0.17711322</td><td>22.15293</td><td>22.15293</td><td>23.33665</td><td>35.24188820281397</td><td>3.2706089147503428</td><td>2.4239147380059856</td><td>493927384238.65967</td></tr>\n",
       "<tr><td>35916754</td><td>11530000000000.0</td><td>0.6332216262817383</td><td>0.540464</td><td>-1</td><td>0.167069</td><td>11694180000000.0</td><td>0.560259</td><td>72.81989826666302 .. 30.50736454948266</td><td>108.43358955392262 .. 1.8000702601519762</td><td>81616427740448.11 .. 503776478530.60803</td><td>11530000000000.0</td><td>0.53674</td><td>1182415</td><td>81.11727732101991</td><td>-21.29890059782612</td><td>0.6332216</td><td>0.63339686</td><td>1.0</td><td>0.0</td><td>-1.0</td><td>-1.0</td><td>0.0</td><td>-1.0</td><td>-1.0</td><td>-1.0</td><td>0.028786708</td><td>0.0</td><td>0.0</td><td>0.0</td><td>0.0</td><td>0</td><td>0.0</td><td>0.0</td><td>0.0</td><td>0.0</td><td>0.0</td><td>-1.0 .. -1.0</td><td>-1.0 .. -1.0</td><td>0.0 .. 0.0</td><td>0.0 .. 0.0</td><td>0.0 .. 0.0</td><td>0.0</td><td>0.0</td><td>-1.0</td><td>0.21341825</td><td>22.295944</td><td>22.295944</td><td>23.33665</td><td>38.23360103388087</td><td>0.0</td><td>3.4493608366826565</td><td>555017118569.5018</td></tr>\n",
       "<tr><td>35916889</td><td>10560000000000.0</td><td>0.6428893208503723</td><td>0.314939</td><td>-1</td><td>0.095172</td><td>10557250000000.0</td><td>0.54148</td><td>0.0 .. 0.0</td><td>0.0 .. 0.0</td><td>494082547576509.94 .. 731627233917.1211</td><td>10560000000000.0</td><td>0.521773</td><td>1319633</td><td>80.8276188931469</td><td>-21.74523128133694</td><td>0.6428893</td><td>0.64364785</td><td>1.0</td><td>0.0</td><td>-1.0</td><td>-1.0</td><td>0.0</td><td>-1.0</td><td>-1.0</td><td>-1.0</td><td>0.011684518</td><td>0.0</td><td>0.0</td><td>0.0</td><td>0.0</td><td>0</td><td>0.0</td><td>0.0</td><td>0.0</td><td>0.0</td><td>0.0</td><td>-1.0 .. -1.0</td><td>-1.0 .. -1.0</td><td>0.0 .. 0.0</td><td>0.0 .. 0.0</td><td>0.0 .. 0.0</td><td>0.0</td><td>0.0</td><td>-1.0</td><td>0.21618038</td><td>22.305807</td><td>22.305807</td><td>23.33665</td><td>32.177347913609275</td><td>0.0</td><td>2.6793715468579657</td><td>461902821829.42975</td></tr>\n",
       "<tr><td>35917011</td><td>10230000000000.0</td><td>0.6492848992347717</td><td>0.954469</td><td>-1</td><td>0.101271</td><td>-1.0</td><td>-1.0</td><td>0.0 .. 0.0</td><td>0.0 .. 0.0</td><td>731119707485589.6 .. 814408140469.3708</td><td>10230000000000.0</td><td>0.516763</td><td>1373051</td><td>80.66296778454881</td><td>-25.07223691898014</td><td>0.6492849</td><td>0.65062517</td><td>1.0</td><td>0.0</td><td>-1.0</td><td>-1.0</td><td>0.0</td><td>-1.0</td><td>-1.0</td><td>-1.0</td><td>0.032916266</td><td>0.0</td><td>0.0</td><td>0.0</td><td>0.0</td><td>0</td><td>0.0</td><td>0.0</td><td>0.0</td><td>0.0</td><td>0.0</td><td>-1.0 .. -1.0</td><td>-1.0 .. -1.0</td><td>0.0 .. 0.0</td><td>0.0 .. 0.0</td><td>0.0 .. 0.0</td><td>0.0</td><td>0.0</td><td>-1.0</td><td>0.1951067</td><td>22.22714</td><td>22.22714</td><td>23.33665</td><td>nan</td><td>nan</td><td>3.1464149143629387</td><td>482297273103.622</td></tr>\n",
       "<tr><td>35917019</td><td>11690000000000.0</td><td>0.6446949243545532</td><td>0.187887</td><td>-1</td><td>0.143423</td><td>-1.0</td><td>-1.0</td><td>100.00288764000656 .. 30.042243688419752</td><td>-0.2945613017560902 .. 0.18877820954726587</td><td>97704037221316.6 .. 2007661177269.2737</td><td>11690000000000.0</td><td>0.539916</td><td>1162265</td><td>80.25993203505263</td><td>-23.04416839681072</td><td>0.6446949</td><td>0.64443886</td><td>1.0</td><td>0.61211973</td><td>3.223013</td><td>1.2058505</td><td>3.223013</td><td>1.0270914</td><td>2.582304</td><td>0.9287337</td><td>0.02364865</td><td>0.0</td><td>0.5030978</td><td>0.75464666</td><td>0.027444601</td><td>1</td><td>5.0</td><td>3.3056774</td><td>178.17496</td><td>8.992595</td><td>431.94104</td><td>1.6809827 .. 0.47316718</td><td>0.026428508 .. 0.0027218768</td><td>0.02404796 .. 0.0</td><td>0.4531654 .. 0.77107406</td><td>1.792913e-14 .. 0.12912206</td><td>0.6128831</td><td>0.025671473</td><td>-1.0</td><td>0.19013861</td><td>22.207357</td><td>22.207357</td><td>23.33665</td><td>44.19995760286563</td><td>8.497734017533435</td><td>3.49040548297265</td><td>438125015347.14886</td></tr>\n",
       "<tr><td>35917427</td><td>12020000000000.0</td><td>0.6496391892433167</td><td>0.486031</td><td>-1</td><td>0.12708</td><td>-1.0</td><td>-1.0</td><td>300.0089719161438 .. 34.134166872212184</td><td>-154.75840040272124 .. 1.184565006217013</td><td>792757378430290.1 .. 373505938512.8405</td><td>12020000000000.0</td><td>0.545205</td><td>1121745</td><td>77.00651204384262</td><td>-20.418807380534233</td><td>0.6496392</td><td>0.65001994</td><td>1.0</td><td>0.66528803</td><td>6.106203</td><td>1.5932273</td><td>6.106203</td><td>1.0265992</td><td>7.1740513</td><td>1.5342209</td><td>0.035576392</td><td>0.0</td><td>0.5716816</td><td>0.8575224</td><td>0.03579399</td><td>0</td><td>3.0</td><td>3.0284226</td><td>-812.6403</td><td>3.951962</td><td>2151.85</td><td>1.8091931 .. 0.4695177</td><td>0.014765035 .. 0.0017662344</td><td>0.013084741 .. 0.0</td><td>0.5062148 .. 0.82436126</td><td>4.4294304e-11 .. 0.012789406</td><td>0.66514957</td><td>0.03345632</td><td>-1.0</td><td>0.2633601</td><td>22.457216</td><td>22.457216</td><td>23.33665</td><td>nan</td><td>nan</td><td>3.4567403586631906</td><td>429146189656.6875</td></tr>\n",
       "<tr><td>35918341</td><td>10070000000000.0</td><td>0.6422534584999084</td><td>0.893796</td><td>-1</td><td>0.068646</td><td>-1.0</td><td>-1.0</td><td>0.0 .. 0.0</td><td>0.0 .. 0.0</td><td>363810688732036.3 .. 751089384633.8818</td><td>10070000000000.0</td><td>0.513596</td><td>1398953</td><td>81.24594824474323</td><td>-21.42524628590263</td><td>0.64225346</td><td>0.6432543</td><td>1.0</td><td>0.651472</td><td>12.375998</td><td>2.5495536</td><td>12.375998</td><td>1.0538217</td><td>8.592764</td><td>1.8052168</td><td>0.028702058</td><td>0.0</td><td>0.65843976</td><td>0.98765963</td><td>0.025746971</td><td>1</td><td>3.0</td><td>7.169968</td><td>-248.86107</td><td>42.85151</td><td>-533.83765</td><td>1.6232346 .. 0.43980673</td><td>0.028440654 .. 0.0037223902</td><td>0.025927285 .. 0.0</td><td>0.48356682 .. 0.8193771</td><td>1.2416532e-21 .. 0.0016561152</td><td>0.65148234</td><td>0.022799553</td><td>-1.0</td><td>0.16385412</td><td>22.093248</td><td>22.093248</td><td>23.33665</td><td>20.64410499228544</td><td>0.0</td><td>2.4529893354103334</td><td>619119844785.3253</td></tr>\n",
       "<tr><td>35918837</td><td>12510000000000.0</td><td>0.6444116830825806</td><td>0.108906</td><td>-1</td><td>0.061538</td><td>-1.0</td><td>-1.0</td><td>190.11896071184302 .. 28.340679260984334</td><td>-13.069807600344603 .. -0.6616615936171203</td><td>1390106682417947.0 .. 294047227423.3265</td><td>12510000000000.0</td><td>0.552144</td><td>1066807</td><td>78.68442874255474</td><td>-21.630877850161127</td><td>0.6444117</td><td>0.6445918</td><td>1.0</td><td>0.6701079</td><td>6.609617</td><td>1.6103832</td><td>6.609617</td><td>1.0562903</td><td>5.450239</td><td>1.2505226</td><td>0.05509182</td><td>0.0</td><td>0.58081156</td><td>0.87121737</td><td>0.027887953</td><td>0</td><td>6.0</td><td>7.700125</td><td>-894.501</td><td>25.125755</td><td>-1945.6968</td><td>1.7169895 .. 0.4511466</td><td>0.010630685 .. 0.0016692784</td><td>0.00973281 .. 0.0</td><td>0.5020896 .. 0.8381262</td><td>3.739757e-21 .. 0.0002978703</td><td>0.6699364</td><td>0.024679644</td><td>-1.0</td><td>0.19818702</td><td>22.23809</td><td>22.239155</td><td>23.33665</td><td>112.7798826838596</td><td>26.884349685047166</td><td>3.46531323411777</td><td>575535423037.0701</td></tr>\n",
       "<tr><td>35920108</td><td>10880000000000.0</td><td>0.6311143040657043</td><td>0.0333804</td><td>-1</td><td>0.085298</td><td>-1.0</td><td>-1.0</td><td>156.52034719437984 .. 29.087087578342608</td><td>-16.519069973001308 .. 0.2883865033875508</td><td>44048187154592.555 .. 639738741592.211</td><td>10880000000000.0</td><td>0.52626</td><td>1271425</td><td>80.35998488070796</td><td>-22.834937842801622</td><td>0.6311143</td><td>0.6299832</td><td>1.0</td><td>0.6219253</td><td>3.802702</td><td>1.2780522</td><td>3.802702</td><td>1.0043043</td><td>2.9331684</td><td>1.0326853</td><td>0.009467456</td><td>0.0</td><td>0.5200181</td><td>0.78002715</td><td>0.026080312</td><td>0</td><td>3.0</td><td>-0.4068748</td><td>-1131.3778</td><td>9.888743</td><td>1055.0023</td><td>1.6971462 .. 0.43011457</td><td>0.0040751607 .. 0.0007412883</td><td>0.003609724 .. 0.0</td><td>0.46005124 .. 0.7837995</td><td>1.1221839e-19 .. 0.010223281</td><td>0.62246704</td><td>0.023955217</td><td>-1.0</td><td>0.24772741</td><td>22.410282</td><td>22.410282</td><td>23.33665</td><td>76.17286313691724</td><td>14.784237687867616</td><td>3.282680447794741</td><td>451540171510.73645</td></tr>\n",
       "</table></div>"
      ],
      "text/plain": [
       "<Table length=583043>\n",
       " haloid        Mvir       ...     lambda_mor         mustar_mor    \n",
       " int32       float32      ...      float64            float64      \n",
       "-------- ---------------- ... ------------------ ------------------\n",
       "  927011 67180000000000.0 ...  8.681998243438684 1308149508495.1855\n",
       "  927998 19660000000000.0 ... 4.0395414647380345  626435894455.5984\n",
       " 2545389 68890000000000.0 ... 10.062862533601052 1618487932632.6829\n",
       " 2545393 88940000000000.0 ... 19.507735487705173 1894700385442.0505\n",
       " 2545753 76890000000000.0 ...  11.91423018521523  2271858773953.313\n",
       " 2546147 52410000000000.0 ...  8.228792588562362 1580451884118.9536\n",
       " 2546211 51070000000000.0 ... 11.819979785014675 1241023484173.4714\n",
       " 2546227 48160000000000.0 ...  6.943331940272871  1440107118020.772\n",
       " 2546766 36670000000000.0 ...   7.03158254099195  990632958661.5779\n",
       " 2547210 21230000000000.0 ...  4.302374666478077  754119646027.2401\n",
       "     ...              ... ...                ...                ...\n",
       "35916242 11690000000000.0 ... 3.5344390489740727 441218719460.67004\n",
       "35916750 11530000000000.0 ... 2.4239147380059856 493927384238.65967\n",
       "35916754 11530000000000.0 ... 3.4493608366826565  555017118569.5018\n",
       "35916889 10560000000000.0 ... 2.6793715468579657 461902821829.42975\n",
       "35917011 10230000000000.0 ... 3.1464149143629387   482297273103.622\n",
       "35917019 11690000000000.0 ...   3.49040548297265 438125015347.14886\n",
       "35917427 12020000000000.0 ... 3.4567403586631906  429146189656.6875\n",
       "35918341 10070000000000.0 ... 2.4529893354103334  619119844785.3253\n",
       "35918837 12510000000000.0 ...   3.46531323411777  575535423037.0701\n",
       "35920108 10880000000000.0 ...  3.282680447794741 451540171510.73645"
      ]
     },
     "execution_count": 6,
     "metadata": {},
     "output_type": "execute_result"
    }
   ],
   "source": [
    "data = Table(getdata(floc.mock_fname))\n",
    "data"
   ]
  },
  {
   "cell_type": "code",
   "execution_count": 5,
   "id": "63b0a925-4676-4b5b-a196-f2195fd9c9b1",
   "metadata": {},
   "outputs": [
    {
     "data": {
      "text/html": [
       "<div><i>Table length=7560519</i>\n",
       "<table id=\"table23455230990672\" class=\"table-striped table-bordered table-condensed\">\n",
       "<thead><tr><th>ra</th><th>dec</th><th>z</th></tr></thead>\n",
       "<thead><tr><th>float64</th><th>float64</th><th>float64</th></tr></thead>\n",
       "<tr><td>27.494875657585226</td><td>-42.14373614603615</td><td>0.5794727930047214</td></tr>\n",
       "<tr><td>24.784201476039073</td><td>-9.8813123027411</td><td>0.56157774271709</td></tr>\n",
       "<tr><td>65.16955187508142</td><td>-41.01922402225469</td><td>0.6410671999594587</td></tr>\n",
       "<tr><td>71.2603057836634</td><td>-25.51083334072242</td><td>0.3201134767745129</td></tr>\n",
       "<tr><td>66.27347617593995</td><td>-21.385785808893115</td><td>0.3838504333880149</td></tr>\n",
       "<tr><td>15.502633535892699</td><td>-3.57060803060652</td><td>0.5760858255353751</td></tr>\n",
       "<tr><td>32.053675885864266</td><td>-11.321410708585459</td><td>0.5096356562441018</td></tr>\n",
       "<tr><td>1.624476026288903</td><td>-28.42411007416158</td><td>0.40673138425791516</td></tr>\n",
       "<tr><td>18.379800591081278</td><td>4.223659787565598</td><td>0.538591233602153</td></tr>\n",
       "<tr><td>54.92498612635086</td><td>-63.14527272432148</td><td>0.40431730239272434</td></tr>\n",
       "<tr><td>...</td><td>...</td><td>...</td></tr>\n",
       "<tr><td>40.173889736705405</td><td>-60.90475413407782</td><td>0.41019138796975774</td></tr>\n",
       "<tr><td>320.38622093756845</td><td>-1.7901239488843799</td><td>0.3077132349238735</td></tr>\n",
       "<tr><td>35.003886590761795</td><td>5.182006386926238</td><td>0.38026021845294833</td></tr>\n",
       "<tr><td>45.585245085314</td><td>-1.1533074219509707</td><td>0.5330265391973634</td></tr>\n",
       "<tr><td>350.5955790556466</td><td>-44.26618245957743</td><td>0.49691546141485093</td></tr>\n",
       "<tr><td>341.73006990306857</td><td>-60.970140101647</td><td>0.6168631661644719</td></tr>\n",
       "<tr><td>337.20244608639086</td><td>-41.52984416913354</td><td>0.4816426593405973</td></tr>\n",
       "<tr><td>67.61942796020202</td><td>-20.09757276106062</td><td>0.38623801023849896</td></tr>\n",
       "<tr><td>57.70743178739866</td><td>-25.260590599859906</td><td>0.5069804177377848</td></tr>\n",
       "<tr><td>2.3842632828732917</td><td>-28.314619848145423</td><td>0.4563675056789558</td></tr>\n",
       "</table></div>"
      ],
      "text/plain": [
       "<Table length=7560519>\n",
       "        ra                 dec                  z         \n",
       "     float64             float64             float64      \n",
       "------------------ ------------------- -------------------\n",
       "27.494875657585226  -42.14373614603615  0.5794727930047214\n",
       "24.784201476039073    -9.8813123027411    0.56157774271709\n",
       " 65.16955187508142  -41.01922402225469  0.6410671999594587\n",
       "  71.2603057836634  -25.51083334072242  0.3201134767745129\n",
       " 66.27347617593995 -21.385785808893115  0.3838504333880149\n",
       "15.502633535892699   -3.57060803060652  0.5760858255353751\n",
       "32.053675885864266 -11.321410708585459  0.5096356562441018\n",
       " 1.624476026288903  -28.42411007416158 0.40673138425791516\n",
       "18.379800591081278   4.223659787565598   0.538591233602153\n",
       " 54.92498612635086  -63.14527272432148 0.40431730239272434\n",
       "               ...                 ...                 ...\n",
       "40.173889736705405  -60.90475413407782 0.41019138796975774\n",
       "320.38622093756845 -1.7901239488843799  0.3077132349238735\n",
       "35.003886590761795   5.182006386926238 0.38026021845294833\n",
       "   45.585245085314 -1.1533074219509707  0.5330265391973634\n",
       " 350.5955790556466  -44.26618245957743 0.49691546141485093\n",
       "341.73006990306857    -60.970140101647  0.6168631661644719\n",
       "337.20244608639086  -41.52984416913354  0.4816426593405973\n",
       " 67.61942796020202  -20.09757276106062 0.38623801023849896\n",
       " 57.70743178739866 -25.260590599859906  0.5069804177377848\n",
       "2.3842632828732917 -28.314619848145423  0.4563675056789558"
      ]
     },
     "execution_count": 5,
     "metadata": {},
     "output_type": "execute_result"
    }
   ],
   "source": [
    "random = Table(getdata(floc.mock_random_fname))\n",
    "random"
   ]
  },
  {
   "cell_type": "code",
   "execution_count": 17,
   "id": "78f587fd-c295-40e4-b534-b7d34fc25abc",
   "metadata": {},
   "outputs": [],
   "source": [
    "from astropy.cosmology import FlatLambdaCDM\n",
    "from scipy.stats import gaussian_kde\n",
    "from scipy.interpolate import interp1d\n",
    "cosmo0 = FlatLambdaCDM(H0=70, Om0=0.3, Tcmb0=2.725)"
   ]
  },
  {
   "cell_type": "code",
   "execution_count": 121,
   "id": "9c521998-a165-45f2-9e34-422d5989d127",
   "metadata": {},
   "outputs": [],
   "source": [
    "# load data\n",
    "mock = Table(getdata(floc.mock_fname))\n",
    "randoms = Table(getdata(floc.mock_random_fname))\n",
    "\n",
    "data = Table(mock[['RA', 'DEC', 'Z']])\n",
    "data.rename_columns(['RA','DEC','Z'], ['ra','dec','z'])"
   ]
  },
  {
   "cell_type": "code",
   "execution_count": null,
   "id": "1c0ef916-39fa-4e4e-8735-cf15f49453fe",
   "metadata": {},
   "outputs": [],
   "source": []
  },
  {
   "cell_type": "code",
   "execution_count": 145,
   "id": "9bbb3d28-b715-4a3c-a39b-9d8445de91a7",
   "metadata": {},
   "outputs": [],
   "source": [
    "# redshib vector\n",
    "z = np.where(data['z']<0.2, np.nan, data['z'])\n",
    "z = np.where(z>0.65, np.nan, z)\n",
    "\n",
    "zbins = np.linspace(0.01, 1.5, 100)\n",
    "zm   = zbins[:-1] + np.diff(zbins)\n",
    "vbins = (4/3.)*np.pi*(cosmo0.comoving_distance(zbins[1:])**3-cosmo0.comoving_distance(zbins[:-1])**3)\n",
    "nz  = np.histogram(z, bins=zbins)[0]/vbins\n",
    "nofz = interp1d(zm, nz)\n"
   ]
  },
  {
   "cell_type": "code",
   "execution_count": 146,
   "id": "5bce4bb5-59c9-4ddb-9fbe-5517c1a5d411",
   "metadata": {},
   "outputs": [],
   "source": [
    "# alpha = len(data)/len(randoms)\n",
    "alpha = 1"
   ]
  },
  {
   "cell_type": "code",
   "execution_count": 147,
   "id": "1a96f1ba-1976-45e5-a01f-112a9957bb43",
   "metadata": {},
   "outputs": [
    {
     "data": {
      "text/plain": [
       "[<matplotlib.lines.Line2D at 0x1554d0ce9d90>]"
      ]
     },
     "execution_count": 147,
     "metadata": {},
     "output_type": "execute_result"
    },
    {
     "data": {
      "image/png": "[encoded data removed]",
      "text/plain": [
       "<Figure size 640x480 with 1 Axes>"
      ]
     },
     "metadata": {},
     "output_type": "display_data"
    }
   ],
   "source": [
    "import matplotlib.pyplot as plt\n",
    "\n",
    "plt.plot(zm, nz/1e-5)\n"
   ]
  },
  {
   "cell_type": "code",
   "execution_count": 148,
   "id": "e1dc65dc-f792-4da7-b64e-8a33b71fa3ec",
   "metadata": {},
   "outputs": [],
   "source": [
    "# add the n(z) columns to the FKPCatalog\n",
    "data['NZ'] = nofz(data['z'])\n",
    "randoms['NZ'] = nofz(randoms['z'])\n",
    "\n",
    "data['FKPWeight'] = 1.0 / (1 + data['NZ'] * 1e4)\n",
    "randoms['FKPWeight'] = 1.0 / (1 + randoms['NZ'] * 1e4)\n"
   ]
  },
  {
   "cell_type": "code",
   "execution_count": 149,
   "id": "1e7f6a62-c824-4157-b71b-024cee816a08",
   "metadata": {},
   "outputs": [
    {
     "ename": "TypeError",
     "evalue": "list indices must be integers or slices, not str",
     "output_type": "error",
     "traceback": [
      "\u001b[0;31m---------------------------------------------------------------------------\u001b[0m",
      "\u001b[0;31mTypeError\u001b[0m                                 Traceback (most recent call last)",
      "\u001b[0;32m/tmp/ipykernel_50446/2284169674.py\u001b[0m in \u001b[0;36m<module>\u001b[0;34m\u001b[0m\n\u001b[1;32m     12\u001b[0m \u001b[0;32mfor\u001b[0m \u001b[0mzmin\u001b[0m\u001b[0;34m,\u001b[0m \u001b[0mzmax\u001b[0m \u001b[0;32min\u001b[0m \u001b[0mzip\u001b[0m\u001b[0;34m(\u001b[0m\u001b[0mzmin_list\u001b[0m\u001b[0;34m,\u001b[0m \u001b[0mzmax_list\u001b[0m\u001b[0;34m)\u001b[0m\u001b[0;34m:\u001b[0m\u001b[0;34m\u001b[0m\u001b[0;34m\u001b[0m\u001b[0m\n\u001b[1;32m     13\u001b[0m     \u001b[0mmask\u001b[0m \u001b[0;34m=\u001b[0m \u001b[0mget_mask\u001b[0m\u001b[0;34m(\u001b[0m\u001b[0mdata\u001b[0m\u001b[0;34m[\u001b[0m\u001b[0;34m'z'\u001b[0m\u001b[0;34m]\u001b[0m\u001b[0;34m,\u001b[0m \u001b[0mzmin\u001b[0m\u001b[0;34m,\u001b[0m \u001b[0mzmax\u001b[0m\u001b[0;34m)\u001b[0m\u001b[0;34m\u001b[0m\u001b[0;34m\u001b[0m\u001b[0m\n\u001b[0;32m---> 14\u001b[0;31m     \u001b[0mmaskr\u001b[0m \u001b[0;34m=\u001b[0m \u001b[0mget_mask\u001b[0m\u001b[0;34m(\u001b[0m\u001b[0mrandoms\u001b[0m\u001b[0;34m[\u001b[0m\u001b[0;34m'z'\u001b[0m\u001b[0;34m]\u001b[0m\u001b[0;34m,\u001b[0m \u001b[0mzmin\u001b[0m\u001b[0;34m,\u001b[0m \u001b[0mzmax\u001b[0m\u001b[0;34m)\u001b[0m\u001b[0;34m\u001b[0m\u001b[0;34m\u001b[0m\u001b[0m\n\u001b[0m\u001b[1;32m     15\u001b[0m     \u001b[0mdatas\u001b[0m\u001b[0;34m.\u001b[0m\u001b[0mappend\u001b[0m\u001b[0;34m(\u001b[0m\u001b[0mdata\u001b[0m\u001b[0;34m[\u001b[0m\u001b[0mmask\u001b[0m\u001b[0;34m]\u001b[0m\u001b[0;34m)\u001b[0m\u001b[0;34m\u001b[0m\u001b[0;34m\u001b[0m\u001b[0m\n\u001b[1;32m     16\u001b[0m     \u001b[0mrandoms\u001b[0m\u001b[0;34m.\u001b[0m\u001b[0mappend\u001b[0m\u001b[0;34m(\u001b[0m\u001b[0mrandoms\u001b[0m\u001b[0;34m[\u001b[0m\u001b[0mmaskr\u001b[0m\u001b[0;34m]\u001b[0m\u001b[0;34m)\u001b[0m\u001b[0;34m\u001b[0m\u001b[0;34m\u001b[0m\u001b[0m\n",
      "\u001b[0;31mTypeError\u001b[0m: list indices must be integers or slices, not str"
     ]
    }
   ],
   "source": [
    "# do box separation\n",
    "# bins\n",
    "zmin_list = np.array([0.2, 0.51])\n",
    "zmax_list = np.array([0.32, 0.64])\n",
    "zmeans = np.array([0.25, 0.575])\n",
    "\n",
    "def get_mask(x, xmin, xmax):\n",
    "    return (x<=xmax)&(x>=xmin)\n",
    "\n",
    "datas = []\n",
    "randoms = []\n",
    "for zmin, zmax in zip(zmin_list, zmax_list):\n",
    "    mask = get_mask(data['z'], zmin, zmax)\n",
    "    maskr = get_mask(randoms['z'], zmin, zmax)\n",
    "    datas.append(data[mask])\n",
    "    randoms.append(randoms[maskr])\n",
    "\n",
    "# save data\n",
    "outdir = path+'/nbody_output/input/'\n",
    "fname_base = outdir+'mock_%s_box%i.fits'\n",
    "for i in range(len(datas)):\n",
    "    fname = fname_base%('data', i)\n",
    "    fnamer = fname_base%('rnd', i)\n",
    "    datas[i].write(fname)\n",
    "    randoms[i].write(fnamer)\n",
    "    print('Saved file: %s'%fname)\n",
    "    print('Saved file: %s'%fnamer)\n",
    "    print()"
   ]
  },
  {
   "cell_type": "code",
   "execution_count": 151,
   "id": "bffef0b6-d2d4-4d10-92fb-8ecb04aa42e2",
   "metadata": {},
   "outputs": [
    {
     "data": {
      "text/plain": [
       "[]"
      ]
     },
     "execution_count": 151,
     "metadata": {},
     "output_type": "execute_result"
    }
   ],
   "source": [
    "randoms"
   ]
  },
  {
   "cell_type": "code",
   "execution_count": 154,
   "id": "9e2e636a-2c7d-48c3-a27c-43078f0c2416",
   "metadata": {},
   "outputs": [
    {
     "data": {
      "text/plain": [
       "[<matplotlib.lines.Line2D at 0x1554d0c51e50>]"
      ]
     },
     "execution_count": 154,
     "metadata": {},
     "output_type": "execute_result"
    },
    {
     "data": {
      "image/png": "[encoded data removed]",
      "text/plain": [
       "<Figure size 640x480 with 1 Axes>"
      ]
     },
     "metadata": {},
     "output_type": "display_data"
    }
   ],
   "source": [
    "radii = np.linspace(0.1, 180, 180+1)\n",
    "plt.loglog()\n",
    "plt.plot(radii,'k.')"
   ]
  },
  {
   "cell_type": "code",
   "execution_count": null,
   "id": "5a83b887-d429-4db0-97ea-5be075d7b6ef",
   "metadata": {},
   "outputs": [],
   "source": []
  },
  {
   "cell_type": "code",
   "execution_count": 59,
   "id": "09c26e9d-e819-4b3d-877b-6fb3c892711c",
   "metadata": {},
   "outputs": [
    {
     "name": "stdout",
     "output_type": "stream",
     "text": [
      "Help on method comoving_volume in module astropy.cosmology.core:\n",
      "\n",
      "comoving_volume(z) method of astropy.cosmology.core.FlatLambdaCDM instance\n",
      "    Comoving volume in cubic Mpc at redshift ``z``.\n",
      "    \n",
      "    This is the volume of the universe encompassed by redshifts less\n",
      "    than ``z``. For the case of omega_k = 0 it is a sphere of radius\n",
      "    `comoving_distance` but it is less intuitive\n",
      "    if omega_k is not 0.\n",
      "    \n",
      "    Parameters\n",
      "    ----------\n",
      "    z : array-like\n",
      "      Input redshifts.  Must be 1D or scalar.\n",
      "    \n",
      "    Returns\n",
      "    -------\n",
      "    V : `~astropy.units.Quantity`\n",
      "      Comoving volume in :math:`Mpc^3` at each input redshift.\n",
      "\n"
     ]
    }
   ],
   "source": [
    "help(cosmo0.comoving_volume)"
   ]
  },
  {
   "cell_type": "code",
   "execution_count": 2,
   "id": "d2fa3de4-4f88-4ffd-9b5a-56e2aa61015d",
   "metadata": {},
   "outputs": [],
   "source": [
    "# from nbodykit.lab import *\n",
    "# from nbodykit import setup_logging, style\n"
   ]
  },
  {
   "cell_type": "markdown",
   "id": "79dcb325-a7c4-4892-ba10-c77d15506f1d",
   "metadata": {},
   "source": [
    "## Make Patches Files"
   ]
  },
  {
   "cell_type": "code",
   "execution_count": 3,
   "id": "d36304ef-579f-43b8-bc41-5f930b89c02f",
   "metadata": {},
   "outputs": [],
   "source": [
    "from fileLoc import FileLocs\n",
    "from set_bins_files import SetupFiles\n",
    "floc = FileLocs(machine='nersc')\n",
    "path = floc.halo_run_loc"
   ]
  },
  {
   "cell_type": "code",
   "execution_count": 138,
   "id": "e22fbee9-0f89-4c64-8014-7d7ddcd5751c",
   "metadata": {},
   "outputs": [],
   "source": [
    "fname_base = path+'nbody_output/tmp/%s_mock_z%i_k%i.fits'\n",
    "\n",
    "def make_data(z_bin):\n",
    "    print('Redshift bin: %i'%z_bin)\n",
    "    data = Table(getdata((path+'data_%i.fits'%z_bin)))\n",
    "    rnd = Table(getdata((path+'rnd_%i.fits'%z_bin)))\n",
    "    \n",
    "    # slice randoms\n",
    "    Nran = int(50*len(data))\n",
    "    rnd = rnd[np.random.randint(len(rnd), size=Nran)]\n",
    "\n",
    "    print('Setup Patches')\n",
    "    labels = np.array(data['labels'])\n",
    "    groups = np.unique(labels)\n",
    "    n_patches = groups.size\n",
    "\n",
    "    datas   = [data[data['labels']!=k] for k in groups]\n",
    "    randoms = [rnd[rnd['labels']!=k] for k in groups]\n",
    "\n",
    "    # setup file system\n",
    "    tag = \"mock_z%i\"%z_bin\n",
    "    fl = SetupFiles(tag, n_patches, root=path)\n",
    "    # create tmp files\n",
    "    files1, files2 = fl.write_tmp_files(datas, randoms, \"mock_z%i\"%z_bin, n_patches)\n",
    "    # set output files\n",
    "    outfiles = [fl.tmp_fname_base.format(k) for k in range(n_patches)]\n",
    "    print(\"outfiles:\",outfiles[0])\n",
    "    print(\"infile:\",files1[0])\n",
    "    print(\"random:\",files2[0])\n",
    "    print()"
   ]
  },
  {
   "cell_type": "code",
   "execution_count": 142,
   "id": "22b36526-f2d1-4336-9555-9d41d204a73d",
   "metadata": {},
   "outputs": [
    {
     "name": "stdout",
     "output_type": "stream",
     "text": [
      "Redshift bin: 0\n",
      "Setup Patches\n",
      "outfiles: /global/cfs/cdirs/des/jesteves/data/buzzard/v1.9.8/y3_rm/nbody_output/xi_mock_z0_k000\n",
      "infile: /global/cfs/cdirs/des/jesteves/data/buzzard/v1.9.8/y3_rm/nbody_output/tmp/data_mock_z0_k0.fits\n",
      "random: /global/cfs/cdirs/des/jesteves/data/buzzard/v1.9.8/y3_rm/nbody_output/tmp/rnd_mock_z0_k0.fits\n",
      "\n",
      "Redshift bin: 1\n",
      "Setup Patches\n",
      "outfiles: /global/cfs/cdirs/des/jesteves/data/buzzard/v1.9.8/y3_rm/nbody_output/xi_mock_z1_k000\n",
      "infile: /global/cfs/cdirs/des/jesteves/data/buzzard/v1.9.8/y3_rm/nbody_output/tmp/data_mock_z1_k0.fits\n",
      "random: /global/cfs/cdirs/des/jesteves/data/buzzard/v1.9.8/y3_rm/nbody_output/tmp/rnd_mock_z1_k0.fits\n",
      "\n",
      "Redshift bin: 2\n",
      "Setup Patches\n",
      "outfiles: /global/cfs/cdirs/des/jesteves/data/buzzard/v1.9.8/y3_rm/nbody_output/xi_mock_z2_k000\n",
      "infile: /global/cfs/cdirs/des/jesteves/data/buzzard/v1.9.8/y3_rm/nbody_output/tmp/data_mock_z2_k0.fits\n",
      "random: /global/cfs/cdirs/des/jesteves/data/buzzard/v1.9.8/y3_rm/nbody_output/tmp/rnd_mock_z2_k0.fits\n",
      "\n"
     ]
    }
   ],
   "source": [
    "for i in range(3):\n",
    "    make_data(i)"
   ]
  },
  {
   "cell_type": "code",
   "execution_count": 140,
   "id": "0f34dece-bfef-4975-991c-2e30955fa42c",
   "metadata": {},
   "outputs": [],
   "source": [
    "f1 = fname_base%('data', 0, 0)\n",
    "f2 = fname_base%('rnd', 0, 0)\n",
    "\n",
    "d1 = Table(getdata(f1))\n",
    "r1 = Table(getdata(f2))"
   ]
  },
  {
   "cell_type": "code",
   "execution_count": 143,
   "id": "e3fda9b3-7c07-4b40-b62f-f9fb4c14170f",
   "metadata": {},
   "outputs": [],
   "source": [
    "# !ls -lth /global/cfs/cdirs/des/jesteves/data/buzzard/v1.9.8/y3_rm/nbody_output/tmp/*"
   ]
  },
  {
   "cell_type": "code",
   "execution_count": null,
   "id": "0bdf636b-a215-4579-b77a-618a12593aff",
   "metadata": {},
   "outputs": [],
   "source": []
  },
  {
   "cell_type": "code",
   "execution_count": 9,
   "id": "02f5241d-af0c-4825-ac02-2439b1558b99",
   "metadata": {},
   "outputs": [],
   "source": [
    "out_base = fname_base%('xi', 0, 0)"
   ]
  },
  {
   "cell_type": "code",
   "execution_count": 10,
   "id": "3a81fa48-4cd4-4630-bae9-682a4028b865",
   "metadata": {},
   "outputs": [
    {
     "data": {
      "text/plain": [
       "'/global/cfs/cdirs/des/jesteves/data/buzzard/v1.9.8/y3_rm/nbody_output/tmp/xi_mock_z0_k0.fits'"
      ]
     },
     "execution_count": 10,
     "metadata": {},
     "output_type": "execute_result"
    }
   ],
   "source": [
    "out_base"
   ]
  },
  {
   "cell_type": "markdown",
   "id": "1894199f-d782-45e8-bd31-c716b1badf2f",
   "metadata": {},
   "source": [
    "## Join Output"
   ]
  },
  {
   "cell_type": "code",
   "execution_count": 144,
   "id": "7fa0418b-3f78-4188-b215-7778887fcb89",
   "metadata": {},
   "outputs": [],
   "source": [
    "def get_jk_cov(jk_stats,npatches):\n",
    "    \"\"\"\n",
    "    Get JackKnife covariance and error bar. \n",
    " \n",
    "    Args:\n",
    "        jk_stats (array): array with the statistics computed for each JK patch\n",
    "        npatches (float): number of JK patches \n",
    "    \"\"\"\n",
    "    mean  = np.mean(jk_stats, axis =0)\n",
    "    cov_jk  = np.sum((jk_stats - mean[None, :])[:, :, None] *\n",
    "                 (jk_stats - mean[None, :])[:, None, :], axis=0)\n",
    "    cov_jk *= ((npatches - 1.)/npatches)  \n",
    "    sig_jk  = np.sqrt(np.diag(cov_jk))\n",
    "    return cov_jk, sig_jk, mean\n",
    "\n",
    "def joinFiles(files):\n",
    "    r = np.load(files[0])['r']\n",
    "    vec = [np.load(file)['mean'] for file in files]\n",
    "    return r, np.array(vec)"
   ]
  },
  {
   "cell_type": "code",
   "execution_count": 145,
   "id": "840d5954-1c1d-4088-af34-5414dc6fe853",
   "metadata": {},
   "outputs": [
    {
     "data": {
      "text/plain": [
       "['/global/cfs/cdirs/des/jesteves/data/buzzard/v1.9.8/y3_rm/nbody_output/tmp/xi_mock_z0_k5.npz',\n",
       " '/global/cfs/cdirs/des/jesteves/data/buzzard/v1.9.8/y3_rm/nbody_output/tmp/xi_mock_z0_k2.npz',\n",
       " '/global/cfs/cdirs/des/jesteves/data/buzzard/v1.9.8/y3_rm/nbody_output/tmp/xi_mock_z0_k9.npz',\n",
       " '/global/cfs/cdirs/des/jesteves/data/buzzard/v1.9.8/y3_rm/nbody_output/tmp/xi_mock_z0_k8.npz',\n",
       " '/global/cfs/cdirs/des/jesteves/data/buzzard/v1.9.8/y3_rm/nbody_output/tmp/xi_mock_z0_k3.npz',\n",
       " '/global/cfs/cdirs/des/jesteves/data/buzzard/v1.9.8/y3_rm/nbody_output/tmp/xi_mock_z0_k1.npz',\n",
       " '/global/cfs/cdirs/des/jesteves/data/buzzard/v1.9.8/y3_rm/nbody_output/tmp/xi_mock_z0_k4.npz',\n",
       " '/global/cfs/cdirs/des/jesteves/data/buzzard/v1.9.8/y3_rm/nbody_output/tmp/xi_mock_z0_k7.npz',\n",
       " '/global/cfs/cdirs/des/jesteves/data/buzzard/v1.9.8/y3_rm/nbody_output/tmp/xi_mock_z0_k6.npz',\n",
       " '/global/cfs/cdirs/des/jesteves/data/buzzard/v1.9.8/y3_rm/nbody_output/tmp/xi_mock_z0_k0.npz']"
      ]
     },
     "execution_count": 145,
     "metadata": {},
     "output_type": "execute_result"
    }
   ],
   "source": [
    "from fileLoc import FileLocs\n",
    "import glob\n",
    "\n",
    "floc = FileLocs(machine='nersc')\n",
    "path = floc.halo_run_loc\n",
    "z_bin=0\n",
    "fname_base = path+'nbody_output/tmp/%s_mock_z%i'\n",
    "outfiles = glob.glob(fname_base%('xi', z_bin)+\"_k*\")\n",
    "outfiles\n"
   ]
  },
  {
   "cell_type": "code",
   "execution_count": 151,
   "id": "883e138f-7d9f-4b07-99a8-e4a7991362ea",
   "metadata": {},
   "outputs": [],
   "source": [
    "n_patches = len(outfiles)\n",
    "r, vec = joinFiles(outfiles)\n",
    "cov, sig, mean = get_jk_cov(vec, n_patches)"
   ]
  },
  {
   "cell_type": "code",
   "execution_count": 156,
   "id": "c7471717-ee82-42e4-81f9-79231d5ade22",
   "metadata": {},
   "outputs": [
    {
     "name": "stdout",
     "output_type": "stream",
     "text": [
      "/global/cfs/cdirs/des/jesteves/data/buzzard/v1.9.8/y3_rm/nbody_output/xi_z2_all\n"
     ]
    }
   ],
   "source": [
    "!ls /global/cfs/cdirs/des/jesteves/data/buzzard/v1.9.8/y3_rm/nbody_output/xi_z2_all"
   ]
  },
  {
   "cell_type": "code",
   "execution_count": null,
   "id": "a49b9912-5ee6-4d85-bef7-e5a2e971aba4",
   "metadata": {},
   "outputs": [],
   "source": [
    "fname = '/global/cfs/cdirs/des/jesteves/data/buzzard/v1.9.8/y3_rm/nbody_output/xi_z2_all'\n"
   ]
  },
  {
   "cell_type": "code",
   "execution_count": 153,
   "id": "b24ee67b-e856-4ab8-8fc6-0b1b8a17f364",
   "metadata": {},
   "outputs": [
    {
     "data": {
      "image/png": "[encoded data removed]",
      "text/plain": [
       "<Figure size 640x480 with 1 Axes>"
      ]
     },
     "metadata": {},
     "output_type": "display_data"
    }
   ],
   "source": [
    "import matplotlib.pyplot as plt\n",
    "plt.xscale('log')\n",
    "for i in range(10):\n",
    "    plt.loglog()\n",
    "    plt.scatter(r, vec[i], s=10)\n",
    "    #plt.errorbar(r, vec[i], yerr=sig)"
   ]
  },
  {
   "cell_type": "code",
   "execution_count": 154,
   "id": "f3c4e665-8046-4aac-ba25-0ef133127ac3",
   "metadata": {},
   "outputs": [
    {
     "data": {
      "text/plain": [
       "[<matplotlib.lines.Line2D at 0x14d1e68e3690>]"
      ]
     },
     "execution_count": 154,
     "metadata": {},
     "output_type": "execute_result"
    },
    {
     "data": {
      "image/png": "[encoded data removed]",
      "text/plain": [
       "<Figure size 640x480 with 1 Axes>"
      ]
     },
     "metadata": {},
     "output_type": "display_data"
    }
   ],
   "source": [
    "plt.loglog()\n",
    "plt.plot(r, sig/mean)"
   ]
  },
  {
   "cell_type": "code",
   "execution_count": 155,
   "id": "66b340a5-b2e0-4402-b1b6-4a45ffdf8d70",
   "metadata": {},
   "outputs": [
    {
     "data": {
      "text/plain": [
       "<matplotlib.colorbar.Colorbar at 0x14d1e703e510>"
      ]
     },
     "execution_count": 155,
     "metadata": {},
     "output_type": "execute_result"
    },
    {
     "data": {
      "image/png": "[encoded data removed]",
      "text/plain": [
       "<Figure size 640x480 with 2 Axes>"
      ]
     },
     "metadata": {},
     "output_type": "display_data"
    }
   ],
   "source": [
    "plt.imshow(np.corrcoef(cov),origin='lower')\n",
    "plt.colorbar()"
   ]
  },
  {
   "cell_type": "code",
   "execution_count": null,
   "id": "78b0b30e-8513-4753-ba62-5938964235c7",
   "metadata": {},
   "outputs": [],
   "source": []
  },
  {
   "cell_type": "markdown",
   "id": "3e8beb53-11d8-46fe-a05d-e37445eb6420",
   "metadata": {
    "tags": []
   },
   "source": [
    "### Check Current Files"
   ]
  },
  {
   "cell_type": "code",
   "execution_count": 100,
   "id": "ba6d6e5d-8bf6-417c-a1ff-19ac3ebe1808",
   "metadata": {},
   "outputs": [
    {
     "data": {
      "text/plain": [
       "['/global/cfs/cdirs/des/jesteves/data/buzzard/v1.9.8/y3_rm/data_0.fits',\n",
       " '/global/cfs/cdirs/des/jesteves/data/buzzard/v1.9.8/y3_rm/data_1.fits',\n",
       " '/global/cfs/cdirs/des/jesteves/data/buzzard/v1.9.8/y3_rm/data_2.fits']"
      ]
     },
     "execution_count": 100,
     "metadata": {},
     "output_type": "execute_result"
    }
   ],
   "source": [
    "files = [floc.halo_run_loc+'data_%i.fits'%i for i in range(3)]\n",
    "files"
   ]
  },
  {
   "cell_type": "code",
   "execution_count": 101,
   "id": "949ae959-b3fe-439f-b0fa-6da5492dd8c8",
   "metadata": {},
   "outputs": [
    {
     "data": {
      "text/plain": [
       "['/global/cfs/cdirs/des/jesteves/data/buzzard/v1.9.8/y3_rm/rnd_0.fits',\n",
       " '/global/cfs/cdirs/des/jesteves/data/buzzard/v1.9.8/y3_rm/rnd_1.fits',\n",
       " '/global/cfs/cdirs/des/jesteves/data/buzzard/v1.9.8/y3_rm/rnd_2.fits']"
      ]
     },
     "execution_count": 101,
     "metadata": {},
     "output_type": "execute_result"
    }
   ],
   "source": [
    "files_rnd = [floc.halo_run_loc+'rnd_%i.fits'%i for i in range(3)]\n",
    "files_rnd"
   ]
  },
  {
   "cell_type": "code",
   "execution_count": 10,
   "id": "8a84ea93-9b1b-4bca-82c6-dd1cdac43632",
   "metadata": {},
   "outputs": [
    {
     "data": {
      "text/html": [
       "<div><i>Table length=42071</i>\n",
       "<table id=\"table23060293542672\" class=\"table-striped table-bordered table-condensed\">\n",
       "<thead><tr><th>FKPWeight</th><th>NZ</th><th>Position [3]</th><th>Selection</th><th>Value</th><th>Weight</th><th>dec</th><th>lambda_mor</th><th>ra</th><th>z</th><th>labels</th></tr></thead>\n",
       "<thead><tr><th>float64</th><th>float64</th><th>float64</th><th>bool</th><th>float64</th><th>float64</th><th>float64</th><th>float64</th><th>float64</th><th>float64</th><th>int64</th></tr></thead>\n",
       "<tr><td>0.8480960924749683</td><td>1.7911167009593917e-05</td><td>340.7146816135973 .. -508.91163620711916</td><td>True</td><td>1.0</td><td>1.0</td><td>-42.0517754044981</td><td>10.062862533601052</td><td>307.15073025389347</td><td>0.27058446407318115</td><td>0</td></tr>\n",
       "<tr><td>0.8476666538498514</td><td>1.7970902294940548e-05</td><td>341.44215990677503 .. -508.571399728615</td><td>True</td><td>1.0</td><td>1.0</td><td>-42.05313550692125</td><td>19.507735487705173</td><td>307.27470671757794</td><td>0.27038249373435974</td><td>0</td></tr>\n",
       "<tr><td>0.8389328861266531</td><td>1.9199046376283158e-05</td><td>354.5415502114185 .. -475.2771108507036</td><td>True</td><td>1.0</td><td>1.0</td><td>-39.82394748123761</td><td>11.91423018521523</td><td>308.4656671879389</td><td>0.263835608959198</td><td>0</td></tr>\n",
       "<tr><td>0.8448775053789793</td><td>1.8360353262268325e-05</td><td>346.63950707136763 .. -497.21834570585213</td><td>True</td><td>1.0</td><td>1.0</td><td>-41.11823254776729</td><td>8.228792588562362</td><td>307.4854577332952</td><td>0.2691691219806671</td><td>0</td></tr>\n",
       "<tr><td>0.8447270419782714</td><td>1.8381435695262443e-05</td><td>348.3227077942536 .. -489.28736440054325</td><td>True</td><td>1.0</td><td>1.0</td><td>-40.33704591404569</td><td>11.819979785014675</td><td>307.19468371746234</td><td>0.2690989375114441</td><td>0</td></tr>\n",
       "<tr><td>0.849822922959816</td><td>1.7671572863336975e-05</td><td>345.07770341878853 .. -508.305109883491</td><td>True</td><td>1.0</td><td>1.0</td><td>-41.77310834257179</td><td>6.943331940272871</td><td>307.3307214637057</td><td>0.27181583642959595</td><td>0</td></tr>\n",
       "<tr><td>0.8479407371147144</td><td>1.7932770089888265e-05</td><td>344.09183188298726 .. -510.2824977769061</td><td>True</td><td>1.0</td><td>1.0</td><td>-42.204481198765336</td><td>7.03158254099195</td><td>307.7001301727229</td><td>0.27050986886024475</td><td>0</td></tr>\n",
       "<tr><td>0.8399686102494356</td><td>1.9052067874660434e-05</td><td>345.85617075629887 .. -492.32735428582123</td><td>True</td><td>1.0</td><td>1.0</td><td>-41.334996588504595</td><td>5.825115772027186</td><td>308.16405213047904</td><td>0.2650974988937378</td><td>0</td></tr>\n",
       "<tr><td>0.8416079904610335</td><td>1.882016465316581e-05</td><td>367.61702158699137 .. -552.5316928691108</td><td>True</td><td>1.0</td><td>1.0</td><td>-42.0608546881254</td><td>20.104353324388647</td><td>306.8948557714656</td><td>0.2956170439720154</td><td>0</td></tr>\n",
       "<tr><td>0.8419152573459653</td><td>1.8776799835220653e-05</td><td>369.4200053298228 .. -553.1220858140891</td><td>True</td><td>1.0</td><td>1.0</td><td>-42.037592111290536</td><td>12.143375501736957</td><td>307.0245474760688</td><td>0.29610320925712585</td><td>0</td></tr>\n",
       "<tr><td>...</td><td>...</td><td>...</td><td>...</td><td>...</td><td>...</td><td>...</td><td>...</td><td>...</td><td>...</td><td>...</td></tr>\n",
       "<tr><td>0.8434118848661097</td><td>1.8566031371344536e-05</td><td>362.35913766182966 .. -377.5061030473246</td><td>True</td><td>1.0</td><td>1.0</td><td>-25.286951929823033</td><td>5.859681993819785</td><td>63.03385062034484</td><td>0.31865406036376953</td><td>6</td></tr>\n",
       "<tr><td>0.8453789528821232</td><td>1.8290146281822172e-05</td><td>359.6648663941766 .. -368.0104459669119</td><td>True</td><td>1.0</td><td>1.0</td><td>-24.909587442153068</td><td>11.964802057407626</td><td>63.008599623195195</td><td>0.31471678614616394</td><td>6</td></tr>\n",
       "<tr><td>0.8430619460509206</td><td>1.8615245852835656e-05</td><td>371.4866087571319 .. -385.8007081692304</td><td>True</td><td>1.0</td><td>1.0</td><td>-26.05267826805364</td><td>6.682028294313924</td><td>61.91811449673352</td><td>0.3165518641471863</td><td>9</td></tr>\n",
       "<tr><td>0.8433276659951483</td><td>1.8577871961543492e-05</td><td>350.06960260540677 .. -369.1452440512608</td><td>True</td><td>1.0</td><td>1.0</td><td>-24.884096227709463</td><td>5.719112159009091</td><td>63.90391374506777</td><td>0.31610339879989624</td><td>6</td></tr>\n",
       "<tr><td>0.8431998052407177</td><td>1.859585281978555e-05</td><td>350.12787051339825 .. -389.503978314139</td><td>True</td><td>1.0</td><td>1.0</td><td>-26.17632937294526</td><td>7.335666021899007</td><td>63.77764420783668</td><td>0.31833329796791077</td><td>6</td></tr>\n",
       "<tr><td>0.8460155393445326</td><td>1.8201138571848217e-05</td><td>368.1102342777658 .. -367.0772142948548</td><td>True</td><td>1.0</td><td>1.0</td><td>-24.44710279051891</td><td>8.033825283885</td><td>62.87771559239868</td><td>0.3199121654033661</td><td>6</td></tr>\n",
       "<tr><td>0.8447552464723876</td><td>1.8377483203081446e-05</td><td>375.53375961553036 .. -378.9114734634242</td><td>True</td><td>1.0</td><td>1.0</td><td>-25.672758471156556</td><td>6.644379823992141</td><td>61.5496438177802</td><td>0.3150593936443329</td><td>9</td></tr>\n",
       "<tr><td>0.8447306632520388</td><td>1.838092820618186e-05</td><td>339.18654076759145 .. -367.4194696278118</td><td>True</td><td>1.0</td><td>1.0</td><td>-24.503011513630142</td><td>7.340024785201483</td><td>65.11702119859717</td><td>0.31948980689048767</td><td>6</td></tr>\n",
       "<tr><td>0.8429659967700184</td><td>1.8628747046937445e-05</td><td>329.70888254944026 .. -752.8531592657909</td><td>True</td><td>1.0</td><td>1.0</td><td>-58.883796145495126</td><td>5.718899347962372</td><td>316.51271060668745</td><td>0.3169266879558563</td><td>0</td></tr>\n",
       "<tr><td>0.8429659967700184</td><td>1.8628747046937445e-05</td><td>361.36527965018337 .. -365.96927714563105</td><td>True</td><td>1.0</td><td>1.0</td><td>-24.592940998519353</td><td>5.451443317961853</td><td>63.13249248091727</td><td>0.3169266879558563</td><td>6</td></tr>\n",
       "</table></div>"
      ],
      "text/plain": [
       "<Table length=42071>\n",
       "    FKPWeight                NZ           ...          z          labels\n",
       "     float64              float64         ...       float64       int64 \n",
       "------------------ ---------------------- ... ------------------- ------\n",
       "0.8480960924749683 1.7911167009593917e-05 ... 0.27058446407318115      0\n",
       "0.8476666538498514 1.7970902294940548e-05 ... 0.27038249373435974      0\n",
       "0.8389328861266531 1.9199046376283158e-05 ...   0.263835608959198      0\n",
       "0.8448775053789793 1.8360353262268325e-05 ...  0.2691691219806671      0\n",
       "0.8447270419782714 1.8381435695262443e-05 ...  0.2690989375114441      0\n",
       " 0.849822922959816 1.7671572863336975e-05 ... 0.27181583642959595      0\n",
       "0.8479407371147144 1.7932770089888265e-05 ... 0.27050986886024475      0\n",
       "0.8399686102494356 1.9052067874660434e-05 ...  0.2650974988937378      0\n",
       "0.8416079904610335  1.882016465316581e-05 ...  0.2956170439720154      0\n",
       "0.8419152573459653 1.8776799835220653e-05 ... 0.29610320925712585      0\n",
       "               ...                    ... ...                 ...    ...\n",
       "0.8434118848661097 1.8566031371344536e-05 ... 0.31865406036376953      6\n",
       "0.8453789528821232 1.8290146281822172e-05 ... 0.31471678614616394      6\n",
       "0.8430619460509206 1.8615245852835656e-05 ...  0.3165518641471863      9\n",
       "0.8433276659951483 1.8577871961543492e-05 ... 0.31610339879989624      6\n",
       "0.8431998052407177  1.859585281978555e-05 ... 0.31833329796791077      6\n",
       "0.8460155393445326 1.8201138571848217e-05 ...  0.3199121654033661      6\n",
       "0.8447552464723876 1.8377483203081446e-05 ...  0.3150593936443329      9\n",
       "0.8447306632520388  1.838092820618186e-05 ... 0.31948980689048767      6\n",
       "0.8429659967700184 1.8628747046937445e-05 ...  0.3169266879558563      0\n",
       "0.8429659967700184 1.8628747046937445e-05 ...  0.3169266879558563      6"
      ]
     },
     "execution_count": 10,
     "metadata": {},
     "output_type": "execute_result"
    }
   ],
   "source": [
    "Table(getdata(files[0]))"
   ]
  },
  {
   "cell_type": "code",
   "execution_count": 32,
   "id": "384caef6-f3b8-40c4-8d89-02c6d4bff4a2",
   "metadata": {},
   "outputs": [
    {
     "data": {
      "text/plain": [
       "array([0, 1, 2, 3, 4, 5, 6, 7, 8, 9])"
      ]
     },
     "execution_count": 32,
     "metadata": {},
     "output_type": "execute_result"
    }
   ],
   "source": [
    "tmp = Table(getdata(files[2]))\n",
    "np.array(np.unique(tmp['labels']))"
   ]
  },
  {
   "cell_type": "code",
   "execution_count": 14,
   "id": "d9b03a8e-c7d3-4fb5-9aea-fa7458e81182",
   "metadata": {},
   "outputs": [
    {
     "data": {
      "text/plain": [
       "['/global/cfs/cdirs/des/jesteves/data/buzzard/v1.9.8/y3_rm/nbody_output/tmp/debug_data_7.fits',\n",
       " '/global/cfs/cdirs/des/jesteves/data/buzzard/v1.9.8/y3_rm/nbody_output/tmp/debug_data_6.fits',\n",
       " '/global/cfs/cdirs/des/jesteves/data/buzzard/v1.9.8/y3_rm/nbody_output/tmp/debug_data_3.fits',\n",
       " '/global/cfs/cdirs/des/jesteves/data/buzzard/v1.9.8/y3_rm/nbody_output/tmp/debug_data_4.fits',\n",
       " '/global/cfs/cdirs/des/jesteves/data/buzzard/v1.9.8/y3_rm/nbody_output/tmp/debug_data_0.fits',\n",
       " '/global/cfs/cdirs/des/jesteves/data/buzzard/v1.9.8/y3_rm/nbody_output/tmp/debug_data_8.fits',\n",
       " '/global/cfs/cdirs/des/jesteves/data/buzzard/v1.9.8/y3_rm/nbody_output/tmp/debug_data_2.fits',\n",
       " '/global/cfs/cdirs/des/jesteves/data/buzzard/v1.9.8/y3_rm/nbody_output/tmp/debug_data_9.fits',\n",
       " '/global/cfs/cdirs/des/jesteves/data/buzzard/v1.9.8/y3_rm/nbody_output/tmp/debug_data_1.fits',\n",
       " '/global/cfs/cdirs/des/jesteves/data/buzzard/v1.9.8/y3_rm/nbody_output/tmp/debug_data_5.fits']"
      ]
     },
     "execution_count": 14,
     "metadata": {},
     "output_type": "execute_result"
    }
   ],
   "source": [
    "import glob\n",
    "p1 = \"/global/cfs/cdirs/des/jesteves/data/buzzard/v1.9.8/y3_rm/nbody_output/tmp/\"\n",
    "files1 = glob.glob(p1+\"debug_data*\")\n",
    "files1"
   ]
  },
  {
   "cell_type": "code",
   "execution_count": 15,
   "id": "6321bdc4-0416-4807-aac8-752076046c77",
   "metadata": {},
   "outputs": [
    {
     "data": {
      "text/plain": [
       "['/global/cfs/cdirs/des/jesteves/data/buzzard/v1.9.8/y3_rm/nbody_output/tmp/debug_rnd_1.fits',\n",
       " '/global/cfs/cdirs/des/jesteves/data/buzzard/v1.9.8/y3_rm/nbody_output/tmp/debug_rnd_9.fits',\n",
       " '/global/cfs/cdirs/des/jesteves/data/buzzard/v1.9.8/y3_rm/nbody_output/tmp/debug_rnd_8.fits',\n",
       " '/global/cfs/cdirs/des/jesteves/data/buzzard/v1.9.8/y3_rm/nbody_output/tmp/debug_rnd_6.fits',\n",
       " '/global/cfs/cdirs/des/jesteves/data/buzzard/v1.9.8/y3_rm/nbody_output/tmp/debug_rnd_3.fits',\n",
       " '/global/cfs/cdirs/des/jesteves/data/buzzard/v1.9.8/y3_rm/nbody_output/tmp/debug_rnd_5.fits',\n",
       " '/global/cfs/cdirs/des/jesteves/data/buzzard/v1.9.8/y3_rm/nbody_output/tmp/debug_rnd_4.fits',\n",
       " '/global/cfs/cdirs/des/jesteves/data/buzzard/v1.9.8/y3_rm/nbody_output/tmp/debug_rnd_0.fits',\n",
       " '/global/cfs/cdirs/des/jesteves/data/buzzard/v1.9.8/y3_rm/nbody_output/tmp/debug_rnd_7.fits',\n",
       " '/global/cfs/cdirs/des/jesteves/data/buzzard/v1.9.8/y3_rm/nbody_output/tmp/debug_rnd_2.fits']"
      ]
     },
     "execution_count": 15,
     "metadata": {},
     "output_type": "execute_result"
    }
   ],
   "source": [
    "files2 = glob.glob(p1+\"debug_rnd*\")\n",
    "files2"
   ]
  },
  {
   "cell_type": "code",
   "execution_count": null,
   "id": "202869c9-a6e2-4433-9c77-5c0a238bc794",
   "metadata": {},
   "outputs": [],
   "source": []
  },
  {
   "cell_type": "markdown",
   "id": "41002748-3563-49d5-bb3e-9d2118b6d889",
   "metadata": {},
   "source": [
    "## Run Nbody"
   ]
  },
  {
   "cell_type": "code",
   "execution_count": 4,
   "id": "748a469a-111c-464c-be0d-009509ed4b7d",
   "metadata": {},
   "outputs": [],
   "source": [
    "z_bin = 0\n",
    "tag = \"debug\"\n",
    "path = floc.halo_run_loc"
   ]
  },
  {
   "cell_type": "code",
   "execution_count": 6,
   "id": "455c82ad-b4e3-459f-8d71-b194335c9425",
   "metadata": {},
   "outputs": [],
   "source": [
    "# print('Redshift bin: %i'%z_bin)\n",
    "# data = FITSCatalog(path+'data_%i.fits'%z_bin)\n",
    "# rnd = FITSCatalog(path+'rnd_%i.fits'%z_bin)\n",
    "\n",
    "# print('Setup Patches')\n",
    "# labels = np.array(data['labels'])\n",
    "# groups = np.unique(labels)\n",
    "# n_patches = groups.size\n",
    "\n",
    "# datas   = [data[data['labels']!=k] for k in groups]\n",
    "# randoms = [rnd[rnd['labels']!=k] for k in groups]\n"
   ]
  },
  {
   "cell_type": "code",
   "execution_count": 44,
   "id": "709b21bd-d0d5-4694-ad05-555aa8658c45",
   "metadata": {},
   "outputs": [
    {
     "data": {
      "text/plain": [
       "array([0, 1, 2, 3, 4, 5, 6, 7, 8, 9])"
      ]
     },
     "execution_count": 44,
     "metadata": {},
     "output_type": "execute_result"
    }
   ],
   "source": [
    "groups"
   ]
  },
  {
   "cell_type": "code",
   "execution_count": 45,
   "id": "22ffbd2b-a378-4d61-85dd-5c78a810aee8",
   "metadata": {},
   "outputs": [
    {
     "data": {
      "text/plain": [
       "10"
      ]
     },
     "execution_count": 45,
     "metadata": {},
     "output_type": "execute_result"
    }
   ],
   "source": [
    "n_patches"
   ]
  },
  {
   "cell_type": "code",
   "execution_count": 7,
   "id": "46983040-2328-488b-b053-f56e814dad85",
   "metadata": {},
   "outputs": [
    {
     "ename": "NameError",
     "evalue": "name 'SetupFiles' is not defined",
     "output_type": "error",
     "traceback": [
      "\u001b[0;31m---------------------------------------------------------------------------\u001b[0m",
      "\u001b[0;31mNameError\u001b[0m                                 Traceback (most recent call last)",
      "\u001b[0;32m/tmp/ipykernel_158147/3040762731.py\u001b[0m in \u001b[0;36m<module>\u001b[0;34m\u001b[0m\n\u001b[0;32m----> 1\u001b[0;31m \u001b[0mfl\u001b[0m \u001b[0;34m=\u001b[0m \u001b[0mSetupFiles\u001b[0m\u001b[0;34m(\u001b[0m\u001b[0mtag\u001b[0m\u001b[0;34m,\u001b[0m \u001b[0mn_patches\u001b[0m\u001b[0;34m)\u001b[0m\u001b[0;34m\u001b[0m\u001b[0;34m\u001b[0m\u001b[0m\n\u001b[0m\u001b[1;32m      2\u001b[0m \u001b[0moutfiles\u001b[0m \u001b[0;34m=\u001b[0m \u001b[0;34m[\u001b[0m\u001b[0mfl\u001b[0m\u001b[0;34m.\u001b[0m\u001b[0mtmp_fname_base\u001b[0m\u001b[0;34m.\u001b[0m\u001b[0mformat\u001b[0m\u001b[0;34m(\u001b[0m\u001b[0mk\u001b[0m\u001b[0;34m)\u001b[0m \u001b[0;32mfor\u001b[0m \u001b[0mk\u001b[0m \u001b[0;32min\u001b[0m \u001b[0mrange\u001b[0m\u001b[0;34m(\u001b[0m\u001b[0mn_patches\u001b[0m\u001b[0;34m)\u001b[0m\u001b[0;34m]\u001b[0m\u001b[0;34m\u001b[0m\u001b[0;34m\u001b[0m\u001b[0m\n\u001b[1;32m      3\u001b[0m \u001b[0moutfiles\u001b[0m\u001b[0;34m\u001b[0m\u001b[0;34m\u001b[0m\u001b[0m\n",
      "\u001b[0;31mNameError\u001b[0m: name 'SetupFiles' is not defined"
     ]
    }
   ],
   "source": [
    "fl = SetupFiles(tag, n_patches)\n",
    "outfiles = [fl.tmp_fname_base.format(k) for k in range(n_patches)]\n",
    "outfiles"
   ]
  },
  {
   "cell_type": "code",
   "execution_count": 48,
   "id": "9dac58e1-8ab7-4b99-85fb-78db72b2cd79",
   "metadata": {},
   "outputs": [
    {
     "name": "stdout",
     "output_type": "stream",
     "text": [
      "Correlation Function\n",
      "Group 0/10\n",
      "size: 37012\n",
      "./output/debug_jk_patches_00000.npy\n",
      "\n",
      "Group 1/10\n",
      "size: 40782\n",
      "./output/debug_jk_patches_00001.npy\n",
      "\n",
      "Group 2/10\n",
      "size: 37308\n",
      "./output/debug_jk_patches_00002.npy\n",
      "\n",
      "Group 3/10\n",
      "size: 36864\n",
      "./output/debug_jk_patches_00003.npy\n",
      "\n",
      "Group 4/10\n",
      "size: 39573\n",
      "./output/debug_jk_patches_00004.npy\n",
      "\n",
      "Group 5/10\n",
      "size: 37927\n",
      "./output/debug_jk_patches_00005.npy\n",
      "\n",
      "Group 6/10\n",
      "size: 38098\n",
      "./output/debug_jk_patches_00006.npy\n",
      "\n",
      "Group 7/10\n",
      "size: 36771\n",
      "./output/debug_jk_patches_00007.npy\n",
      "\n",
      "Group 8/10\n",
      "size: 37281\n",
      "./output/debug_jk_patches_00008.npy\n",
      "\n",
      "Group 9/10\n",
      "size: 37023\n",
      "./output/debug_jk_patches_00009.npy\n",
      "\n"
     ]
    }
   ],
   "source": [
    "print('Correlation Function')\n",
    "for k in range(n_patches):\n",
    "    print(\"Group %i/%i\"%(k, n_patches))\n",
    "    print(\"size:\", datas[k].csize)\n",
    "    print(outfiles[k])\n",
    "    print()\n"
   ]
  },
  {
   "cell_type": "code",
   "execution_count": null,
   "id": "b544dd86-f1ab-4d6e-8efc-df56b2552d17",
   "metadata": {},
   "outputs": [],
   "source": []
  },
  {
   "cell_type": "code",
   "execution_count": null,
   "id": "a8894bee-bf4b-4cc2-a224-4e32a95efca5",
   "metadata": {},
   "outputs": [],
   "source": []
  },
  {
   "cell_type": "code",
   "execution_count": null,
   "id": "c181e74c-99a8-414e-9317-c1797f7168f4",
   "metadata": {},
   "outputs": [],
   "source": []
  },
  {
   "cell_type": "markdown",
   "id": "80196d02-80f1-4e11-bf4d-13d118877bc8",
   "metadata": {},
   "source": [
    "## dEv File System"
   ]
  },
  {
   "cell_type": "code",
   "execution_count": 21,
   "id": "4795e712-1427-4dc4-bc3d-db2bf74f73ab",
   "metadata": {},
   "outputs": [],
   "source": [
    "from set_bins_files import SetupFiles\n",
    "tag = \"debug\"\n",
    "fl = SetupFiles(tag, n_patches)\n"
   ]
  },
  {
   "cell_type": "code",
   "execution_count": 25,
   "id": "f9d68766-5071-4f70-8273-426a2c5c0091",
   "metadata": {},
   "outputs": [],
   "source": [
    "outfiles = [fl.tmp_fname_base.format(k) for k in range(n_patches)]"
   ]
  },
  {
   "cell_type": "code",
   "execution_count": 27,
   "id": "0fb96066-453e-4fd3-ae96-538c45d855e2",
   "metadata": {},
   "outputs": [
    {
     "data": {
      "text/plain": [
       "['./output/debug_jk_patches_00000.npy',\n",
       " './output/debug_jk_patches_00001.npy',\n",
       " './output/debug_jk_patches_00002.npy',\n",
       " './output/debug_jk_patches_00003.npy',\n",
       " './output/debug_jk_patches_00004.npy',\n",
       " './output/debug_jk_patches_00005.npy',\n",
       " './output/debug_jk_patches_00006.npy',\n",
       " './output/debug_jk_patches_00007.npy',\n",
       " './output/debug_jk_patches_00008.npy',\n",
       " './output/debug_jk_patches_00009.npy']"
      ]
     },
     "execution_count": 27,
     "metadata": {},
     "output_type": "execute_result"
    }
   ],
   "source": [
    "outfiles"
   ]
  },
  {
   "cell_type": "code",
   "execution_count": 49,
   "id": "3d6aaf90-022c-4cfc-8d52-ea169d878bd8",
   "metadata": {},
   "outputs": [],
   "source": [
    "import os "
   ]
  },
  {
   "cell_type": "code",
   "execution_count": 53,
   "id": "818c8317-39d9-4930-b59e-da81b303a4da",
   "metadata": {},
   "outputs": [
    {
     "data": {
      "text/plain": [
       "True"
      ]
     },
     "execution_count": 53,
     "metadata": {},
     "output_type": "execute_result"
    }
   ],
   "source": [
    "os.path.isdir('/global/cfs/cdirs/des/jesteves/data/buzzard/v1.9.8/y3_rm/output/kmeans10/')"
   ]
  },
  {
   "cell_type": "markdown",
   "id": "7c96648f-b51c-404b-8154-aa3ec56cc7e9",
   "metadata": {
    "tags": []
   },
   "source": [
    "## Generate Data/Random Files"
   ]
  },
  {
   "cell_type": "code",
   "execution_count": 16,
   "id": "c4a92cc6-e3de-44cd-b309-6c0e4cef800b",
   "metadata": {},
   "outputs": [
    {
     "ename": "NameError",
     "evalue": "name 'cosmology' is not defined",
     "output_type": "error",
     "traceback": [
      "\u001b[0;31m---------------------------------------------------------------------------\u001b[0m",
      "\u001b[0;31mNameError\u001b[0m                                 Traceback (most recent call last)",
      "\u001b[0;32m/tmp/ipykernel_158147/2429222413.py\u001b[0m in \u001b[0;36m<module>\u001b[0;34m\u001b[0m\n\u001b[1;32m      1\u001b[0m \u001b[0;31m# read files\u001b[0m\u001b[0;34m\u001b[0m\u001b[0;34m\u001b[0m\u001b[0;34m\u001b[0m\u001b[0m\n\u001b[0;32m----> 2\u001b[0;31m \u001b[0mcosmo\u001b[0m \u001b[0;34m=\u001b[0m \u001b[0mcosmology\u001b[0m\u001b[0;34m.\u001b[0m\u001b[0mCosmology\u001b[0m\u001b[0;34m(\u001b[0m\u001b[0mh\u001b[0m\u001b[0;34m=\u001b[0m\u001b[0;36m0.7\u001b[0m\u001b[0;34m)\u001b[0m\u001b[0;34m.\u001b[0m\u001b[0mmatch\u001b[0m\u001b[0;34m(\u001b[0m\u001b[0mOmega0_m\u001b[0m\u001b[0;34m=\u001b[0m\u001b[0;36m0.3\u001b[0m\u001b[0;34m)\u001b[0m\u001b[0;34m\u001b[0m\u001b[0;34m\u001b[0m\u001b[0m\n\u001b[0m\u001b[1;32m      3\u001b[0m \u001b[0mprint\u001b[0m\u001b[0;34m(\u001b[0m\u001b[0;34m'halo file name: %s'\u001b[0m\u001b[0;34m%\u001b[0m\u001b[0mfloc\u001b[0m\u001b[0;34m.\u001b[0m\u001b[0mmock_nbody_fname\u001b[0m\u001b[0;34m)\u001b[0m\u001b[0;34m\u001b[0m\u001b[0;34m\u001b[0m\u001b[0m\n\u001b[1;32m      4\u001b[0m \u001b[0mdata\u001b[0m \u001b[0;34m=\u001b[0m \u001b[0mFITSCatalog\u001b[0m\u001b[0;34m(\u001b[0m\u001b[0mfloc\u001b[0m\u001b[0;34m.\u001b[0m\u001b[0mmock_nbody_fname\u001b[0m\u001b[0;34m)\u001b[0m\u001b[0;34m\u001b[0m\u001b[0;34m\u001b[0m\u001b[0m\n\u001b[1;32m      5\u001b[0m \u001b[0;34m\u001b[0m\u001b[0m\n",
      "\u001b[0;31mNameError\u001b[0m: name 'cosmology' is not defined"
     ]
    }
   ],
   "source": [
    "# read files\n",
    "cosmo = cosmology.Cosmology(h=0.7).match(Omega0_m=0.3)\n",
    "print('halo file name: %s'%floc.mock_nbody_fname)\n",
    "data = FITSCatalog(floc.mock_nbody_fname)\n",
    "\n",
    "print('Random file name: %s'%floc.mock_random_fname)\n",
    "randoms = FITSCatalog(floc.mock_random_fname)\n",
    "\n"
   ]
  },
  {
   "cell_type": "code",
   "execution_count": 5,
   "id": "e3dfa855-b681-474d-8331-bed58c5d5169",
   "metadata": {},
   "outputs": [],
   "source": [
    "# add Cartesian position column\n",
    "data['Position'] = transform.SkyToCartesian(data['ra'], data['dec'], data['z'], cosmo=cosmo)\n",
    "randoms['Position'] = transform.SkyToCartesian(randoms['ra'], randoms['dec'], randoms['z'], cosmo=cosmo)\n"
   ]
  },
  {
   "cell_type": "code",
   "execution_count": 6,
   "id": "57f73148-04ef-4186-9a02-6938f7d8e002",
   "metadata": {},
   "outputs": [],
   "source": [
    "# Make FKP weighting\n",
    "from scipy.interpolate import InterpolatedUnivariateSpline\n",
    "# the sky fraction, used to compute volume in n(z)\n",
    "FSKY = 1. # a made-up value\n",
    "zhist = RedshiftHistogram(randoms, FSKY, cosmo, redshift='z')\n",
    "alpha = 1.0 * data.csize / randoms.csize\n",
    "nofz = InterpolatedUnivariateSpline(zhist.bin_centers, alpha*zhist.nbar)\n",
    "\n",
    "# add the n(z) columns to the FKPCatalog\n",
    "randoms['NZ'] = nofz(randoms['z'])\n",
    "data['NZ'] = nofz(data['z'])\n",
    "\n",
    "data['FKPWeight'] = 1.0 / (1 + data['NZ'] * 1e4)\n",
    "randoms['FKPWeight'] = 1.0 / (1 + randoms['NZ'] * 1e4)\n"
   ]
  },
  {
   "cell_type": "code",
   "execution_count": 7,
   "id": "43d0aa76-2242-40f9-a181-04d45f05c65c",
   "metadata": {},
   "outputs": [],
   "source": [
    "def redshift_slice(jointCat, zmin, zmax):\n",
    "    datas = []\n",
    "    for cat in jointCat:\n",
    "        mask = (cat['z']>=zmin)&(cat['z']<zmax)\n",
    "        datas.append(cat[mask].copy())\n",
    "    return datas\n",
    "\n",
    "# bins\n",
    "zbins = np.array([0.2, 0.32, 0.373, 0.51, 0.65])\n",
    "zmin_list = np.array([0.2, 0.373, 0.51])\n",
    "zmax_list = np.array([0.32, 0.51, 0.64])\n",
    "zmeans = np.array([0.25, 0.44, 0.575])"
   ]
  },
  {
   "cell_type": "code",
   "execution_count": 8,
   "id": "d409b7c2-7c20-4e70-9d1b-51a76c6f4a35",
   "metadata": {},
   "outputs": [],
   "source": [
    "def dask_to_table(cat):\n",
    "    out = Table()\n",
    "    columns = list(cat.columns)\n",
    "    for col in columns:\n",
    "        out[col] = np.array(cat[col])\n",
    "    return out\n",
    "\n",
    "def get_labels(data, random, n_patches=10):\n",
    "    import treecorr\n",
    "    cat = treecorr.Catalog(ra=data['ra'], dec=data['dec'], ra_units='deg', dec_units='deg', npatch=n_patches)\n",
    "    labels = cat.patch\n",
    "\n",
    "    rcat = treecorr.Catalog(ra=random['ra'], dec=random['ra'], ra_units='deg', dec_units='deg', patch_centers=cat.patch_centers)\n",
    "    labels_rnd = rcat.patch\n",
    "    \n",
    "    data['labels'] = labels\n",
    "    random['labels'] = labels_rnd\n",
    "    return data, random\n"
   ]
  },
  {
   "cell_type": "code",
   "execution_count": 17,
   "id": "4c5ed9a4-28ae-4369-8598-22ecb6b56c2a",
   "metadata": {},
   "outputs": [
    {
     "name": "stdout",
     "output_type": "stream",
     "text": [
      "redshift bin: 0.20 < z < 0.32\n",
      "redshift bin: 0.37 < z < 0.51\n",
      "redshift bin: 0.51 < z < 0.64\n"
     ]
    }
   ],
   "source": [
    "# i = 0\n",
    "# for zmin, zmax in zip(zmin_list, zmax_list):\n",
    "#     print('redshift bin: %.2f < z < %.2f'%(zmin, zmax))\n",
    "#     d, r = redshift_slice([data, randoms], zmin, zmax)\n",
    "#     tb1 = dask_to_table(d)\n",
    "#     tb2 = dask_to_table(r)\n",
    "#     tb1, tb2 = get_labels(tb1, tb2, n_patches=n_patches)\n",
    "    \n",
    "#     tb1.write(floc.halo_run_loc+'data_%i.fits'%i, overwrite=True)\n",
    "#     tb2.write(floc.halo_run_loc+'rnd_%i.fits'%i, overwrite=True)\n",
    "#     i+=1"
   ]
  },
  {
   "cell_type": "code",
   "execution_count": null,
   "id": "a2985fce-2290-4851-925b-56ba8eb896f4",
   "metadata": {},
   "outputs": [],
   "source": [
    "\n",
    "i = 0\n",
    "fname_base = floc.halo_run_loc+'nbody_output/cat/%s_z%i_k%i.fits'\n",
    "data = dask_to_table(data)\n",
    "randoms = dask_to_table(randoms)\n",
    "for zmin, zmax in zip(zmin_list, zmax_list):\n",
    "    print('redshift bin: %.2f < z < %.2f'%(zmin, zmax))\n",
    "    d, r = redshift_slice([data, randoms], zmin, zmax)\n",
    "    d, r = get_labels(d, r, n_patches=n_patches)\n",
    "    for k in n_patches:\n",
    "        fname = fname_base%(\"data\", i, k)\n",
    "        fname2 = fname_base%(\"random\", i, k)\n",
    "        dk = d[d['labels']!=k] \n",
    "        rk = r[r['labels']!=k] \n",
    "        dk.write(fname, overwrite=True)\n",
    "        rk.write(fname2, overwrite=True)\n",
    "\n",
    "    i+=1"
   ]
  },
  {
   "cell_type": "code",
   "execution_count": null,
   "id": "4e76ec45-c979-43b1-81f7-cee372b5f6e0",
   "metadata": {},
   "outputs": [],
   "source": []
  },
  {
   "cell_type": "code",
   "execution_count": 24,
   "id": "0ff24948-6c5c-4454-956d-efedb13829fc",
   "metadata": {},
   "outputs": [],
   "source": [
    "import treecorr\n",
    "n_patches = 10\n",
    "\n",
    "tmp = Table(getdata(files[2]))\n",
    "tmp2= Table(getdata(files_rnd[2]))\n",
    "\n",
    "ra = tmp['ra']\n",
    "dec = tmp['dec']\n",
    "\n",
    "cat = treecorr.Catalog(ra=tmp['ra'], dec=tmp['dec'], ra_units='deg', dec_units='deg', npatch=n_patches)\n",
    "labels = cat.patch\n",
    "\n",
    "rcat = treecorr.Catalog(ra=tmp2['ra'], dec=tmp2['ra'], ra_units='deg', dec_units='deg', patch_centers=cat.patch_centers)\n",
    "labels_rnd = rcat.patch\n"
   ]
  },
  {
   "cell_type": "code",
   "execution_count": 25,
   "id": "2569c424-85c3-49c2-bfe2-6fe46c11d4f2",
   "metadata": {},
   "outputs": [
    {
     "data": {
      "text/plain": [
       "array([4, 4, 4, ..., 4, 9, 1])"
      ]
     },
     "execution_count": 25,
     "metadata": {},
     "output_type": "execute_result"
    }
   ],
   "source": [
    "labels_rnd"
   ]
  },
  {
   "cell_type": "code",
   "execution_count": 26,
   "id": "d680906b-a837-4ac2-b62b-b2e102c47727",
   "metadata": {},
   "outputs": [
    {
     "data": {
      "text/plain": [
       "array([1, 1, 1, ..., 6, 6, 6])"
      ]
     },
     "execution_count": 26,
     "metadata": {},
     "output_type": "execute_result"
    }
   ],
   "source": [
    "labels"
   ]
  },
  {
   "cell_type": "code",
   "execution_count": 29,
   "id": "1ec37c63-0e60-4231-a2ca-7b427ac8bf72",
   "metadata": {},
   "outputs": [],
   "source": [
    "def get_labels(data, random, n_patches=10):\n",
    "    import treecorr\n",
    "    cat = treecorr.Catalog(ra=data['ra'], dec=data['dec'], ra_units='deg', dec_units='deg', npatch=n_patches)\n",
    "    labels = cat.patch\n",
    "\n",
    "    rcat = treecorr.Catalog(ra=random['ra'], dec=random['ra'], ra_units='deg', dec_units='deg', patch_centers=cat.patch_centers)\n",
    "    labels_rnd = rcat.patch\n",
    "    return labels, labels_rnd\n",
    "\n"
   ]
  },
  {
   "cell_type": "code",
   "execution_count": null,
   "id": "763bc5a0-d74b-436e-9437-90e3ddee7464",
   "metadata": {},
   "outputs": [],
   "source": []
  }
 ],
 "metadata": {
  "kernelspec": {
   "display_name": "nbodykit-env",
   "language": "python",
   "name": "nbodykit-env"
  },
  "language_info": {
   "codemirror_mode": {
    "name": "ipython",
    "version": 3
   },
   "file_extension": ".py",
   "mimetype": "text/x-python",
   "name": "python",
   "nbconvert_exporter": "python",
   "pygments_lexer": "ipython3",
   "version": "3.7.15"
  }
 },
 "nbformat": 4,
 "nbformat_minor": 5
}
