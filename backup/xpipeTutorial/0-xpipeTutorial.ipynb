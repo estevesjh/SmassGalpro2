{
 "cells": [
  {
   "cell_type": "markdown",
   "id": "a44824a2-cf62-40bd-9db6-da9e819bcc75",
   "metadata": {},
   "source": [
    "# Xpipe Tutorial\n",
    "\n",
    "Here I follow Maria's notebook on how to run xpipe.\n",
    "https://cdcvs.fnal.gov/redmine/projects/des-clusters/wiki/XpipeTutorial\n",
    "\n",
    "The final goal is to generate weighted photo-z pdf for a given bin of redMaPPer clusters.\n",
    "https://xpipe.readthedocs.io/en/stable/pipeline_guide.html#boost-factor-estimates-from-p-z-decomposition\n"
   ]
  },
  {
   "cell_type": "code",
   "execution_count": 170,
   "id": "6881920b-379b-431f-abb5-e3ab2ec66cc8",
   "metadata": {},
   "outputs": [],
   "source": [
    "import numpy as np\n",
    "import corner\n",
    "import matplotlib.pyplot as plt\n",
    "import seaborn as sns\n",
    "sns.set_context('talk')"
   ]
  },
  {
   "cell_type": "markdown",
   "id": "7db87ebe-126d-4f13-9e3b-9e123b38f0b2",
   "metadata": {},
   "source": [
    "## Weighted PDF(z)"
   ]
  },
  {
   "cell_type": "code",
   "execution_count": 1,
   "id": "f320a7d1-ed91-40ca-9f26-c70e3f6306c0",
   "metadata": {},
   "outputs": [
    {
     "ename": "ModuleNotFoundError",
     "evalue": "No module named 'xpipe'",
     "output_type": "error",
     "traceback": [
      "\u001b[0;31m---------------------------------------------------------------------------\u001b[0m",
      "\u001b[0;31mModuleNotFoundError\u001b[0m                       Traceback (most recent call last)",
      "Input \u001b[0;32mIn [1]\u001b[0m, in \u001b[0;36m<cell line: 1>\u001b[0;34m()\u001b[0m\n\u001b[0;32m----> 1\u001b[0m \u001b[38;5;28;01mimport\u001b[39;00m \u001b[38;5;21;01mxpipe\u001b[39;00m\n",
      "\u001b[0;31mModuleNotFoundError\u001b[0m: No module named 'xpipe'"
     ]
    }
   ],
   "source": [
    "import xpipe"
   ]
  },
  {
   "cell_type": "code",
   "execution_count": null,
   "id": "9a1ad6df-1613-4ebe-b2b1-01794cf730e8",
   "metadata": {},
   "outputs": [],
   "source": []
  }
 ],
 "metadata": {
  "kernelspec": {
   "display_name": "desc-python",
   "language": "python",
   "name": "desc-python"
  },
  "language_info": {
   "codemirror_mode": {
    "name": "ipython",
    "version": 3
   },
   "file_extension": ".py",
   "mimetype": "text/x-python",
   "name": "python",
   "nbconvert_exporter": "python",
   "pygments_lexer": "ipython3",
   "version": "3.8.12"
  }
 },
 "nbformat": 4,
 "nbformat_minor": 5
}
