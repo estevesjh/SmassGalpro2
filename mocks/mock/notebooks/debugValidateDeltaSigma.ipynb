{
 "cells": [
  {
   "cell_type": "markdown",
   "id": "641997a9-35bb-47c6-88c8-823cc2c86ef8",
   "metadata": {},
   "source": [
    "# Create Data Vector: From Cosmosis Datablock\n",
    "# Validate Hankl Transformations\n",
    "\n",
    "Author: Johnny Esteves <br>\n",
    "Created: May 2nd"
   ]
  },
  {
   "cell_type": "code",
   "execution_count": 1,
   "id": "be250907-b731-4deb-99ac-c5ee6c5e8a6a",
   "metadata": {},
   "outputs": [],
   "source": [
    "#!/usr/bin/env python\n",
    "import os\n",
    "\n",
    "import sys\n",
    "import numpy as np\n",
    "import matplotlib.pyplot as plt\n",
    "from astropy.io.fits import getdata\n",
    "from astropy.table import Table\n",
    "from scipy.interpolate import interp1d"
   ]
  },
  {
   "cell_type": "code",
   "execution_count": 2,
   "id": "69a5e720-7869-44a4-85f7-ee7f722bfa3e",
   "metadata": {},
   "outputs": [],
   "source": [
    "# !pip3 install fitsio"
   ]
  },
  {
   "cell_type": "code",
   "execution_count": 3,
   "id": "a87199b8-8d4f-41a9-a46c-f3ba178322e6",
   "metadata": {},
   "outputs": [],
   "source": [
    "import matplotlib\n",
    "matplotlib.rc('xtick', labelsize=20, top=True, direction='in')\n",
    "matplotlib.rc('ytick', labelsize=20, right=True, direction='in')\n",
    "matplotlib.rc('axes', linewidth=1, labelsize=20)\n",
    "matplotlib.rc('xtick.major', size=5)\n",
    "#matplotlib.rc('xtick.minor', size=5)\n",
    "matplotlib.rc('ytick.major', size=5)\n",
    "#matplotlib.rc('ytick.minor', size=5)"
   ]
  },
  {
   "cell_type": "code",
   "execution_count": 4,
   "id": "e4b46350-c315-40f0-9009-bfbf982ca338",
   "metadata": {},
   "outputs": [
    {
     "data": {
      "text/plain": [
       "FlatLambdaCDM(H0=70 km / (Mpc s), Om0=0.3, Tcmb0=2.725 K, Neff=3.04, m_nu=[0. 0. 0.] eV, Ob0=None)"
      ]
     },
     "execution_count": 4,
     "metadata": {},
     "output_type": "execute_result"
    }
   ],
   "source": [
    "from astropy.cosmology import FlatLambdaCDM\n",
    "cosmo0 = FlatLambdaCDM(H0=70, Om0=0.3, Tcmb0=2.725)\n",
    "const = 1.67e-7 * (0.3 * 0.7**2) # /Mpc^2\n",
    "rhom = const/6.01e-19  # Msun/Mpc^2\n",
    "\n",
    "cosmo0 "
   ]
  },
  {
   "cell_type": "code",
   "execution_count": 5,
   "id": "6c7decd7-5f63-44fc-ad31-820ce6470658",
   "metadata": {},
   "outputs": [],
   "source": [
    "kw = {'dS':r'$\\Delta \\Sigma \\, \\, [M_{\\odot}]$',\n",
    "      'gamma': r'$\\left< \\gamma_t(\\theta) \\right>$',\n",
    "      'Wp':r'$W_p$'}\n"
   ]
  },
  {
   "cell_type": "code",
   "execution_count": 6,
   "id": "174a47c7-4189-4c6a-9013-348942648309",
   "metadata": {},
   "outputs": [
    {
     "name": "stdout",
     "output_type": "stream",
     "text": [
      "/global/common/software/des/jesteves/y3_cluster_cpp/y3_buzzard/datablock_0/\n"
     ]
    }
   ],
   "source": [
    "def get_block(model,col,dtype=None):\n",
    "    return np.genfromtxt(root+'%s/%s.txt'%(model.lower(), col),dtype=dtype)\n",
    "\n",
    "root = '/global/common/software/des/jesteves/y3_cluster_cpp/y3_buzzard/datablock_0/'\n",
    "print(root)"
   ]
  },
  {
   "cell_type": "code",
   "execution_count": 7,
   "id": "15eabbf0-39ea-46e7-bf1b-2828101141a0",
   "metadata": {},
   "outputs": [
    {
     "name": "stdout",
     "output_type": "stream",
     "text": [
      "avgwp\t\t      correlationfunction      likelihoods\t priors\n",
      "cdm_baryon_power_lin  cosmological_parameters  mass_function\t recfast\n",
      "cdm_baryon_power_nl   distances\t\t       matter_power_lin  shear\n",
      "cluster_abundance     growth_parameters        matter_power_nl\t sigmacritinv\n",
      "cmb_cl\t\t      kappa\t\t       numbercounts\t wp\n"
     ]
    }
   ],
   "source": [
    "!ls /global/common/software/des/jesteves/y3_cluster_cpp/y3_buzzard/datablock_0/"
   ]
  },
  {
   "cell_type": "code",
   "execution_count": 8,
   "id": "515bbfb7-a023-4c39-a7ca-3e2809ad8ada",
   "metadata": {},
   "outputs": [
    {
     "name": "stdout",
     "output_type": "stream",
     "text": [
      "dndlnmh.txt  dndlnrh.txt  m_h.txt  r_h.txt  values.txt\tz.txt\n"
     ]
    }
   ],
   "source": [
    "!ls /global/common/software/des/jesteves/y3_cluster_cpp/y3_buzzard/datablock_0/mass_function/"
   ]
  },
  {
   "cell_type": "markdown",
   "id": "e0d0aa86-6ae4-4474-a97c-72d50ae3e0b5",
   "metadata": {},
   "source": [
    "## Linear Power Spectrum"
   ]
  },
  {
   "cell_type": "code",
   "execution_count": 29,
   "id": "31867679-b28e-4c9b-8d33-570a67b6cafe",
   "metadata": {},
   "outputs": [],
   "source": [
    "k_h = get_block(\"matter_power_lin\", \"k_h\")\n",
    "P_k = get_block(\"matter_power_lin\", \"p_k\")\n",
    "z = get_block(\"matter_power_lin\", \"z\")"
   ]
  },
  {
   "cell_type": "code",
   "execution_count": 10,
   "id": "4c6b6c9b-84ac-42bf-8dd4-c92362c68f58",
   "metadata": {},
   "outputs": [
    {
     "data": {
      "text/plain": [
       "[<matplotlib.lines.Line2D at 0x7f0c7fa87370>]"
      ]
     },
     "execution_count": 10,
     "metadata": {},
     "output_type": "execute_result"
    },
    {
     "data": {
      "image/png": "[encoded data removed]",
      "text/plain": [
       "<Figure size 432x288 with 1 Axes>"
      ]
     },
     "metadata": {
      "needs_background": "light"
     },
     "output_type": "display_data"
    }
   ],
   "source": [
    "plt.loglog()\n",
    "plt.plot(k_h, P_k[0])"
   ]
  },
  {
   "cell_type": "markdown",
   "id": "abcd8790-ed26-4845-9521-851fb25bca93",
   "metadata": {},
   "source": [
    "## NFW Model: Fourrier Space\n"
   ]
  },
  {
   "cell_type": "code",
   "execution_count": 362,
   "id": "7a5f9ddb-084d-4d31-8856-8becadf1e9cf",
   "metadata": {},
   "outputs": [],
   "source": [
    "from scipy.special import sici\n",
    "def pk_nfw_profile(k_h, m200, rho_c=1., omega_m=0.3, z_eff=0.4):\n",
    "    c = duffy_concentration_relation(m200, z_eff=z_eff)\n",
    "    rho_cz = rho_c*(omega_m*(1+z_eff)**3+(1-omega_m))\n",
    "    r_virial = convert_m200_to_r200(m200, rho_cz)\n",
    "    rho_k = (m200/(rho_c*omega_m))*normalized_halo_profile(k_h, r_virial, c)\n",
    "    return rho_k\n",
    "\n",
    "def duffy_concentration_relation(m_h, z_eff=0.4):\n",
    "    a_eff = 1/(1+z_eff)\n",
    "    m_h_pivot = 2e12\n",
    "    return 7.85*np.power(m_h/m_h_pivot,-0.081)*np.power(a_eff,0.71)\n",
    "\n",
    "def convert_m200_to_r200(m200,rho,odelta=200):\n",
    "    rv = np.power(m200*3.0/(4.0*np.pi*rho*odelta),1.0/3.0)\n",
    "    return rv\n",
    "\n",
    "def normalized_halo_profile(k_h, r_virial, c):\n",
    "    \"\"\"Compute the normalized halo profile function in Fourier space; :math:`u(k|m)`\n",
    "\n",
    "    For details of the available profile parametrizations, see the class description.\n",
    "\n",
    "    Note that the function returns unity for :math:`k \\\\leq 0`.\n",
    "\n",
    "    Args:\n",
    "        k_h (np.ndarray): Wavenumber in h/Mpc units.\n",
    "        r_virial (np.ndarray): Virial radius in Mpc/h units.\n",
    "        c (np.ndarray): Halo concentration parameter; :math:`c = r_\\mathrm{virial}/r_\\mathrm{scale}`.\n",
    "\n",
    "    Returns:\n",
    "        np.ndarray: Normalized halo profile :math:`u(k|m)`\n",
    "\n",
    "    copied from effective halos package\n",
    "    \"\"\"\n",
    "    r_scale = r_virial/c # in Mpc/h units\n",
    "    ks = k_h*r_scale\n",
    "\n",
    "    sici1 = sici(ks)\n",
    "    sici2 = sici(ks*(1.+c))\n",
    "    f1 = np.sin(ks)*(sici2[0]-sici1[0])\n",
    "    f2 = np.cos(ks)*(sici2[1]-sici1[1])\n",
    "    f3 = np.sin(c*ks)/(ks*(1.+c))\n",
    "    fc = np.log(1.+c)-c/(1.+c)\n",
    "    return (f1+f2-f3)/fc\n"
   ]
  },
  {
   "cell_type": "code",
   "execution_count": 3,
   "id": "15d30298-4f7c-4d2e-839d-7be3c7f5ac69",
   "metadata": {},
   "outputs": [],
   "source": [
    "import numpy as np\n",
    "H0 = 70\n",
    "omega_m = 0.3\n",
    "G = 4.301e-9 # Mpc km^2/s^2/Msun\n",
    "rho_c = 3*H0**2/(8*np.pi*G) # Msun/Mpc^3\n",
    "# rho_c = cosmocol.rho_c(0)*cosmocol.h**2*1e9\n",
    "rho_m = rho_c*omega_m"
   ]
  },
  {
   "cell_type": "code",
   "execution_count": 8,
   "id": "6816c436-dbd4-4a79-873a-ef8fe17e43c9",
   "metadata": {},
   "outputs": [
    {
     "data": {
      "text/plain": [
       "1.083134412382782"
      ]
     },
     "execution_count": 8,
     "metadata": {},
     "output_type": "execute_result"
    }
   ],
   "source": [
    "rho_c/(12555259.0670366058*1e4)"
   ]
  },
  {
   "cell_type": "code",
   "execution_count": 749,
   "id": "16630705-52bc-45c7-a9da-81031199e174",
   "metadata": {},
   "outputs": [
    {
     "name": "stdout",
     "output_type": "stream",
     "text": [
      "pk_nfw shape: (20, 500)\n"
     ]
    }
   ],
   "source": [
    "massvec = np.logspace(13.5,15.1,20)\n",
    "pk_nfw = np.array([pk_nfw_profile(k_h, mi, rho_c, omega_m) for mi in massvec])\n",
    "print('pk_nfw shape:', pk_nfw.shape)"
   ]
  },
  {
   "cell_type": "code",
   "execution_count": 750,
   "id": "cef421b3-8e94-4b1f-b816-f755a1e6a4ec",
   "metadata": {},
   "outputs": [
    {
     "data": {
      "text/plain": [
       "1.0000192354227304"
      ]
     },
     "execution_count": 750,
     "metadata": {},
     "output_type": "execute_result"
    }
   ],
   "source": [
    "rho_c/(3*H0**2/(8*np.pi*G))# Msun/Mpc^3"
   ]
  },
  {
   "cell_type": "code",
   "execution_count": 751,
   "id": "8511e6ce-c6cf-46a7-adc4-6ae3000931d8",
   "metadata": {},
   "outputs": [
    {
     "data": {
      "text/plain": [
       "277.536627245708"
      ]
     },
     "execution_count": 751,
     "metadata": {},
     "output_type": "execute_result"
    }
   ],
   "source": [
    "cosmocol.rho_c(0)"
   ]
  },
  {
   "cell_type": "code",
   "execution_count": 752,
   "id": "622db643-acd4-4381-9d19-8cd873c8c0e6",
   "metadata": {},
   "outputs": [],
   "source": [
    "import hankl\n",
    "from hankl import FFTLog\n",
    "def compute_hankel(r, k, pk, mu=0):\n",
    "    # Hankl means J_l (Bessel 2D) not j_l (Bessel func. 3D)\n",
    "    si, _res = P2Wp(k, pk, mu)\n",
    "    res = interp1d(si, _res.real)(r)\n",
    "    return res\n",
    "\n",
    "def P2Wp(k, P, l, n=0, lowring=False, ext=1, range=None, return_ext=False):\n",
    "    r\"\"\"\n",
    "    Hankel Transform Power Spectrum Multipole to Correlation Function Multipole In 2D\n",
    "\n",
    "    .. math:: \\xi_{l}^{(n)}(r) = i^{l} \\int_{0}^{\\infty} k dk / (2 \\pi) (kr)^{-n} P_{l}^{(n)}(k) J_{l}(ks)\n",
    "\n",
    "    Parameters\n",
    "    ----------\n",
    "    k : array\n",
    "        Array of uniformly logarithmically spaced wavenumbers.\n",
    "    P : array\n",
    "        Array of respective Power Spectrum values.\n",
    "    l : int\n",
    "        Degree of Power Spectrum multipole.\n",
    "    n : int\n",
    "        Order of expansion (Default is 0, plane-parallel).\n",
    "    lowring : bool\n",
    "        If True then use low-ringing value of kr (Default is False).\n",
    "    ext : int or tuple or list\n",
    "        Controls the extrapolation mode. When ext is an integer then the same extrapolation method will be used\n",
    "        for both ends of the input array. Alternatively, when ext is an tuple (ext_left, ext_right) or a list\n",
    "        [ext_left, ext_right] then different methods can be used for the two ends of the the input array.\n",
    "\n",
    "        * if ext=0 then no extrapolation is performed (Default).\n",
    "        * if ext=1 then zero padding is performed.\n",
    "        * if ext=2 then constant padding is performed.\n",
    "        * if ext=3 then Power-Law extrapolation is performed.\n",
    "    range : tuple or list\n",
    "        The minimum extrapolation range in the form of a tuple (k_min, k_max) or list [k_min, k_max]. When range=None\n",
    "        (Default) then the extended range is chosen automatically such that its array-size is the next power of two.\n",
    "    return_ext : bool\n",
    "        When False (Default) the result is cropped to fit the original k range.\n",
    "\n",
    "    Returns\n",
    "    -------\n",
    "    r, xi : array, array\n",
    "        Array of uniformly logarithmically spaced r values and respective array of xi_{l}^{(n)}(r) values.\n",
    "    \"\"\"\n",
    "    r, f = hankl.FFTLog(k, P * k, q=0, mu=l)\n",
    "    _ds = f / (2.0*np.pi*r)\n",
    "    return r, _ds\n",
    "    \n",
    "def pk_to_dSigma(r, z, k, pk):\n",
    "    \"\"\" Compute the second-order Hankel transformation of P(k)\n",
    "\n",
    "        The projected density profile dSigma(R)  (aka deltaSigma(R) )\n",
    "\n",
    "    Args:\n",
    "        r (array): radial vector\n",
    "        z (array): redshift vector\n",
    "        k (array): wave number\n",
    "        pk (array): power spectrum, shape like (z.size, k.size)\n",
    "\n",
    "    Returns:\n",
    "        dSigma(R): projected density profile\n",
    "    \"\"\"\n",
    "    # start the integration\n",
    "    dS = np.zeros((len(z), r.size),dtype='d')\n",
    "    for i in range(z.size):\n",
    "        dS[i] = compute_hankel(r, k, pk[i], mu=2)\n",
    "    return dS\n"
   ]
  },
  {
   "cell_type": "code",
   "execution_count": 753,
   "id": "b4259b5d-ff16-4d65-ae79-34570338c9cb",
   "metadata": {},
   "outputs": [],
   "source": [
    "# R_perp = get_block(\"correlationfunction\", \"r_sigma\")\n",
    "# z = get_block(\"correlationfunction\", \"z\")\n",
    "R_perp = np.logspace(-1.,np.log10(50),1000)\n",
    "\n",
    "dSigma = pk_to_dSigma(R_perp, massvec, k_h, pk_nfw)\n",
    "dSigma*= rho_m"
   ]
  },
  {
   "cell_type": "code",
   "execution_count": 754,
   "id": "cab473a9-e348-4111-ad91-9cc5e7d2fde5",
   "metadata": {},
   "outputs": [
    {
     "ename": "NameError",
     "evalue": "name 'ci' is not defined",
     "output_type": "error",
     "traceback": [
      "\u001b[0;31m---------------------------------------------------------------------------\u001b[0m",
      "\u001b[0;31mNameError\u001b[0m                                 Traceback (most recent call last)",
      "\u001b[0;32m/tmp/ipykernel_16308/3903614242.py\u001b[0m in \u001b[0;36m<module>\u001b[0;34m\u001b[0m\n\u001b[1;32m     16\u001b[0m \u001b[0;34m\u001b[0m\u001b[0m\n\u001b[1;32m     17\u001b[0m \u001b[0mcM\u001b[0m \u001b[0;34m=\u001b[0m \u001b[0mccl\u001b[0m\u001b[0;34m.\u001b[0m\u001b[0mhalos\u001b[0m\u001b[0;34m.\u001b[0m\u001b[0mConcentrationDuffy08\u001b[0m\u001b[0;34m(\u001b[0m\u001b[0mhmd_200c\u001b[0m\u001b[0;34m)\u001b[0m\u001b[0;34m\u001b[0m\u001b[0;34m\u001b[0m\u001b[0m\n\u001b[0;32m---> 18\u001b[0;31m \u001b[0mconc\u001b[0m \u001b[0;34m=\u001b[0m \u001b[0mccl\u001b[0m\u001b[0;34m.\u001b[0m\u001b[0mhalos\u001b[0m\u001b[0;34m.\u001b[0m\u001b[0mConcentrationConstant\u001b[0m\u001b[0;34m(\u001b[0m\u001b[0mci\u001b[0m\u001b[0;34m,\u001b[0m\u001b[0mmdef\u001b[0m\u001b[0;34m=\u001b[0m\u001b[0mhmd_200c\u001b[0m\u001b[0;34m)\u001b[0m\u001b[0;34m\u001b[0m\u001b[0;34m\u001b[0m\u001b[0m\n\u001b[0m\u001b[1;32m     19\u001b[0m \u001b[0mnfw\u001b[0m \u001b[0;34m=\u001b[0m \u001b[0mccl\u001b[0m\u001b[0;34m.\u001b[0m\u001b[0mhalos\u001b[0m\u001b[0;34m.\u001b[0m\u001b[0mHaloProfileNFW\u001b[0m\u001b[0;34m(\u001b[0m\u001b[0mcM\u001b[0m\u001b[0;34m,\u001b[0m \u001b[0mtruncated\u001b[0m\u001b[0;34m=\u001b[0m\u001b[0;32mFalse\u001b[0m\u001b[0;34m)\u001b[0m\u001b[0;34m\u001b[0m\u001b[0;34m\u001b[0m\u001b[0m\n",
      "\u001b[0;31mNameError\u001b[0m: name 'ci' is not defined"
     ]
    }
   ],
   "source": [
    "## from CCL\n",
    "import pyccl as ccl\n",
    "cosmoc = ccl.Cosmology(Omega_c=omega_m-0.045, Omega_b=0.045, h=0.7, sigma8=0.83, n_s=0.96)\n",
    "\n",
    "from colossus.cosmology import cosmology\n",
    "params = {'flat': True, 'H0': 70.0, 'Om0': omega_m, 'Ob0': 0.045, 'sigma8': 0.83, 'ns': 0.96}\n",
    "cosmology.addCosmology('myCosmo', **params)\n",
    "cosmocol = cosmology.setCosmology('myCosmo')\n",
    "\n",
    "# We will also use a mass definition with Delta = 200, and the Duffy 2008 concentration-mass relation\n",
    "hmd_200c = ccl.halos.MassDef200c()\n",
    "\n",
    "# we set the concetration to be constant\n",
    "# https://github.com/LSSTDESC/CCL/blob/master/pyccl/halos/concentration.py#L548\n",
    "# conc = ccl.halos.ConcentrationConstant(ci,mdef=hmd_200c)\n",
    "\n",
    "cM = ccl.halos.ConcentrationDuffy08(hmd_200c)\n",
    "conc = ccl.halos.ConcentrationConstant(ci,mdef=hmd_200c)\n",
    "nfw = ccl.halos.HaloProfileNFW(cM, truncated=False)"
   ]
  },
  {
   "cell_type": "code",
   "execution_count": 755,
   "id": "3b059f69-25bc-4b30-b86c-acd7832aaa8a",
   "metadata": {},
   "outputs": [],
   "source": [
    "hmd_200c = ccl.halos.MassDefVir"
   ]
  },
  {
   "cell_type": "code",
   "execution_count": 756,
   "id": "2d665e03-2eea-424c-b125-88e48d62699a",
   "metadata": {},
   "outputs": [
    {
     "ename": "TypeError",
     "evalue": "get_radius() missing 1 required positional argument: 'a'",
     "output_type": "error",
     "traceback": [
      "\u001b[0;31m---------------------------------------------------------------------------\u001b[0m",
      "\u001b[0;31mTypeError\u001b[0m                                 Traceback (most recent call last)",
      "\u001b[0;32m/tmp/ipykernel_16308/4153767422.py\u001b[0m in \u001b[0;36m<module>\u001b[0;34m\u001b[0m\n\u001b[1;32m     13\u001b[0m \u001b[0mdSigma_ccl\u001b[0m \u001b[0;34m=\u001b[0m \u001b[0mnp\u001b[0m\u001b[0;34m.\u001b[0m\u001b[0mzeros\u001b[0m\u001b[0;34m(\u001b[0m\u001b[0;34m(\u001b[0m\u001b[0mlen\u001b[0m\u001b[0;34m(\u001b[0m\u001b[0mmassvec\u001b[0m\u001b[0;34m)\u001b[0m\u001b[0;34m,\u001b[0m \u001b[0mR_perp\u001b[0m\u001b[0;34m.\u001b[0m\u001b[0msize\u001b[0m\u001b[0;34m)\u001b[0m\u001b[0;34m,\u001b[0m\u001b[0mdtype\u001b[0m\u001b[0;34m=\u001b[0m\u001b[0;34m'd'\u001b[0m\u001b[0;34m)\u001b[0m\u001b[0;34m\u001b[0m\u001b[0;34m\u001b[0m\u001b[0m\n\u001b[1;32m     14\u001b[0m \u001b[0;32mfor\u001b[0m \u001b[0mi\u001b[0m \u001b[0;32min\u001b[0m \u001b[0mrange\u001b[0m\u001b[0;34m(\u001b[0m\u001b[0mmassvec\u001b[0m\u001b[0;34m.\u001b[0m\u001b[0msize\u001b[0m\u001b[0;34m)\u001b[0m\u001b[0;34m:\u001b[0m\u001b[0;34m\u001b[0m\u001b[0;34m\u001b[0m\u001b[0m\n\u001b[0;32m---> 15\u001b[0;31m     \u001b[0mdSigma_ccl\u001b[0m\u001b[0;34m[\u001b[0m\u001b[0mi\u001b[0m\u001b[0;34m]\u001b[0m \u001b[0;34m=\u001b[0m \u001b[0mcomputeDsigma\u001b[0m\u001b[0;34m(\u001b[0m\u001b[0mnfw\u001b[0m\u001b[0;34m,\u001b[0m \u001b[0mR_perp\u001b[0m\u001b[0;34m,\u001b[0m \u001b[0mmassvec\u001b[0m\u001b[0;34m[\u001b[0m\u001b[0mi\u001b[0m\u001b[0;34m]\u001b[0m\u001b[0;34m,\u001b[0m \u001b[0mzlens\u001b[0m\u001b[0;34m,\u001b[0m \u001b[0mzsource\u001b[0m\u001b[0;34m)\u001b[0m\u001b[0;34m\u001b[0m\u001b[0;34m\u001b[0m\u001b[0m\n\u001b[0m",
      "\u001b[0;32m/tmp/ipykernel_16308/4153767422.py\u001b[0m in \u001b[0;36mcomputeDsigma\u001b[0;34m(self, r_arr, mass, z_lens, z_source, mdef)\u001b[0m\n\u001b[1;32m      3\u001b[0m     \u001b[0ma_source\u001b[0m \u001b[0;34m=\u001b[0m \u001b[0;36m1\u001b[0m\u001b[0;34m/\u001b[0m\u001b[0;34m(\u001b[0m\u001b[0;36m1\u001b[0m\u001b[0;34m+\u001b[0m\u001b[0mz_source\u001b[0m\u001b[0;34m)\u001b[0m\u001b[0;34m\u001b[0m\u001b[0;34m\u001b[0m\u001b[0m\n\u001b[1;32m      4\u001b[0m \u001b[0;34m\u001b[0m\u001b[0m\n\u001b[0;32m----> 5\u001b[0;31m     \u001b[0mSigma\u001b[0m \u001b[0;34m=\u001b[0m \u001b[0mself\u001b[0m\u001b[0;34m.\u001b[0m\u001b[0mprojected\u001b[0m\u001b[0;34m(\u001b[0m\u001b[0mcosmoc\u001b[0m\u001b[0;34m,\u001b[0m \u001b[0mr_arr\u001b[0m\u001b[0;34m,\u001b[0m \u001b[0mmass\u001b[0m\u001b[0;34m,\u001b[0m \u001b[0ma_lens\u001b[0m\u001b[0;34m,\u001b[0m \u001b[0mmdef\u001b[0m\u001b[0;34m)\u001b[0m\u001b[0;34m\u001b[0m\u001b[0;34m\u001b[0m\u001b[0m\n\u001b[0m\u001b[1;32m      6\u001b[0m     \u001b[0mSigma_bar\u001b[0m \u001b[0;34m=\u001b[0m \u001b[0mself\u001b[0m\u001b[0;34m.\u001b[0m\u001b[0mcumul2d\u001b[0m\u001b[0;34m(\u001b[0m\u001b[0mcosmoc\u001b[0m\u001b[0;34m,\u001b[0m \u001b[0mr_arr\u001b[0m\u001b[0;34m,\u001b[0m \u001b[0mmass\u001b[0m\u001b[0;34m,\u001b[0m \u001b[0ma_lens\u001b[0m\u001b[0;34m,\u001b[0m \u001b[0mmdef\u001b[0m\u001b[0;34m)\u001b[0m\u001b[0;34m\u001b[0m\u001b[0;34m\u001b[0m\u001b[0m\n\u001b[1;32m      7\u001b[0m     \u001b[0;32mreturn\u001b[0m \u001b[0mSigma_bar\u001b[0m \u001b[0;34m-\u001b[0m \u001b[0mSigma\u001b[0m\u001b[0;34m\u001b[0m\u001b[0;34m\u001b[0m\u001b[0m\n",
      "\u001b[0;32m~/.conda/envs/clevarenv/lib/python3.9/site-packages/pyccl/halos/profiles.py\u001b[0m in \u001b[0;36mprojected\u001b[0;34m(self, cosmo, r_t, M, a, mass_def)\u001b[0m\n\u001b[1;32m    239\u001b[0m             \u001b[0ms_r_t\u001b[0m \u001b[0;34m=\u001b[0m \u001b[0mself\u001b[0m\u001b[0;34m.\u001b[0m\u001b[0m_projected\u001b[0m\u001b[0;34m(\u001b[0m\u001b[0mcosmo\u001b[0m\u001b[0;34m,\u001b[0m \u001b[0mr_t\u001b[0m\u001b[0;34m,\u001b[0m \u001b[0mM\u001b[0m\u001b[0;34m,\u001b[0m \u001b[0ma\u001b[0m\u001b[0;34m,\u001b[0m \u001b[0mmass_def\u001b[0m\u001b[0;34m)\u001b[0m\u001b[0;34m\u001b[0m\u001b[0;34m\u001b[0m\u001b[0m\n\u001b[1;32m    240\u001b[0m         \u001b[0;32melse\u001b[0m\u001b[0;34m:\u001b[0m\u001b[0;34m\u001b[0m\u001b[0;34m\u001b[0m\u001b[0m\n\u001b[0;32m--> 241\u001b[0;31m             s_r_t = self._projected_fftlog_wrap(cosmo, r_t, M,\n\u001b[0m\u001b[1;32m    242\u001b[0m                                                 \u001b[0ma\u001b[0m\u001b[0;34m,\u001b[0m \u001b[0mmass_def\u001b[0m\u001b[0;34m,\u001b[0m\u001b[0;34m\u001b[0m\u001b[0;34m\u001b[0m\u001b[0m\n\u001b[1;32m    243\u001b[0m                                                 is_cumul2d=False)\n",
      "\u001b[0;32m~/.conda/envs/clevarenv/lib/python3.9/site-packages/pyccl/halos/profiles.py\u001b[0m in \u001b[0;36m_projected_fftlog_wrap\u001b[0;34m(self, cosmo, r_t, M, a, mass_def, is_cumul2d)\u001b[0m\n\u001b[1;32m    467\u001b[0m         \u001b[0;32mif\u001b[0m \u001b[0mgetattr\u001b[0m\u001b[0;34m(\u001b[0m\u001b[0mself\u001b[0m\u001b[0;34m,\u001b[0m \u001b[0;34m'_fourier'\u001b[0m\u001b[0;34m,\u001b[0m \u001b[0;32mNone\u001b[0m\u001b[0;34m)\u001b[0m\u001b[0;34m:\u001b[0m\u001b[0;34m\u001b[0m\u001b[0;34m\u001b[0m\u001b[0m\n\u001b[1;32m    468\u001b[0m             \u001b[0;31m# Compute from `_fourier` if available.\u001b[0m\u001b[0;34m\u001b[0m\u001b[0;34m\u001b[0m\u001b[0m\n\u001b[0;32m--> 469\u001b[0;31m             p_fourier = self._fourier(cosmo, k_arr, M_use,\n\u001b[0m\u001b[1;32m    470\u001b[0m                                       a, mass_def)\n\u001b[1;32m    471\u001b[0m         \u001b[0;32melse\u001b[0m\u001b[0;34m:\u001b[0m\u001b[0;34m\u001b[0m\u001b[0;34m\u001b[0m\u001b[0m\n",
      "\u001b[0;32m~/.conda/envs/clevarenv/lib/python3.9/site-packages/pyccl/halos/profiles.py\u001b[0m in \u001b[0;36m_fourier_analytic\u001b[0;34m(self, cosmo, k, M, a, mass_def)\u001b[0m\n\u001b[1;32m    787\u001b[0m \u001b[0;34m\u001b[0m\u001b[0m\n\u001b[1;32m    788\u001b[0m         \u001b[0;31m# Comoving virial radius\u001b[0m\u001b[0;34m\u001b[0m\u001b[0;34m\u001b[0m\u001b[0m\n\u001b[0;32m--> 789\u001b[0;31m         \u001b[0mR_M\u001b[0m \u001b[0;34m=\u001b[0m \u001b[0mmass_def\u001b[0m\u001b[0;34m.\u001b[0m\u001b[0mget_radius\u001b[0m\u001b[0;34m(\u001b[0m\u001b[0mcosmo\u001b[0m\u001b[0;34m,\u001b[0m \u001b[0mM_use\u001b[0m\u001b[0;34m,\u001b[0m \u001b[0ma\u001b[0m\u001b[0;34m)\u001b[0m \u001b[0;34m/\u001b[0m \u001b[0ma\u001b[0m\u001b[0;34m\u001b[0m\u001b[0;34m\u001b[0m\u001b[0m\n\u001b[0m\u001b[1;32m    790\u001b[0m         \u001b[0mc_M\u001b[0m \u001b[0;34m=\u001b[0m \u001b[0mself\u001b[0m\u001b[0;34m.\u001b[0m\u001b[0m_get_cM\u001b[0m\u001b[0;34m(\u001b[0m\u001b[0mcosmo\u001b[0m\u001b[0;34m,\u001b[0m \u001b[0mM_use\u001b[0m\u001b[0;34m,\u001b[0m \u001b[0ma\u001b[0m\u001b[0;34m,\u001b[0m \u001b[0mmdef\u001b[0m\u001b[0;34m=\u001b[0m\u001b[0mmass_def\u001b[0m\u001b[0;34m)\u001b[0m\u001b[0;34m\u001b[0m\u001b[0;34m\u001b[0m\u001b[0m\n\u001b[1;32m    791\u001b[0m         \u001b[0mR_s\u001b[0m \u001b[0;34m=\u001b[0m \u001b[0mR_M\u001b[0m \u001b[0;34m/\u001b[0m \u001b[0mc_M\u001b[0m\u001b[0;34m\u001b[0m\u001b[0;34m\u001b[0m\u001b[0m\n",
      "\u001b[0;31mTypeError\u001b[0m: get_radius() missing 1 required positional argument: 'a'"
     ]
    }
   ],
   "source": [
    "def computeDsigma(self, r_arr, mass, z_lens, z_source, mdef=hmd_200c):\n",
    "    a_lens = 1/(1+z_lens)\n",
    "    a_source = 1/(1+z_source)\n",
    "    \n",
    "    Sigma = self.projected(cosmoc, r_arr, mass, a_lens, mdef)\n",
    "    Sigma_bar = self.cumul2d(cosmoc, r_arr, mass, a_lens, mdef)\n",
    "    return Sigma_bar - Sigma\n",
    "\n",
    "# Redshift fixed values\n",
    "zlens = 0.4\n",
    "zsource = 0.6\n",
    "\n",
    "dSigma_ccl = np.zeros((len(massvec), R_perp.size),dtype='d')\n",
    "for i in range(massvec.size):\n",
    "    dSigma_ccl[i] = computeDsigma(nfw, R_perp, massvec[i], zlens, zsource)"
   ]
  },
  {
   "cell_type": "code",
   "execution_count": 757,
   "id": "87028aca-3e56-417b-9189-c46407fcb221",
   "metadata": {},
   "outputs": [
    {
     "data": {
      "text/plain": [
       "[<matplotlib.lines.Line2D at 0x7f0c609f1130>]"
      ]
     },
     "execution_count": 757,
     "metadata": {},
     "output_type": "execute_result"
    },
    {
     "data": {
      "image/png": "[encoded data removed]",
      "text/plain": [
       "<Figure size 432x288 with 1 Axes>"
      ]
     },
     "metadata": {
      "needs_background": "light"
     },
     "output_type": "display_data"
    }
   ],
   "source": [
    "plt.loglog()\n",
    "plt.plot(R_perp,dSigma_ccl[10],color='k',lw=3)\n",
    "plt.plot(R_perp,dSigma[10],'--',color='r',lw=2)"
   ]
  },
  {
   "cell_type": "code",
   "execution_count": 370,
   "id": "774c8be5-e548-4a83-94f4-5c288d7b3f54",
   "metadata": {},
   "outputs": [
    {
     "data": {
      "text/plain": [
       "[<matplotlib.lines.Line2D at 0x7f0c6cc39a00>]"
      ]
     },
     "execution_count": 370,
     "metadata": {},
     "output_type": "execute_result"
    },
    {
     "data": {
      "image/png": "[encoded data removed]",
      "text/plain": [
       "<Figure size 432x288 with 1 Axes>"
      ]
     },
     "metadata": {
      "needs_background": "light"
     },
     "output_type": "display_data"
    }
   ],
   "source": [
    "plt.plot(R_perp,(dSigma[10]-dSigma_ccl[10])/dSigma[10],color='k',lw=3)"
   ]
  },
  {
   "cell_type": "markdown",
   "id": "19221f78-6ee1-4db9-9384-236d7c99c197",
   "metadata": {},
   "source": [
    "I cannot use $\\Delta \\Sigma_{\\rm NFW}$ from Hankl Transformation!"
   ]
  },
  {
   "cell_type": "markdown",
   "id": "4d2c683a-1797-466d-8787-04e036e58436",
   "metadata": {},
   "source": [
    "## 2nd Halo Term"
   ]
  },
  {
   "cell_type": "code",
   "execution_count": 140,
   "id": "ae9eed84-d8b8-454d-81b5-e358db70c8a5",
   "metadata": {},
   "outputs": [
    {
     "name": "stdout",
     "output_type": "stream",
     "text": [
      "Help on function correlation_3d in module pyccl.correlations:\n",
      "\n",
      "correlation_3d(cosmo, a, r, p_of_k_a=None)\n",
      "    Compute the 3D correlation function.\n",
      "    \n",
      "    Args:\n",
      "        cosmo (:class:`~pyccl.core.Cosmology`): A Cosmology object.\n",
      "        a (float): scale factor.\n",
      "        r (float or array_like): distance(s) at which to calculate the 3D\n",
      "                                 correlation function (in Mpc).\n",
      "        p_of_k_a (:class:`~pyccl.pk2d.Pk2D`, `str` or None): 3D Power spectrum\n",
      "            to integrate. If a string, it must correspond to one of the\n",
      "            non-linear power spectra stored in `cosmo` (e.g.\n",
      "            `'delta_matter:delta_matter'`). If `None`, the non-linear matter\n",
      "            power spectrum stored in `cosmo` will be used.\n",
      "    \n",
      "    Returns:\n",
      "        Value(s) of the correlation function at the input distance(s).\n",
      "\n"
     ]
    }
   ],
   "source": [
    "help(ccl.correlation_3d)"
   ]
  },
  {
   "cell_type": "code",
   "execution_count": 141,
   "id": "5e13867a-8240-438e-9edb-8600fffcb7a9",
   "metadata": {},
   "outputs": [],
   "source": [
    "scale_factor_vec = 1/(1+z[::-1])\n",
    "# make ccl power-spectrum object\n",
    "pk2d = ccl.Pk2D(a_arr=scale_factor_vec, lk_arr=np.log(k_h), pk_arr=P_k, is_logp=False)"
   ]
  },
  {
   "cell_type": "code",
   "execution_count": 142,
   "id": "234b12cd-d0ba-4d65-8ac0-1952ff16b4cb",
   "metadata": {},
   "outputs": [
    {
     "name": "stdout",
     "output_type": "stream",
     "text": [
      "Help on function correlation_3d in module pyccl.correlations:\n",
      "\n",
      "correlation_3d(cosmo, a, r, p_of_k_a=None)\n",
      "    Compute the 3D correlation function.\n",
      "    \n",
      "    Args:\n",
      "        cosmo (:class:`~pyccl.core.Cosmology`): A Cosmology object.\n",
      "        a (float): scale factor.\n",
      "        r (float or array_like): distance(s) at which to calculate the 3D\n",
      "                                 correlation function (in Mpc).\n",
      "        p_of_k_a (:class:`~pyccl.pk2d.Pk2D`, `str` or None): 3D Power spectrum\n",
      "            to integrate. If a string, it must correspond to one of the\n",
      "            non-linear power spectra stored in `cosmo` (e.g.\n",
      "            `'delta_matter:delta_matter'`). If `None`, the non-linear matter\n",
      "            power spectrum stored in `cosmo` will be used.\n",
      "    \n",
      "    Returns:\n",
      "        Value(s) of the correlation function at the input distance(s).\n",
      "\n"
     ]
    }
   ],
   "source": [
    "help(ccl.correlation_3d)"
   ]
  },
  {
   "cell_type": "code",
   "execution_count": 143,
   "id": "d4c5e7ad-f642-4a10-b87c-be4b6f4feb72",
   "metadata": {},
   "outputs": [
    {
     "data": {
      "text/plain": [
       "[<matplotlib.lines.Line2D at 0x7f0c743bf5e0>]"
      ]
     },
     "execution_count": 143,
     "metadata": {},
     "output_type": "execute_result"
    },
    {
     "data": {
      "image/png": "[encoded data removed]",
      "text/plain": [
       "<Figure size 432x288 with 1 Axes>"
      ]
     },
     "metadata": {
      "needs_background": "light"
     },
     "output_type": "display_data"
    }
   ],
   "source": [
    "lpk_array = np.array([ccl.linear_matter_power(cosmoc,k_h,a) for a in scale_factor_vec])\n",
    "\n",
    "plt.loglog(k_h,lpk_array[0])\n",
    "plt.loglog(k_h, P_k[0])"
   ]
  },
  {
   "cell_type": "code",
   "execution_count": 144,
   "id": "c4e97665-2998-4bb6-b86e-6415c4953af7",
   "metadata": {},
   "outputs": [],
   "source": [
    "xi_3d = np.array([ccl.correlation_3d(cosmoc, aval, R_perp, p_of_k_a=pk2d) for aval in scale_factor_vec])"
   ]
  },
  {
   "cell_type": "code",
   "execution_count": 145,
   "id": "2d758835-f6c7-44ea-b85c-cc6a79b9d12f",
   "metadata": {},
   "outputs": [],
   "source": [
    "from hankl import P2xi\n",
    "\n",
    "def compute_hankel_xi(r,k,pk,l=0):\n",
    "    si, _res = hankl.P2xi(k, pk, l=l)\n",
    "    res = interp1d(si, _res.real)(r)\n",
    "    return res\n",
    "    \n",
    "xi_hankl = np.array([compute_hankel_xi(R_perp,k_h,P_k_val,l=0) for P_k_val in P_k])"
   ]
  },
  {
   "cell_type": "code",
   "execution_count": 146,
   "id": "757fa196-490d-42d2-b759-53f5228fc037",
   "metadata": {},
   "outputs": [
    {
     "data": {
      "text/plain": [
       "[<matplotlib.lines.Line2D at 0x7f0c746645e0>]"
      ]
     },
     "execution_count": 146,
     "metadata": {},
     "output_type": "execute_result"
    },
    {
     "data": {
      "image/png": "[encoded data removed]",
      "text/plain": [
       "<Figure size 432x288 with 1 Axes>"
      ]
     },
     "metadata": {
      "needs_background": "light"
     },
     "output_type": "display_data"
    }
   ],
   "source": [
    "plt.loglog()\n",
    "plt.plot(R_perp,xi_3d[0])\n",
    "plt.plot(R_perp,xi_hankl[0])"
   ]
  },
  {
   "cell_type": "code",
   "execution_count": 147,
   "id": "7694d066-eab0-4c62-9f92-25fbaa7aa663",
   "metadata": {},
   "outputs": [
    {
     "data": {
      "text/plain": [
       "[<matplotlib.lines.Line2D at 0x7f0c739a2850>]"
      ]
     },
     "execution_count": 147,
     "metadata": {},
     "output_type": "execute_result"
    },
    {
     "data": {
      "image/png": "[encoded data removed]",
      "text/plain": [
       "<Figure size 432x288 with 1 Axes>"
      ]
     },
     "metadata": {
      "needs_background": "light"
     },
     "output_type": "display_data"
    }
   ],
   "source": [
    "plt.loglog()\n",
    "plt.plot(R_perp, np.log10(xi_hankl[0]/xi_3d[0]))"
   ]
  },
  {
   "cell_type": "markdown",
   "id": "d7c86f3c-10db-4fc3-ae74-181cb508b429",
   "metadata": {},
   "source": [
    "Very nice agreement on $\\xi$ or $\\rho$"
   ]
  },
  {
   "cell_type": "code",
   "execution_count": 148,
   "id": "6e22aa3c-6018-4470-856f-a2e674404312",
   "metadata": {},
   "outputs": [],
   "source": [
    "sigma_hankl = np.array([compute_hankel(R_perp,k_h,P_k_val,mu=2) for P_k_val in P_k])"
   ]
  },
  {
   "cell_type": "markdown",
   "id": "1d16e214-4426-4623-89d0-1ee557a5487d",
   "metadata": {},
   "source": [
    "https://bdiemer.bitbucket.io/colossus/_static/tutorial_halo_profile.html#General-spline-profiles\n",
    "\n",
    "```\n",
    "# Create a spline profile from the radius array\n",
    "print('Initializing spline profile from %d radial bins.' % (len(r)))\n",
    "p_spline = profile_spline.SplineProfile(r, rho = rho)\n",
    "\n",
    "# Now create a much finer array of radii and test how well the spline does\n",
    "r = 10**np.arange(-2.0, 1.0, 0.01) * Rvir\n",
    "rho_m = cosmo.rho_m(z)\n",
    "rho_nfw = p_nfw.density(r)\n",
    "rho_spline = p_spline.density(r)\n",
    "```\n"
   ]
  },
  {
   "cell_type": "code",
   "execution_count": 232,
   "id": "175540b7-955c-4247-b89c-0e2667bdaf01",
   "metadata": {},
   "outputs": [
    {
     "name": "stderr",
     "output_type": "stream",
     "text": [
      "/global/homes/j/jesteves/.conda/envs/clevarenv/lib/python3.9/site-packages/colossus/halo/profile_spline.py:146: IntegrationWarning: The maximum number of subdivisions (50) has been achieved.\n",
      "  If increasing the limit yields no improvement it is advised to analyze \n",
      "  the integrand in order to determine the difficulties.  If the position of a \n",
      "  local difficulty can be determined (singularity, discontinuity) one will \n",
      "  probably gain from splitting up the interval and calling the integrator \n",
      "  on the subranges.  Perhaps a special-purpose integrator should be used.\n",
      "  logM[i], _ = scipy.integrate.quad(integrand_spline, 0.0, r[i])\n",
      "/global/homes/j/jesteves/.conda/envs/clevarenv/lib/python3.9/site-packages/colossus/halo/profile_spline.py:148: RuntimeWarning: invalid value encountered in log\n",
      "  logM = np.log(logM)\n"
     ]
    }
   ],
   "source": [
    "from scipy.interpolate import interp1d\n",
    "from colossus.halo import profile_spline\n",
    "ix=30\n",
    "rho_3d = (1+xi_3d)*rho_m\n",
    "R_perp2 = np.logspace(np.log10(np.min(R_perp)+0.01),np.log10(np.max(R_perp)-0.01),300)\n",
    "rho_3di = interp1d(R_perp, rho_3d[ix])(R_perp2)\n",
    "p_spline = profile_spline.SplineProfile(R_perp2, rho = rho_3di)"
   ]
  },
  {
   "cell_type": "code",
   "execution_count": 233,
   "id": "d81a17ee-f229-429f-a85c-7b73891416cb",
   "metadata": {},
   "outputs": [],
   "source": [
    "r_new = np.logspace(-1.1,np.log10(4.9),20)\n",
    "dS = p_spline.deltaSigma(r_new)"
   ]
  },
  {
   "cell_type": "code",
   "execution_count": 234,
   "id": "fa6f72ed-2caf-438d-ac51-745168aa3c29",
   "metadata": {},
   "outputs": [
    {
     "data": {
      "text/plain": [
       "[<matplotlib.lines.Line2D at 0x7f0c7153ce20>]"
      ]
     },
     "execution_count": 234,
     "metadata": {},
     "output_type": "execute_result"
    },
    {
     "data": {
      "image/png": "[encoded data removed]",
      "text/plain": [
       "<Figure size 432x288 with 1 Axes>"
      ]
     },
     "metadata": {
      "needs_background": "light"
     },
     "output_type": "display_data"
    }
   ],
   "source": [
    "s_new =  np.interp(r_new, R_perp, sigma_hankl[ix]*rhom)\n",
    "plt.loglog(r_new, s_new)\n",
    "plt.loglog(r_new, dS)"
   ]
  },
  {
   "cell_type": "code",
   "execution_count": 235,
   "id": "fd983844-c54d-4d70-a22d-583bc38b681c",
   "metadata": {},
   "outputs": [
    {
     "name": "stderr",
     "output_type": "stream",
     "text": [
      "/tmp/ipykernel_16308/2967233377.py:2: RuntimeWarning: invalid value encountered in log10\n",
      "  plt.plot(r_new, np.log10(s_new/dS))\n"
     ]
    },
    {
     "data": {
      "text/plain": [
       "(-0.05, 0.05)"
      ]
     },
     "execution_count": 235,
     "metadata": {},
     "output_type": "execute_result"
    },
    {
     "data": {
      "image/png": "[encoded data removed]",
      "text/plain": [
       "<Figure size 432x288 with 1 Axes>"
      ]
     },
     "metadata": {
      "needs_background": "light"
     },
     "output_type": "display_data"
    }
   ],
   "source": [
    "# plt.loglog()\n",
    "plt.plot(r_new, np.log10(s_new/dS))\n",
    "plt.xscale('log')\n",
    "plt.xlim(0.3, 5.)\n",
    "plt.ylim(-0.05,0.05)"
   ]
  },
  {
   "cell_type": "markdown",
   "id": "ab1620b2-75c3-4d6f-91f1-4e6026438bc2",
   "metadata": {},
   "source": [
    "On the limit range between $0.3 Mpc < r < 5. Mpc $ the hankl transformation agrees within 5\\% with colossus."
   ]
  },
  {
   "cell_type": "markdown",
   "id": "4cd4fd43-65e7-4d90-b363-9016c719d0c7",
   "metadata": {},
   "source": [
    "# Analytical NFW Surface Mass Density $\\Delta \\Sigma$\n",
    "\n",
    "Following Wright & Brainerd 2000, the shear profile is:\n",
    "$$\n",
    "\\gamma_{\\mathrm{NFW}}(x)= \\begin{cases}\\frac{r_s \\delta_c \\rho_c}{\\Sigma_c} g_{<}(x) & x<1 \\\\ \\frac{r_s \\delta_c \\rho_c}{\\Sigma_c}\\left[\\frac{10}{3}+4 \\ln \\left(\\frac{1}{2}\\right)\\right] & x=1 \\\\ \\frac{r_s \\delta_c \\rho_c}{\\Sigma_c} g_{>}(x) & x>1,\\end{cases}\n",
    "$$\n",
    "\n",
    "We can find $\\Delta \\Sigma$ simply by multplying $\\Sigma_{crit}$. And the unit functions are:\n",
    "$$\n",
    "\\begin{aligned}\n",
    "g_{<}(x)= & \\frac{8 \\operatorname{arctanh} \\sqrt{(1-x) /(1+x)}}{x^2 \\sqrt{1-x^2}}+\\frac{4}{x^2} \\ln \\left(\\frac{x}{2}\\right) \\\\\n",
    "& -\\frac{2}{\\left(x^2-1\\right)}+\\frac{4 \\operatorname{arctanh} \\sqrt{(1-x) /(1+x)}}{\\left(x^2-1\\right)\\left(1-x^2\\right)^{1 / 2}}, \\\\\n",
    "g_{>}(x)= & \\frac{8 \\arctan \\sqrt{(x-1) /(1+x)}}{x^2 \\sqrt{x^2-1}}+\\frac{4}{x^2} \\ln \\left(\\frac{x}{2}\\right) \\\\\n",
    "& -\\frac{2}{\\left(x^2-1\\right)}+\\frac{4 \\arctan \\sqrt{(x-1) /(1+x)}}{\\left(x^2-1\\right)^{3 / 2}} .\n",
    "\\end{aligned}\n",
    "$$\n",
    "\n",
    "Note that the normalization factor $\\delta_C$ is\n",
    "$$\n",
    "\\delta_c=\\frac{200}{3} \\frac{c^3}{\\ln (1+c)-c /(1+c)}\n",
    "$$"
   ]
  },
  {
   "cell_type": "code",
   "execution_count": null,
   "id": "f4e1d3b0-e9d0-423c-a797-d768dee6dea8",
   "metadata": {},
   "outputs": [],
   "source": [
    "def g_less_than(x,core=0.001):\n",
    "    term1 = 8.0*np.arctanh(np.sqrt((1.0-x)/(1.0+x)))*(inv_x2/np.sqrt(1.0-x**2))\n",
    "    term2 = 4.0*( np.log(x/2.0 + eps) / (x**2+np.log(eps))\n",
    "    term3 = -2.0/(x**2-1.0)\n",
    "    term4 = 4.0*np.arctanh(np.sqrt((1.0-x)/(1.0+x)))/((x**2-1.0)*np.sqrt(1.0-x**2))\n",
    "    res = term1 + term2 + term3 + term4\n",
    "    return np.where(x<eps, 1., res)\n",
    "\n",
    "def g_greater_than(x, eps=1e-9):\n",
    "    x = x+eps\n",
    "    term1 = 8.0*np.arctan(np.sqrt((x-1.0)/(1.0+x)))/(x**2*np.sqrt(x**2-1.0))\n",
    "    term2 = 4.0/x**2 * np.log(x/2.0)\n",
    "    term3 = -2.0/(x**2-1.0)\n",
    "    term4 = 4.0*np.arctan(np.sqrt((x-1.0)/(1.0+x)))/((x**2-1.0)**(3.0/2.0))\n",
    "    return term1 + term2 + term3 + term4\n",
    "\n",
    "def g_nfw(x, eps=1e-9):\n",
    "    \"\"\"gNFW Eqn 15 and 16 Wright & Brained 2000\n",
    "\n",
    "    Analytical normalized shear/deltaSigma profile\n",
    "\n",
    "    Args:\n",
    "        x (array): Rp/Rs where Rs is the scale radius, Rs = R200/c\n",
    "    \"\"\"\n",
    "    res = np.zeros_like(x)\n",
    "    ix = np.where(np.abs(x-1) <= eps)[0]\n",
    "    res[ix] = 10./3. + 4*np.log(1/2.) \n",
    "    \n",
    "    ix = np.where(x <= 1-eps)[0]\n",
    "    res[ix] = g_less_than(x[ix])\n",
    "    \n",
    "    ix = np.where(x>=1+eps)[0]\n",
    "    res[ix] = g_greater_than(x[ix])\n",
    "    \n",
    "    return res\n",
    "\n",
    "def convert_m200_to_r200(m200,rho,odelta=200):\n",
    "    rv = np.power(m200*3.0/(4.0*np.pi*rho*odelta),1.0/3.0)\n",
    "    return rv\n",
    "\n",
    "def deltaSigmaNFW_Analytical(radii, m200, c, z_eff=0.4):\n",
    "    \"\"\"Analytical NFW Surface Mass Density  (Eqn 14, Wright & Brained 2000)\n",
    "\n",
    "    Args:\n",
    "        radii (array): projected radii\n",
    "        m200 (array): M200 critical mass in solar masses unit\n",
    "        z_eff (float): effective redshift to concentration and critical density values\n",
    "    \"\"\"\n",
    "    #c = duffy_concentration_relation(m200, z_eff=z_eff)\n",
    "    rho_cz = rho_c*(omega_m*(1+z_eff)**3+(1-omega_m))\n",
    "    r_virial = convert_m200_to_r200(m200, rho_cz)\n",
    "    rs = r_virial/c\n",
    "\n",
    "    # eqn 3 \n",
    "    deltac = (200/3) * c**3/(np.log(1+c)-c/(1+c))\n",
    "    gx  = g_nfw(radii/rs)\n",
    "    return rs*deltac*rho_cz*gx\n"
   ]
  },
  {
   "cell_type": "code",
   "execution_count": null,
   "id": "9948f228-4890-475b-80d4-d061a26932f0",
   "metadata": {},
   "outputs": [],
   "source": [
    "radii = np.logspace(-1,1.1,100)\n",
    "plt.loglog()\n",
    "plt.plot(radii, g_nfw(radii))"
   ]
  },
  {
   "cell_type": "code",
   "execution_count": null,
   "id": "34c498a7-3272-4340-bc91-9c79f98264fb",
   "metadata": {},
   "outputs": [],
   "source": [
    "g_less_than(1e-9)"
   ]
  },
  {
   "cell_type": "code",
   "execution_count": 1236,
   "id": "6819d52f-9c83-4fd6-871b-3a873a3392e0",
   "metadata": {},
   "outputs": [
    {
     "name": "stderr",
     "output_type": "stream",
     "text": [
      "/tmp/ipykernel_16308/1965437800.py:3: RuntimeWarning: invalid value encountered in sqrt\n",
      "  term1 = 8.0*np.arctanh(np.sqrt((1.0-x)/(1.0+x)))*(inv_x2/np.sqrt(1.0-x**2))\n",
      "/tmp/ipykernel_16308/1965437800.py:6: RuntimeWarning: invalid value encountered in sqrt\n",
      "  term4 = 4.0*np.arctanh(np.sqrt((1.0-x)/(1.0+x)))/((x**2-1.0)*np.sqrt(1.0-x**2))\n",
      "/tmp/ipykernel_16308/1965437800.py:12: RuntimeWarning: invalid value encountered in sqrt\n",
      "  term1 = 8.0*np.arctan(np.sqrt((x-1.0)/(1.0+x)))/(x**2*np.sqrt(x**2-1.0))\n",
      "/tmp/ipykernel_16308/1965437800.py:15: RuntimeWarning: invalid value encountered in sqrt\n",
      "  term4 = 4.0*np.arctan(np.sqrt((x-1.0)/(1.0+x)))/((x**2-1.0)**(3.0/2.0))\n",
      "/tmp/ipykernel_16308/1965437800.py:15: RuntimeWarning: invalid value encountered in power\n",
      "  term4 = 4.0*np.arctan(np.sqrt((x-1.0)/(1.0+x)))/((x**2-1.0)**(3.0/2.0))\n"
     ]
    }
   ],
   "source": [
    "concvec = duffy_concentration_relation(massvec, z_eff=0.4)\n",
    "mm, rr = np.meshgrid(massvec, R_perp2, indexing='ij')\n",
    "ds = deltaSigmaNFW_Analytical(rr, mm, concvec[:,np.newaxis], z_eff=0.)"
   ]
  },
  {
   "cell_type": "code",
   "execution_count": 1237,
   "id": "a9b7437d-a7ef-475f-9ae5-182b8ab4de04",
   "metadata": {},
   "outputs": [],
   "source": [
    "# ds[0]"
   ]
  },
  {
   "cell_type": "code",
   "execution_count": 1238,
   "id": "9bee8256-519a-4eec-a05b-df51f7480798",
   "metadata": {},
   "outputs": [
    {
     "data": {
      "text/plain": [
       "[<matplotlib.lines.Line2D at 0x7f0c503e0f10>]"
      ]
     },
     "execution_count": 1238,
     "metadata": {},
     "output_type": "execute_result"
    },
    {
     "data": {
      "image/png": "[encoded data removed]",
      "text/plain": [
       "<Figure size 432x288 with 1 Axes>"
      ]
     },
     "metadata": {
      "needs_background": "light"
     },
     "output_type": "display_data"
    }
   ],
   "source": [
    "plt.loglog()\n",
    "plt.plot(R_perp2, ds[0])\n",
    "plt.plot(R_perp2, ds[1])\n",
    "plt.plot(R_perp2, ds[2])"
   ]
  },
  {
   "cell_type": "code",
   "execution_count": 1142,
   "id": "b8d8a1fc-0a3d-45cd-9542-d92a5457d6e2",
   "metadata": {},
   "outputs": [],
   "source": [
    "def NFW_Analytical(radii, m200, c, z_eff=0.4):\n",
    "    \"\"\"Analytical NFW Surface Mass Density  (Eqn 14, Wright & Brained 2000)\n",
    "\n",
    "    Args:\n",
    "        radii (array): projected radii\n",
    "        m200 (array): M200 critical mass in solar masses unit\n",
    "        z_eff (float): effective redshift to concentration and critical density values\n",
    "    \"\"\"\n",
    "    # c = duffy_concentration_relation(m200, z_eff=z_eff)\n",
    "    rho_cz = rho_c*(omega_m*(1+z_eff)**3+(1-omega_m))\n",
    "    \n",
    "    r_virial = convert_m200_to_r200(m200, rho_cz)\n",
    "    rs = r_virial/c\n",
    "\n",
    "    # eqn 3 \n",
    "    deltac = (200/3) * c**3/(np.log(1+c)-c/(1+c))\n",
    "    gx  = f_nfw(radii/rs)\n",
    "    return rs*deltac*rho_cz*gx\n",
    "\n",
    "def f_nfw(x, eps=1e-9):\n",
    "    \"\"\"fNFW Eqn 11 Wright & Brained 2000\n",
    "\n",
    "    Analytical normalized shear/deltaSigma profile\n",
    "\n",
    "    Args:\n",
    "        x (array): Rp/Rs where Rs is the scale radius, Rs = R200/c\n",
    "    \"\"\"\n",
    "    res = np.zeros_like(x)\n",
    "    one = np.abs(x-1) <= eps\n",
    "    res[~one] = np.where(x[~one]<1., f_less_than(x[~one]), f_greater_than(x[~one]))\n",
    "    res[one]  = 2/3\n",
    "    return res\n",
    "    \n",
    "def f_less_than(x):\n",
    "    term1 = 2.0 / (x**2 - 1.0)\n",
    "    term2 = 2.0 / np.sqrt(1.0 - x**2) * np.arctanh(np.sqrt((1.0 - x) / (1.0 + x)))\n",
    "    return term1 * (1.0 - term2)\n",
    "        \n",
    "def f_greater_than(x):\n",
    "    term1 = 2.0 / (x**2 - 1.0)\n",
    "    term2 = 2.0 / np.sqrt(x**2 - 1.0) * np.arctan(np.sqrt((x - 1.0) / (1.0 + x)))\n",
    "    return term1 * (1.0 - term2)"
   ]
  },
  {
   "cell_type": "code",
   "execution_count": 1143,
   "id": "23fc2312-7f95-4ca6-964c-1a26b5c25f7d",
   "metadata": {},
   "outputs": [
    {
     "name": "stderr",
     "output_type": "stream",
     "text": [
      "/tmp/ipykernel_16308/408092511.py:36: RuntimeWarning: invalid value encountered in sqrt\n",
      "  term2 = 2.0 / np.sqrt(1.0 - x**2) * np.arctanh(np.sqrt((1.0 - x) / (1.0 + x)))\n",
      "/tmp/ipykernel_16308/408092511.py:41: RuntimeWarning: invalid value encountered in sqrt\n",
      "  term2 = 2.0 / np.sqrt(x**2 - 1.0) * np.arctan(np.sqrt((x - 1.0) / (1.0 + x)))\n"
     ]
    },
    {
     "data": {
      "text/plain": [
       "[<matplotlib.lines.Line2D at 0x7f0c530aecd0>]"
      ]
     },
     "execution_count": 1143,
     "metadata": {},
     "output_type": "execute_result"
    },
    {
     "data": {
      "image/png": "[encoded data removed]",
      "text/plain": [
       "<Figure size 432x288 with 1 Axes>"
      ]
     },
     "metadata": {
      "needs_background": "light"
     },
     "output_type": "display_data"
    }
   ],
   "source": [
    "plt.loglog()\n",
    "plt.plot(radii, f_nfw(radii))"
   ]
  },
  {
   "cell_type": "code",
   "execution_count": 758,
   "id": "9b128b7f-8893-4850-99b6-c9f89b658288",
   "metadata": {},
   "outputs": [],
   "source": [
    "from colossus.halo import profile_nfw\n",
    "\n",
    "def frac_error(x,y):\n",
    "    return 1-(y/x)\n",
    "\n",
    "def print_stats(x,y):\n",
    "    fracE = frac_error(x,y)\n",
    "    print('Std: %.5f'%(10**np.std(fracE)-1))\n",
    "    print('Bias: %.5f'%(np.mean(fracE)))\n",
    "          \n",
    "def compare_nfw(radii, mass, z=0.0):\n",
    "    h0 = cosmocol.h\n",
    "    #c200c = duffy_concentration_relation(mass, z_eff=z)\n",
    "    c200c = cM.get_concentration(cosmoc, mass, 1/(1+z), mdef_other=ccl.halos.MassDefVir())\n",
    "    snew = NFW_Analytical(radii, mass, c200c, z_eff=z)\n",
    "    \n",
    "    conc = ccl.halos.ConcentrationConstant(c200c,mdef=ccl.halos.MassDefVir())\n",
    "    nfw = ccl.halos.HaloProfileNFW(conc, truncated=False)\n",
    "    sccl = nfw.projected(cosmoc, radii, mass, 1/(1+z), ccl.halos.MassDefVir())\n",
    "    scol = profile_nfw.NFWProfile(M = mass, c = c200c, z = z, mdef = 'vir').surfaceDensity(1000*radii)*(1e3**2)\n",
    "    \n",
    "    print_stats(sccl,snew)\n",
    "    print_stats(scol,snew)\n",
    "    return snew, sccl, scol\n",
    "    "
   ]
  },
  {
   "cell_type": "code",
   "execution_count": 759,
   "id": "8f768e08-8508-4c62-ae01-2710beeacb0f",
   "metadata": {},
   "outputs": [
    {
     "name": "stdout",
     "output_type": "stream",
     "text": [
      "Std: 0.22373\n",
      "Bias: -0.13892\n",
      "Std: 0.05839\n",
      "Bias: 0.03972\n"
     ]
    },
    {
     "name": "stderr",
     "output_type": "stream",
     "text": [
      "/tmp/ipykernel_16308/408092511.py:36: RuntimeWarning: invalid value encountered in sqrt\n",
      "  term2 = 2.0 / np.sqrt(1.0 - x**2) * np.arctanh(np.sqrt((1.0 - x) / (1.0 + x)))\n",
      "/tmp/ipykernel_16308/408092511.py:41: RuntimeWarning: invalid value encountered in sqrt\n",
      "  term2 = 2.0 / np.sqrt(x**2 - 1.0) * np.arctan(np.sqrt((x - 1.0) / (1.0 + x)))\n"
     ]
    }
   ],
   "source": [
    "radii = np.logspace(-1., 0.35, 20)\n",
    "a,b,c = compare_nfw(radii, massvec[0], z=0.4)"
   ]
  },
  {
   "cell_type": "code",
   "execution_count": 760,
   "id": "32fd122e-e3db-41d7-bf65-6b1b6c023a71",
   "metadata": {},
   "outputs": [
    {
     "data": {
      "text/plain": [
       "<matplotlib.legend.Legend at 0x7f0c60cb37f0>"
      ]
     },
     "execution_count": 760,
     "metadata": {},
     "output_type": "execute_result"
    },
    {
     "data": {
      "image/png": "[encoded data removed]",
      "text/plain": [
       "<Figure size 432x288 with 1 Axes>"
      ]
     },
     "metadata": {
      "needs_background": "light"
     },
     "output_type": "display_data"
    }
   ],
   "source": [
    "plt.loglog()\n",
    "plt.plot(radii, a, label='This work')\n",
    "plt.plot(radii, b, label='CCL')\n",
    "plt.plot(radii, c, label='Colossus')\n",
    "plt.legend(fontsize=14)"
   ]
  },
  {
   "cell_type": "code",
   "execution_count": 761,
   "id": "c9641d2b-2144-4345-a682-7481694b6a51",
   "metadata": {},
   "outputs": [
    {
     "data": {
      "text/plain": [
       "[<matplotlib.lines.Line2D at 0x7f0c5ed7da30>]"
      ]
     },
     "execution_count": 761,
     "metadata": {},
     "output_type": "execute_result"
    },
    {
     "data": {
      "image/png": "[encoded data removed]",
      "text/plain": [
       "<Figure size 432x288 with 1 Axes>"
      ]
     },
     "metadata": {
      "needs_background": "light"
     },
     "output_type": "display_data"
    }
   ],
   "source": [
    "# plt.plot(radii, frac_error(b,a))\n",
    "plt.plot(radii, frac_error(c,a))\n",
    "\n",
    "# plt.plot(radii, b)\n",
    "# plt.plot(radii, c)"
   ]
  },
  {
   "cell_type": "code",
   "execution_count": null,
   "id": "508fd9f0-d09a-4319-81b9-11b7f29bc165",
   "metadata": {},
   "outputs": [],
   "source": []
  },
  {
   "cell_type": "code",
   "execution_count": 762,
   "id": "1087bc18-ed07-4cc5-8835-1984f431c733",
   "metadata": {},
   "outputs": [],
   "source": [
    "def duffy_concentration_relation(m_h, z_eff=0.4, h0=0.7):\n",
    "    zp_eff = (1+z_eff)\n",
    "    m_h_pivot = 2e12/h0\n",
    "    return 5.71*np.power(m_h/m_h_pivot,-0.084)*np.power(zp_eff,-0.47)"
   ]
  },
  {
   "cell_type": "code",
   "execution_count": 1081,
   "id": "f9a7f990-da18-4f8e-9a4e-40db6cae3af4",
   "metadata": {},
   "outputs": [],
   "source": [
    "import cluster_toolkit\n",
    "\n",
    "def compare_deltaSigma(radii, mass, z=0.0):\n",
    "    h0 = cosmocol.h\n",
    "    #c200c = duffy_concentration_relation(mass, z_eff=z)\n",
    "    c200c = cM.get_concentration(cosmoc, mass*h0, 1/(1+z), mdef_other=ccl.halos.MassDef200c())\n",
    "    snew = deltaSigmaNFW_Analytical(radii*h0, mass*h0, c200c, z_eff=z)\n",
    "    \n",
    "    conc = ccl.halos.ConcentrationConstant(c200c,mdef=ccl.halos.MassDef200c())\n",
    "    nfw = ccl.halos.HaloProfileNFW(conc, truncated=False)\n",
    "    sccl = nfw.cumul2d(cosmoc, radii*h0, mass*h0, 1/(1+z), ccl.halos.MassDef200c())-nfw.projected(cosmoc, radii*h0, mass*h0, 1/(1+z), ccl.halos.MassDef200c())\n",
    "    _scol = cluster_toolkit.deltasigma.Sigma_nfw_at_R(radii, mass, c200c, omega_m, delta=200)#*(1e6**2)\n",
    "    scol = cluster_toolkit.deltasigma.DeltaSigma_at_R(radii, radii, _scol, mass, c200c, omega_m, delta=200)*(1e6**2)\n",
    "    #scol = profile_nfw.NFWProfile(M = mass, c = c200c, z = z, mdef = 'vir').deltaSigma(1000*radii)*(1e3**2)\n",
    "    \n",
    "    print_stats(sccl,snew)\n",
    "    print_stats(scol,snew)\n",
    "    return snew, sccl, scol\n",
    "    "
   ]
  },
  {
   "cell_type": "code",
   "execution_count": 1082,
   "id": "008d4d7a-7de6-4e49-a213-7d3c052ca005",
   "metadata": {},
   "outputs": [
    {
     "name": "stdout",
     "output_type": "stream",
     "text": [
      "Std: 0.04622\n",
      "Bias: -0.00071\n",
      "Std: 0.08025\n",
      "Bias: -0.32389\n"
     ]
    },
    {
     "name": "stderr",
     "output_type": "stream",
     "text": [
      "/tmp/ipykernel_16308/3404182409.py:2: RuntimeWarning: invalid value encountered in sqrt\n",
      "  term1 = 8.0*np.arctanh(np.sqrt((1.0-x)/(1.0+x)))/(x**2*np.sqrt(1.0-x**2))\n",
      "/tmp/ipykernel_16308/3404182409.py:5: RuntimeWarning: invalid value encountered in sqrt\n",
      "  term4 = 4.0*np.arctanh(np.sqrt((1.0-x)/(1.0+x)))/((x**2-1.0)*np.sqrt(1.0-x**2))\n",
      "/tmp/ipykernel_16308/3404182409.py:9: RuntimeWarning: invalid value encountered in sqrt\n",
      "  term1 = 8.0*np.arctan(np.sqrt((x-1.0)/(1.0+x)))/(x**2*np.sqrt(x**2-1.0))\n",
      "/tmp/ipykernel_16308/3404182409.py:12: RuntimeWarning: invalid value encountered in sqrt\n",
      "  term4 = 4.0*np.arctan(np.sqrt((x-1.0)/(1.0+x)))/((x**2-1.0)**(3.0/2.0))\n",
      "/tmp/ipykernel_16308/3404182409.py:12: RuntimeWarning: invalid value encountered in power\n",
      "  term4 = 4.0*np.arctan(np.sqrt((x-1.0)/(1.0+x)))/((x**2-1.0)**(3.0/2.0))\n"
     ]
    }
   ],
   "source": [
    "radii = np.logspace(-1., 0.35, 20)\n",
    "a,b,c = compare_deltaSigma(radii, massvec[0], z=0.0)"
   ]
  },
  {
   "cell_type": "code",
   "execution_count": 1090,
   "id": "1b304403-3e1f-4ae1-915b-08a8447003fb",
   "metadata": {},
   "outputs": [
    {
     "data": {
      "text/plain": [
       "<matplotlib.legend.Legend at 0x7f0c55765580>"
      ]
     },
     "execution_count": 1090,
     "metadata": {},
     "output_type": "execute_result"
    },
    {
     "data": {
      "image/png": "[encoded data removed]",
      "text/plain": [
       "<Figure size 432x288 with 1 Axes>"
      ]
     },
     "metadata": {
      "needs_background": "light"
     },
     "output_type": "display_data"
    }
   ],
   "source": [
    "plt.loglog()\n",
    "plt.plot(radii, a, label='This work')\n",
    "plt.plot(radii, b, label='CCL')\n",
    "# plt.plot(radii, c/0.7, label='Cluster Tool Kit')\n",
    "plt.legend(fontsize=14)"
   ]
  },
  {
   "cell_type": "code",
   "execution_count": 1094,
   "id": "a936b8a1-3590-4800-b9ba-b28825e33476",
   "metadata": {},
   "outputs": [
    {
     "data": {
      "text/plain": [
       "[<matplotlib.lines.Line2D at 0x7f0c5541a250>]"
      ]
     },
     "execution_count": 1094,
     "metadata": {},
     "output_type": "execute_result"
    },
    {
     "data": {
      "image/png": "[encoded data removed]",
      "text/plain": [
       "<Figure size 432x288 with 1 Axes>"
      ]
     },
     "metadata": {
      "needs_background": "light"
     },
     "output_type": "display_data"
    }
   ],
   "source": [
    "plt.plot(radii, frac_error(b,a))\n",
    "# plt.plot(radii, frac_error(c/0.7,a))\n",
    "\n",
    "# plt.plot(radii, b)\n",
    "# plt.plot(radii, c)"
   ]
  },
  {
   "cell_type": "code",
   "execution_count": null,
   "id": "ded9e645-6f63-4ca0-bef9-198035b4662d",
   "metadata": {},
   "outputs": [],
   "source": []
  },
  {
   "cell_type": "code",
   "execution_count": null,
   "id": "b8127f49-3def-4657-a959-851e4419f741",
   "metadata": {},
   "outputs": [],
   "source": []
  },
  {
   "cell_type": "code",
   "execution_count": 1093,
   "id": "4eef5516-3091-4feb-a65e-597d35f74bbc",
   "metadata": {},
   "outputs": [],
   "source": [
    "# zvec = np.linspace(0,1.,21)\n",
    "# plt.plot(zvec, rho_c*(omega_m*(1+zvec)**3+(1-omega_m)))\n",
    "# plt.plot(zvec, cosmocol.rho_c(zvec)*1e9*cosmocol.h**2)"
   ]
  },
  {
   "cell_type": "code",
   "execution_count": 1009,
   "id": "6359135b-1876-4d96-8d33-2d7c1064e63f",
   "metadata": {},
   "outputs": [],
   "source": [
    "# help(cosmocol.rho_c)"
   ]
  },
  {
   "cell_type": "code",
   "execution_count": 1010,
   "id": "d3681dad-47bd-4756-8e46-caa323285367",
   "metadata": {},
   "outputs": [],
   "source": [
    "# help(cM)"
   ]
  },
  {
   "cell_type": "code",
   "execution_count": 770,
   "id": "2f066943-5c65-4c41-9dd3-8c9fc45e60ff",
   "metadata": {},
   "outputs": [],
   "source": [
    "# help(cosmoc)"
   ]
  },
  {
   "cell_type": "code",
   "execution_count": 771,
   "id": "a1f3831e-5fb4-48b6-bb5d-3cfbae30b771",
   "metadata": {},
   "outputs": [
    {
     "name": "stdout",
     "output_type": "stream",
     "text": [
      "Help on method get_concentration in module pyccl.halos.concentration:\n",
      "\n",
      "get_concentration(cosmo, M, a, mdef_other=None) method of pyccl.halos.concentration.ConcentrationDuffy08 instance\n",
      "    Returns the concentration for input parameters.\n",
      "    \n",
      "    Args:\n",
      "        cosmo (:class:`~pyccl.core.Cosmology`): A Cosmology object.\n",
      "        M (float or array_like): halo mass in units of M_sun.\n",
      "        a (float): scale factor.\n",
      "        mdef_other (:class:`~pyccl.halos.massdef.MassDef`):\n",
      "            the mass definition object that defines M.\n",
      "    \n",
      "    Returns:\n",
      "        float or array_like: concentration.\n",
      "\n"
     ]
    }
   ],
   "source": [
    "help(cM.get_concentration)"
   ]
  },
  {
   "cell_type": "code",
   "execution_count": null,
   "id": "e04cfd93-3b9a-4013-9f02-3b50c559df36",
   "metadata": {},
   "outputs": [],
   "source": []
  },
  {
   "cell_type": "code",
   "execution_count": null,
   "id": "668d9517-5358-4b4d-9bc7-c004c635c766",
   "metadata": {},
   "outputs": [],
   "source": []
  },
  {
   "cell_type": "code",
   "execution_count": null,
   "id": "f2989c22-c43a-425c-8c4f-4d9c0b730b8c",
   "metadata": {},
   "outputs": [],
   "source": []
  }
 ],
 "metadata": {
  "kernelspec": {
   "display_name": "conda-clevarenv",
   "language": "python",
   "name": "conda-clevarenv"
  },
  "language_info": {
   "codemirror_mode": {
    "name": "ipython",
    "version": 3
   },
   "file_extension": ".py",
   "mimetype": "text/x-python",
   "name": "python",
   "nbconvert_exporter": "python",
   "pygments_lexer": "ipython3",
   "version": "3.9.7"
  }
 },
 "nbformat": 4,
 "nbformat_minor": 5
}
