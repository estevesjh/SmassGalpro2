{
 "cells": [
  {
   "cell_type": "markdown",
   "id": "641997a9-35bb-47c6-88c8-823cc2c86ef8",
   "metadata": {},
   "source": [
    "# Create Data Vector: From Cosmosis Datablock\n",
    "\n",
    "To validate and test the y3 cluster pipeline we make a simplified mock data where they are an output for a fixed cosmology and mor."
   ]
  },
  {
   "cell_type": "code",
   "execution_count": 1,
   "id": "be250907-b731-4deb-99ac-c5ee6c5e8a6a",
   "metadata": {},
   "outputs": [],
   "source": [
    "#!/usr/bin/env python\n",
    "import os\n",
    "\n",
    "import sys\n",
    "import numpy as np\n",
    "import matplotlib.pyplot as plt\n",
    "from astropy.io.fits import getdata\n",
    "from astropy.table import Table\n",
    "from scipy.interpolate import interp1d"
   ]
  },
  {
   "cell_type": "code",
   "execution_count": 2,
   "id": "69a5e720-7869-44a4-85f7-ee7f722bfa3e",
   "metadata": {},
   "outputs": [],
   "source": [
    "# !pip3 install fitsio"
   ]
  },
  {
   "cell_type": "code",
   "execution_count": 3,
   "id": "a87199b8-8d4f-41a9-a46c-f3ba178322e6",
   "metadata": {},
   "outputs": [],
   "source": [
    "import matplotlib\n",
    "matplotlib.rc('xtick', labelsize=20, top=True, direction='in')\n",
    "matplotlib.rc('ytick', labelsize=20, right=True, direction='in')\n",
    "matplotlib.rc('axes', linewidth=1, labelsize=20)\n",
    "matplotlib.rc('xtick.major', size=5)\n",
    "#matplotlib.rc('xtick.minor', size=5)\n",
    "matplotlib.rc('ytick.major', size=5)\n",
    "#matplotlib.rc('ytick.minor', size=5)"
   ]
  },
  {
   "cell_type": "code",
   "execution_count": 4,
   "id": "3f8e4771-b53f-40a3-bb9c-7ab51ff8a6f0",
   "metadata": {},
   "outputs": [],
   "source": [
    "kw = {\n",
    "    'LogMass': r'log(M_{200c})',\n",
    "    'R': r'$R$ [Mpc]',\n",
    "    'DSigma': r'$\\Delta \\Sigma \\;\\; [M_{\\odot}/pc^2]$',\n",
    "    'Shear': r'\\gamma_{T} \\;'\n",
    "}"
   ]
  },
  {
   "cell_type": "code",
   "execution_count": 5,
   "id": "e4b46350-c315-40f0-9009-bfbf982ca338",
   "metadata": {},
   "outputs": [
    {
     "data": {
      "text/plain": [
       "FlatLambdaCDM(H0=70 km / (Mpc s), Om0=0.3, Tcmb0=2.725 K, Neff=3.04, m_nu=[0. 0. 0.] eV, Ob0=None)"
      ]
     },
     "execution_count": 5,
     "metadata": {},
     "output_type": "execute_result"
    }
   ],
   "source": [
    "from astropy.cosmology import FlatLambdaCDM\n",
    "cosmo0 = FlatLambdaCDM(H0=70, Om0=0.3, Tcmb0=2.725)\n",
    "const = 1.67e-7 * (0.3 * 0.7**2) # /Mpc^2\n",
    "rhom = const/6.01e-19  # Msun/Mpc^2\n",
    "\n",
    "cosmo0 "
   ]
  },
  {
   "cell_type": "code",
   "execution_count": 6,
   "id": "174a47c7-4189-4c6a-9013-348942648309",
   "metadata": {},
   "outputs": [
    {
     "name": "stdout",
     "output_type": "stream",
     "text": [
      "/global/cfs/cdirs/des/jesteves/codes/fnalFall2022/mocks/mock/datablock_0/\n"
     ]
    }
   ],
   "source": [
    "def get_block(model,col,dtype=None):\n",
    "    return np.genfromtxt(root+'%s/%s.txt'%(model.lower(), col),dtype=dtype)\n",
    "\n",
    "root = '/global/cfs/cdirs/des/jesteves/codes/fnalFall2022/mocks/mock/datablock_0/'\n",
    "print(root)"
   ]
  },
  {
   "cell_type": "markdown",
   "id": "5c007ca3-5846-41d8-8318-ef7619a649e5",
   "metadata": {
    "tags": []
   },
   "source": [
    "## $\\gamma_T$ Profiles"
   ]
  },
  {
   "cell_type": "code",
   "execution_count": 7,
   "id": "833a0bb1-c98a-45ad-ab88-23070eb0562a",
   "metadata": {},
   "outputs": [
    {
     "name": "stdout",
     "output_type": "stream",
     "text": [
      "errors.txt\tivol.txt      probs.txt   vals.txt\n",
      "gridpoints.txt\tnregions.txt  status.txt\n"
     ]
    }
   ],
   "source": [
    "!ls /global/common/software/des/jesteves/y3_cluster_cpp/y3_buzzard/datablock_0/kappa/"
   ]
  },
  {
   "cell_type": "code",
   "execution_count": null,
   "id": "3207618e-f514-45d2-94e6-13bcfe498a68",
   "metadata": {},
   "outputs": [],
   "source": [
    "_shear = get_block(\"kappa\", \"vals\")\n",
    "radii = get_block(\"kappa\", \"gridpoints\")[:,2]\n",
    "ncvals = get_block(\"numbercounts\", \"vals\")\n",
    "status = get_block(\"kappa\", \"status\")#.astype(int)\n",
    "\n",
    "# reshape\n",
    "radii = radii[:int(radii.size/3)]\n",
    "shear = _shear.reshape(4,3,radii.size)/ncvals[:,:,np.newaxis]"
   ]
  },
  {
   "cell_type": "code",
   "execution_count": null,
   "id": "19ac8056-55ea-4b14-86c6-827754a5b272",
   "metadata": {},
   "outputs": [],
   "source": [
    "plt.loglog()\n",
    "plt.scatter(radii, shear[0,0,:])\n",
    "plt.scatter(radii, shear[1,0,:])\n",
    "plt.scatter(radii, shear[2,0,:])\n",
    "plt.scatter(radii, shear[3,0,:])\n",
    "plt.xlim(0.2,7.)\n"
   ]
  },
  {
   "cell_type": "markdown",
   "id": "6415f29d-f4d8-4143-8020-b9cb046928ab",
   "metadata": {},
   "source": [
    "There is a missing factor!"
   ]
  },
  {
   "cell_type": "code",
   "execution_count": null,
   "id": "af722ab5-87dc-4689-84f2-758d7498c54a",
   "metadata": {},
   "outputs": [],
   "source": [
    "!ls /global/common/software/des/jesteves/y3_cluster_cpp/y3_buzzard/datablock_0/sigmacritinv/"
   ]
  },
  {
   "cell_type": "code",
   "execution_count": null,
   "id": "57398871-4713-446a-ac33-9edfd9934a59",
   "metadata": {},
   "outputs": [],
   "source": [
    "SCinv = get_block(\"sigmacritinv\",\"sigma_crit_inv\")[:,0]\n",
    "zsc = get_block(\"sigmacritinv\",\"z\")\n",
    "\n",
    "zbins = np.array([0.2,0.35,0.5,0.65])\n",
    "zmed = 0.5*(zbins[1:]+zbins[:-1])\n",
    "sigma_crit_inv = np.interp(zmed,zsc, SCinv)\n",
    "dSigma = shear/sigma_crit_inv[np.newaxis,:,np.newaxis]"
   ]
  },
  {
   "cell_type": "code",
   "execution_count": null,
   "id": "ea62fe18-f81e-4902-83e9-24d9e30e9662",
   "metadata": {},
   "outputs": [],
   "source": [
    "plt.loglog()\n",
    "plt.scatter(radii, dSigma[0,0,:])\n",
    "plt.scatter(radii, dSigma[1,0,:])\n",
    "plt.scatter(radii, dSigma[2,0,:])\n",
    "plt.scatter(radii, dSigma[3,0,:])\n",
    "plt.xlim(0.2,7.)\n",
    "plt.ylabel(kw['Shear'])"
   ]
  },
  {
   "cell_type": "code",
   "execution_count": null,
   "id": "e715a0af-33b7-468e-92ab-2ccc1b8853e9",
   "metadata": {},
   "outputs": [],
   "source": []
  },
  {
   "cell_type": "markdown",
   "id": "51af92ee-6429-4da1-a98b-084159d8c43f",
   "metadata": {},
   "source": [
    "# Compare With Colossus"
   ]
  },
  {
   "cell_type": "code",
   "execution_count": null,
   "id": "fd7e839d-fbfd-4f68-ac5c-e771d4fbc9a2",
   "metadata": {},
   "outputs": [],
   "source": [
    "from colossus.cosmology import cosmology\n",
    "h0=0.7\n",
    "params = {'flat': True, 'H0': 100*h0, 'Om0': 0.3, 'Ob0': 0.045, 'sigma8': 0.83, 'ns': 0.96}\n",
    "cosmology.addCosmology('myCosmo', **params)\n",
    "cosmocol = cosmology.setCosmology('myCosmo')"
   ]
  },
  {
   "cell_type": "code",
   "execution_count": null,
   "id": "2002b288-8a8e-42fc-a45e-d7dba5f11d19",
   "metadata": {},
   "outputs": [],
   "source": [
    "from colossus.halo import profile_nfw\n",
    "mass = 1e14\n",
    "scol = profile_nfw.NFWProfile(M = mass, c = 4., z = 0, mdef = 'vir').deltaSigma(1000*radii)/(1e3**2)/h0"
   ]
  },
  {
   "cell_type": "code",
   "execution_count": null,
   "id": "6c6750f0-98a0-471b-893a-831f3b25b3f9",
   "metadata": {},
   "outputs": [],
   "source": [
    "def duffy_concentration_relation(m_h, z_eff=0.4):\n",
    "    a_eff = 1/(1+z_eff)\n",
    "    m_h_pivot = 2e12\n",
    "    return 7.85*np.power(m_h/m_h_pivot,-0.081)*np.power(a_eff,0.71)"
   ]
  },
  {
   "cell_type": "code",
   "execution_count": null,
   "id": "48b8d515-24cc-44e5-b880-eb60114302d7",
   "metadata": {},
   "outputs": [],
   "source": [
    "from scipy.optimize import curve_fit\n",
    "def fit_mass(radii, lgM):\n",
    "    return profile_nfw.NFWProfile(M = 10**(lgM), c = 4., z = 0, mdef = 'vir').deltaSigma(1000*radii)/(1e3**2)/h0\n",
    "\n",
    "def plot_fit(radii, dsigma, **kwargs):\n",
    "    pars, _ = curve_fit(fit_mass, radii, dsigma, p0=[np.log10(1e14)])\n",
    "    c = duffy_concentration_relation(10**pars[0])\n",
    "    nfw = profile_nfw.NFWProfile(M = 10**(pars[0]), c = c, z = 0, mdef = 'vir').deltaSigma(1000*radii)/(1e3**2)/h0\n",
    "    plt.plot(radii, nfw, **kwargs)\n",
    "    print('Fitted log mass: %.2f'%pars[0])"
   ]
  },
  {
   "cell_type": "code",
   "execution_count": null,
   "id": "43a5a2f2-889c-45b4-97f6-a5524a618117",
   "metadata": {},
   "outputs": [],
   "source": [
    "label_zbins = ['%.2f < z < %.2f'%(zl,zh) for zl, zh in zip(zbins[:-1],zbins[1:])]\n",
    "label_zbins"
   ]
  },
  {
   "cell_type": "code",
   "execution_count": null,
   "id": "e8ae1790-5a45-46e6-93d5-fb243927dffc",
   "metadata": {},
   "outputs": [],
   "source": [
    "# print('Fixed Concentration 4')\n",
    "plt.figure(figsize=(15,5))\n",
    "\n",
    "\n",
    "for iz in range(3):\n",
    "    print('Redshift Bin %i'%iz)\n",
    "    plt.subplot(1,3,iz+1)\n",
    "    plt.loglog()\n",
    "    for i in range(4):\n",
    "        plt.scatter(radii, dSigma[i,iz,:])\n",
    "        plot_fit(radii, dSigma[i,iz,:])\n",
    "    plt.xlim(0.25,7.)\n",
    "    plt.xlabel(kw['R'])\n",
    "    plt.title(label_zbins[iz], fontsize=16)\n",
    "    if iz==0: \n",
    "        plt.ylabel(kw['DSigma'])\n",
    "        #plt.legend()\n",
    "    print()\n"
   ]
  },
  {
   "cell_type": "code",
   "execution_count": null,
   "id": "fa973a76-e622-4ca5-b4e7-586041be999c",
   "metadata": {},
   "outputs": [],
   "source": []
  },
  {
   "cell_type": "code",
   "execution_count": 19,
   "id": "384403ba-69a4-449e-8ce3-795690c48340",
   "metadata": {},
   "outputs": [
    {
     "name": "stdout",
     "output_type": "stream",
     "text": [
      "avgwp\t\t      correlationfunction      mass_function\t shear\n",
      "cdm_baryon_power_lin  cosmological_parameters  matter_power_lin  sigmacritinv\n",
      "cdm_baryon_power_nl   distances\t\t       matter_power_nl\t wp\n",
      "cluster_abundance     growth_parameters        numbercounts\n",
      "cmb_cl\t\t      kappa\t\t       recfast\n"
     ]
    }
   ],
   "source": [
    "!ls /global/common/software/des/jesteves/y3_cluster_cpp/y3_buzzard/datablock_0/"
   ]
  },
  {
   "cell_type": "code",
   "execution_count": null,
   "id": "815fbf67-87fc-4e95-8d50-8b2684d16515",
   "metadata": {},
   "outputs": [
    {
     "name": "stdout",
     "output_type": "stream",
     "text": [
      "a_s = 3.953989768081947e-09\u001b[m\n",
      "baryon_fraction = 0.18181818181818182\u001b[m\n",
      "cs2_de = 1.0\u001b[m\n",
      "h0 = 0.6725999999999999\u001b[m\n",
      "hubble = 67.25999999999999\u001b[m\n",
      "k = -0.0\u001b[m\n",
      "log1e10as = 3.97\u001b[m\n",
      "massive_nu = 0\u001b[m\n",
      "massless_nu = 3.046\u001b[m\n",
      "mnu = 0.0\u001b[m\n",
      "n_eff = 3.046\u001b[m\n",
      "n_s = 0.975589\u001b[m\n",
      "neutrino_hierarchy = 1\u001b[m\n",
      "nnu = 3.046\u001b[m\n",
      "num_massive_neutrinos = 3\u001b[m\n",
      "num_nu_massive = 0\u001b[m\n",
      "num_nu_massless = 3.046\u001b[m\n",
      "ombh2 = 0.0180956304\u001b[m\n",
      "omch2 = 0.0814303368\u001b[m\n",
      "omega_b = 0.040000000000000015\u001b[m\n",
      "omega_c = 0.18000000000000008\u001b[m\n",
      "omega_k = 0.0\u001b[m\n",
      "omega_lambda = 0.7799999999999999\u001b[m\n",
      "\u001b[7mpp/y3_buzzard/datablock_0/cosmological_parameters/values.txt lines 1-23/35 68%\u001b[m\u001b[K"
     ]
    }
   ],
   "source": [
    "!less /global/common/software/des/jesteves/y3_cluster_cpp/y3_buzzard/datablock_0/cosmological_parameters/values.txt"
   ]
  },
  {
   "cell_type": "code",
   "execution_count": null,
   "id": "abb8d1af-def5-4b85-aefb-9f11ece21f61",
   "metadata": {},
   "outputs": [],
   "source": []
  }
 ],
 "metadata": {
  "kernelspec": {
   "display_name": "conda-clevarenv",
   "language": "python",
   "name": "conda-clevarenv"
  },
  "language_info": {
   "codemirror_mode": {
    "name": "ipython",
    "version": 3
   },
   "file_extension": ".py",
   "mimetype": "text/x-python",
   "name": "python",
   "nbconvert_exporter": "python",
   "pygments_lexer": "ipython3",
   "version": "3.9.7"
  }
 },
 "nbformat": 4,
 "nbformat_minor": 5
}
