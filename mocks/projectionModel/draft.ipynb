{
 "cells": [
  {
   "cell_type": "markdown",
   "id": "1773d1b1-1cd5-4d7e-b236-7bb7e37d63a2",
   "metadata": {},
   "source": [
    "# Projection Effect Model\n",
    "\n",
    "If we assume an additive $\\Sigma$ projection profile term:\n",
    "$$\n",
    "\\Sigma_o = \\Sigma_t + \\Sigma_p\n",
    "$$\n",
    "\n",
    "But the question then is: how the projected component looks like? $\\Sigma_p$"
   ]
  },
  {
   "cell_type": "markdown",
   "id": "c661c521-6827-4dfd-8072-bc4e1e26d3af",
   "metadata": {},
   "source": [
    "## Optical Selection Bias\n",
    "\n",
    "The optical selection can gives us a hint to constraint the functional form of the projected component. From the previous we can write:\n",
    "$$\n",
    "bias = \\Sigma_o / \\Sigma_t = 1+\\Sigma_p / \\Sigma_t\n",
    "$$\n",
    "\n",
    "Then, using Park et al. 2022 functional form we have:\n",
    "$$\n",
    "bias(R)= \\begin{cases}b_0\\left(R / R_0\\right) & \\text { for } R \\leq R_0 \\\\ b_0+c \\ln \\left(R / R_0\\right) & \\text { for } R>R_0\\end{cases}\n",
    "$$\n",
    "\n",
    "Putting everything together:\n",
    "\n",
    "$$\n",
    "\\Sigma_p = \\Sigma_t \\times (bias -1)\n",
    "$$\n",
    "\n",
    "We have basically, a NFW multiplied by a radial linear and a log-linear radial depedence.\n",
    "\n",
    "## Projection from Percolation\n",
    "The optical selection bias has a feature around the percolation radius. This selection effect might stem from additional halos excluded by the redMaPPer selection. \n",
    "\n",
    "To model the projection we assume a NFW profile for the projection term. In addtion is an off-axis mass density profile. Then, we can model as mis-centered NFW at the percolation radius. "
   ]
  },
  {
   "cell_type": "code",
   "execution_count": 1,
   "id": "0e50fd94-51f9-4386-9282-97e0460ca0fe",
   "metadata": {},
   "outputs": [],
   "source": [
    "import numpy as np\n",
    "import matplotlib.pyplot as plt\n",
    "import seaborn as sns"
   ]
  },
  {
   "cell_type": "code",
   "execution_count": 2,
   "id": "f7f74b0c-7a51-4a73-8865-ce9cb28a7100",
   "metadata": {},
   "outputs": [],
   "source": [
    "sns.set_context('talk')"
   ]
  },
  {
   "cell_type": "code",
   "execution_count": null,
   "id": "5b717178-2f6b-400f-bd70-4dd2f961a1e5",
   "metadata": {},
   "outputs": [],
   "source": []
  },
  {
   "cell_type": "code",
   "execution_count": 3,
   "id": "2985eb86-ac61-4910-b3d8-0bd8265d76e8",
   "metadata": {},
   "outputs": [],
   "source": [
    "## true component\n",
    "import cluster_toolkit as ct\n",
    "omega_m = 0.3 \n",
    "Mt = 1e14\n",
    "c = 4.\n",
    "\n",
    "R = np.logspace(np.log10(0.1),np.log10(10.),100)\n",
    "st = ct.deltasigma.Sigma_nfw_at_R(R, Mt, c, omega_m)\n"
   ]
  },
  {
   "cell_type": "code",
   "execution_count": 4,
   "id": "b50ee673-ff18-42ec-a223-ee27be6de845",
   "metadata": {},
   "outputs": [],
   "source": [
    "# Park et al. 2021 pars\n",
    "def calculate_bias(R, R_0, Pi_0, c):\n",
    "    conditions = [R <= R_0, R > R_0]\n",
    "    formulas = [lambda R: 1+ Pi_0 * (R / R_0), lambda R: 1+Pi_0 + c * np.log(R / R_0)]\n",
    "    return np.piecewise(R, conditions, formulas)\n",
    "\n",
    "r0 = 2.\n",
    "b0 = 0.18\n",
    "c = -0.08\n",
    "\n",
    "bias = calculate_bias(R, r0, b0, c)"
   ]
  },
  {
   "cell_type": "code",
   "execution_count": 5,
   "id": "4c00a9ba-b104-4f30-98b7-47056ee0c939",
   "metadata": {},
   "outputs": [
    {
     "data": {
      "text/plain": [
       "<matplotlib.legend.Legend at 0x7f1da5de4c40>"
      ]
     },
     "execution_count": 5,
     "metadata": {},
     "output_type": "execute_result"
    },
    {
     "data": {
      "image/png": "[encoded data removed]",
      "text/plain": [
       "<Figure size 432x288 with 1 Axes>"
      ]
     },
     "metadata": {
      "needs_background": "light"
     },
     "output_type": "display_data"
    }
   ],
   "source": [
    "plt.loglog()\n",
    "plt.plot(R, st, 'k', lw=2, label='NFW')\n",
    "plt.plot(R, st*(bias-1), 'tab:blue', ls='--', lw=2, label='Park et al.')\n",
    "plt.ylabel(r'$\\Sigma \\, \\, [M_\\odot pc^2]$')\n",
    "plt.xlabel(r'$R \\, \\, [Mpc]$')\n",
    "plt.legend()"
   ]
  },
  {
   "cell_type": "markdown",
   "id": "8f6979bb-19f6-436d-86db-b34f005a1fa0",
   "metadata": {},
   "source": [
    "## Mis-centered?\n",
    "\n",
    "Would be the Park et al. functional form a mis-centered NFW ?"
   ]
  },
  {
   "cell_type": "code",
   "execution_count": 6,
   "id": "072e7b32-ba3f-4387-8461-a4e2a3211d81",
   "metadata": {},
   "outputs": [],
   "source": [
    "#Calculate Rp and Sigma here, where Sigma is centered\n",
    "Rmis = 1.15 #Mpc/h; typical value\n",
    "Msub = 0.78e13\n",
    "ssub = ct.deltasigma.Sigma_nfw_at_R(R, Msub, c, omega_m)\n",
    "Sigma_mis_single = ct.miscentering.Sigma_mis_at_R(R, R, ssub, Msub, c, omega_m, Rmis)\n",
    "Sigma_mis_single"
   ]
  },
  {
   "cell_type": "code",
   "execution_count": 23,
   "id": "8c09fbd5-5311-4342-ac7a-7281fb7ed5bc",
   "metadata": {},
   "outputs": [],
   "source": [
    "# help(ct.miscentering.Sigma_mis_at_R)"
   ]
  },
  {
   "cell_type": "code",
   "execution_count": 49,
   "id": "25bc3cc3-625d-4f3e-969d-ab20ac9d6d65",
   "metadata": {},
   "outputs": [],
   "source": [
    "Sigma_mis_single = np.array([0.99772822, 0.99833728, 0.99900659, 0.99974218, 1.00055074,\n",
    "       1.00143964, 1.00241703, 1.00349189, 1.0046742 , 1.00597498,\n",
    "       1.00740646, 1.0089822 , 1.01071724, 1.0126283 , 1.01473401,\n",
    "       1.0170551 , 1.01961473, 1.02243876, 1.02555612, 1.02899931,\n",
    "       1.03280486, 1.0370139 , 1.04167288, 1.04683443, 1.05255826,\n",
    "       1.05891244, 1.06597485, 1.07383478, 1.08259521, 1.09237539,\n",
    "       1.10331402, 1.11557351, 1.12934493, 1.14485481, 1.16237352,\n",
    "       1.18222638, 1.20480838, 1.23060388, 1.26021314, 1.29438964,\n",
    "       1.33409206, 1.38055929, 1.43542143, 1.50086741, 1.57990749,\n",
    "       1.67679902, 1.79776751, 1.95227681, 2.15556513, 2.4335259 ,\n",
    "       2.83446226, 3.45964526, 4.56348437, 4.45525852, 3.14719866,\n",
    "       2.3806434 , 1.87892223, 1.52632563, 1.26595589, 1.0665705 ,\n",
    "       0.90958799, 0.78326457, 0.67981392, 0.59386972, 0.52161309,\n",
    "       0.46025224, 0.40769891, 0.36235965, 0.32299755, 0.28863773,\n",
    "       0.25850136, 0.23195881, 0.20849554, 0.18768696, 0.16917964,\n",
    "       0.15267709, 0.13792868, 0.12472129, 0.11287247, 0.10222529,\n",
    "       0.09264401, 0.0840107 , 0.0762225 , 0.06918932, 0.06283197,\n",
    "       0.05708065, 0.05187362, 0.04715613, 0.04287953, 0.03900044,\n",
    "       0.03548017, 0.03228408, 0.02938114, 0.02674348, 0.0243462 ,\n",
    "       0.02216617, 0.02018535, 0.01500919, 0.01138702, 0.00845309])"
   ]
  },
  {
   "cell_type": "code",
   "execution_count": 53,
   "id": "de30bf65-ef18-44a7-bef0-8292da842859",
   "metadata": {},
   "outputs": [
    {
     "data": {
      "text/plain": [
       "Text(0.5, 1.0, '$R_{mis}=1.15\\\\, Mpc$, $M_{sub,200}=7.8 x 10^{12} M_{\\\\odot}$')"
      ]
     },
     "execution_count": 53,
     "metadata": {},
     "output_type": "execute_result"
    },
    {
     "data": {
      "image/png": "[encoded data removed]",
      "text/plain": [
       "<Figure size 432x288 with 1 Axes>"
      ]
     },
     "metadata": {
      "needs_background": "light"
     },
     "output_type": "display_data"
    }
   ],
   "source": [
    "plt.loglog()\n",
    "plt.plot(R, st, 'k', lw=2, label='NFW')\n",
    "# plt.plot(R, st+st*(bias-1), 'k--', lw=2, label='Sum')\n",
    "plt.plot(R, st*(bias-1), 'tab:blue', ls='--', lw=2, label='Park et al.')\n",
    "# plt.plot(R, 1.0*Sigma_mis_single, 'tab:red', ls='--', lw=2, label='Misc NFW')\n",
    "plt.plot(R, 1.0*Sigma_mis2, 'tab:red', ls='--', lw=2, label='Misc NFW')\n",
    "plt.ylabel(r'$\\Sigma \\, \\, [M_\\odot pc^2]$')\n",
    "plt.xlabel(r'$R \\, \\, [Mpc]$')\n",
    "plt.legend(fontsize=12)\n",
    "plt.title('$R_{mis}=1.15\\, Mpc$, $M_{sub,200}=7.8 x 10^{12} M_{\\odot}$',fontsize=16)"
   ]
  },
  {
   "cell_type": "code",
   "execution_count": 17,
   "id": "f664da47-23be-4fe4-8001-61f0dfe588c7",
   "metadata": {},
   "outputs": [
    {
     "data": {
      "text/plain": [
       "array([2.07482824, 2.09383627, 2.11142566, 2.12753169, 2.14209266,\n",
       "       2.15505033, 2.16635036, 2.17594267, 2.18378193, 2.18982783,\n",
       "       2.19404555, 2.19640598, 2.19688609, 2.19546914, 2.1921449 ,\n",
       "       2.18690982, 2.17976714, 2.17072695, 2.1598062 , 2.14702867,\n",
       "       2.13242488, 2.11603189, 2.09789315, 2.07805823, 2.05658249,\n",
       "       2.03352676, 2.00895696, 1.98294365, 1.95556159, 1.92688924,\n",
       "       1.89700828, 1.8660031 , 1.83396023, 1.80096787, 1.7671153 ,\n",
       "       1.73249245, 1.69718929, 1.66129543, 1.62489961, 1.58808928,\n",
       "       1.55095017, 1.51356595, 1.47601785, 1.43838434, 1.40074092,\n",
       "       1.36315983, 1.32570984, 1.28845615, 1.25146021, 1.21477963,\n",
       "       1.17846815, 1.14257559, 1.10714783, 1.07222686, 1.03785085,\n",
       "       1.00405415, 0.97086746, 0.93831787, 0.90642903, 0.87522126,\n",
       "       0.8447117 , 0.81491445, 0.78584074, 0.75749909, 0.72989547,\n",
       "       0.67524712, 0.60761814, 0.54632131, 0.49080797, 0.44057213,\n",
       "       0.39514777, 0.35410609, 0.31705309, 0.28362706, 0.25349634,\n",
       "       0.22635714, 0.20193146, 0.17996516, 0.16022615, 0.14250266,\n",
       "       0.12660164, 0.11234728, 0.09957958, 0.08815308, 0.07793565,\n",
       "       0.06880733, 0.06065934, 0.05339311, 0.04691936, 0.04115732,\n",
       "       0.03603396, 0.0314833 , 0.02744576, 0.02386762, 0.02070042,\n",
       "       0.01790052, 0.01542865, 0.01324946, 0.01133119, 0.00964532])"
      ]
     },
     "execution_count": 17,
     "metadata": {},
     "output_type": "execute_result"
    }
   ],
   "source": [
    "st*(bias-1)"
   ]
  },
  {
   "cell_type": "code",
   "execution_count": 29,
   "id": "8523c9e3-feb6-48f4-9852-cdcaa9d6a4bc",
   "metadata": {},
   "outputs": [],
   "source": [
    "Sigma_mis2 = np.array([2.07856995, 2.07799345, 2.07734906, 2.07664349, 2.07586977,\n",
    "       2.07502177, 2.07408845, 2.07306714, 2.07194665, 2.07071743,\n",
    "       2.06936955, 2.06788925, 2.06626932, 2.06449192, 2.0625422 ,\n",
    "       2.06040637, 2.05806246, 2.05549847, 2.05268435, 2.04960241,\n",
    "       2.04622628, 2.04252312, 2.03847481, 2.03403902, 2.02905256,\n",
    "       2.02386992, 2.01805484, 2.01168165, 2.00474211, 1.9971409 ,\n",
    "       1.98935453, 1.97976901, 1.96986807, 1.95906789, 1.94728977,\n",
    "       1.93445646, 1.92047946, 1.9052723 , 1.88875521, 1.87078029,\n",
    "       1.8512922 , 1.83016562, 1.80729622, 1.78256642, 1.75586404,\n",
    "       1.72708704, 1.69611662, 1.66285382, 1.62720168, 1.58907212,\n",
    "       1.54840019, 1.50513302, 1.45924067, 1.41072285, 1.35961089,\n",
    "       1.30597568, 1.24993054, 1.19161934, 1.13131079, 1.06922141,\n",
    "       1.00569737, 0.94112518, 0.87594625, 0.81064553, 0.74577703,\n",
    "       0.68188299, 0.61954551, 0.55934157, 0.50181338, 0.44746023,\n",
    "       0.39671081, 0.34990078, 0.30725494, 0.26888885, 0.23479745,\n",
    "       0.20483749, 0.17878272, 0.15631827, 0.13707172, 0.12064327,\n",
    "       0.10662934, 0.0946488 , 0.08435821, 0.07546183, 0.0677144 ,\n",
    "       0.06091782, 0.0549161 , 0.04958571, 0.04482998, 0.0405687 ,\n",
    "       0.0367318 , 0.03326573, 0.03010162, 0.02715866, 0.02434896,\n",
    "       0.02155488, 0.01864554, 0.01552335, 0.01218687, 0.00879833])"
   ]
  },
  {
   "cell_type": "code",
   "execution_count": null,
   "id": "dca4852c-7140-4026-a26b-46acd06416ae",
   "metadata": {},
   "outputs": [],
   "source": [
    "#Calculate Rp and Sigma here, where Sigma is centered\n",
    "Rmis = 1.15 #Mpc/h; typical value\n",
    "Msub = 0.78e13\n",
    "ssub = ct.deltasigma.Sigma_nfw_at_R(R, Msub, c, omega_m)\n",
    "Sigma_mis_single = ct.miscentering.Sigma_mis_single_at_R(R, R, ssub, Msub, c, omega_m, Rmis)\n",
    "Sigma_mis_single"
   ]
  }
 ],
 "metadata": {
  "kernelspec": {
   "display_name": "conda-clevarenv",
   "language": "python",
   "name": "conda-clevarenv"
  },
  "language_info": {
   "codemirror_mode": {
    "name": "ipython",
    "version": 3
   },
   "file_extension": ".py",
   "mimetype": "text/x-python",
   "name": "python",
   "nbconvert_exporter": "python",
   "pygments_lexer": "ipython3",
   "version": "3.9.7"
  }
 },
 "nbformat": 4,
 "nbformat_minor": 5
}
